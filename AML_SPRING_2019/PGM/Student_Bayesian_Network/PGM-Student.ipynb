{
 "cells": [
  {
   "cell_type": "code",
   "execution_count": 2,
   "metadata": {},
   "outputs": [],
   "source": [
    "from pgmpy.models import BayesianModel\n",
    "from pgmpy.factors.discrete import TabularCPD"
   ]
  },
  {
   "cell_type": "code",
   "execution_count": 3,
   "metadata": {},
   "outputs": [],
   "source": [
    "student = BayesianModel()\n",
    "student.add_nodes_from(['diff', 'intel', 'grade','sat','letter','apply','job'])\n",
    "student.add_edges_from([('diff', 'grade'), ('intel', 'grade'), ('intel', 'sat'), ('grade', 'letter'),('apply', 'job'),('letter','job'),('sat','job')])\n"
   ]
  },
  {
   "cell_type": "code",
   "execution_count": 4,
   "metadata": {},
   "outputs": [
    {
     "name": "stdout",
     "output_type": "stream",
     "text": [
      "+--------+-----+\n",
      "| diff_0 | 0.6 |\n",
      "+--------+-----+\n",
      "| diff_1 | 0.4 |\n",
      "+--------+-----+\n"
     ]
    }
   ],
   "source": [
    "cpd_diff = TabularCPD('diff',2,[[0.6],\n",
    "                                [0.4]],\n",
    "                                evidence=[], evidence_card=[])\n",
    "print(cpd_diff)"
   ]
  },
  {
   "cell_type": "code",
   "execution_count": 5,
   "metadata": {},
   "outputs": [
    {
     "name": "stdout",
     "output_type": "stream",
     "text": [
      "+---------+-----+\n",
      "| intel_0 | 0.1 |\n",
      "+---------+-----+\n",
      "| intel_1 | 0.9 |\n",
      "+---------+-----+\n"
     ]
    }
   ],
   "source": [
    "cpd_intel = TabularCPD('intel',2,[[0.1],\n",
    "                                [0.9]],\n",
    "                                evidence=[], evidence_card=[])\n",
    "print(cpd_intel)"
   ]
  },
  {
   "cell_type": "code",
   "execution_count": 6,
   "metadata": {},
   "outputs": [
    {
     "name": "stdout",
     "output_type": "stream",
     "text": [
      "+---------+---------+---------+---------+---------+\n",
      "| intel   | intel_0 | intel_0 | intel_1 | intel_1 |\n",
      "+---------+---------+---------+---------+---------+\n",
      "| diff    | diff_0  | diff_1  | diff_0  | diff_1  |\n",
      "+---------+---------+---------+---------+---------+\n",
      "| grade_0 | 0.3     | 0.05    | 0.9     | 0.5     |\n",
      "+---------+---------+---------+---------+---------+\n",
      "| grade_1 | 0.4     | 0.25    | 0.08    | 0.3     |\n",
      "+---------+---------+---------+---------+---------+\n",
      "| grade_2 | 0.3     | 0.7     | 0.02    | 0.2     |\n",
      "+---------+---------+---------+---------+---------+\n"
     ]
    }
   ],
   "source": [
    "cpd_grade = TabularCPD('grade',3,[[0.3,0.05,0.9,0.5],\n",
    "                                    [0.4,0.25,0.08,0.3],\n",
    "                                    [0.3,0.7,0.02,0.2]],\n",
    "                                    evidence=['intel', 'diff'], evidence_card=[2,2])\n",
    "print(cpd_grade)"
   ]
  },
  {
   "cell_type": "code",
   "execution_count": 7,
   "metadata": {},
   "outputs": [
    {
     "name": "stdout",
     "output_type": "stream",
     "text": [
      "+-------+---------+---------+\n",
      "| intel | intel_0 | intel_1 |\n",
      "+-------+---------+---------+\n",
      "| sat_0 | 0.95    | 0.2     |\n",
      "+-------+---------+---------+\n",
      "| sat_1 | 0.05    | 0.8     |\n",
      "+-------+---------+---------+\n"
     ]
    }
   ],
   "source": [
    "cpd_sat = TabularCPD('sat',2,[[0.95, 0.2],\n",
    "                              [0.05, 0.8]],\n",
    "                              evidence=['intel'], evidence_card=[2])\n",
    "print(cpd_sat)"
   ]
  },
  {
   "cell_type": "code",
   "execution_count": 8,
   "metadata": {},
   "outputs": [
    {
     "name": "stdout",
     "output_type": "stream",
     "text": [
      "+----------+---------+---------+---------+\n",
      "| grade    | grade_0 | grade_1 | grade_2 |\n",
      "+----------+---------+---------+---------+\n",
      "| letter_0 | 0.1     | 0.4     | 0.99    |\n",
      "+----------+---------+---------+---------+\n",
      "| letter_1 | 0.9     | 0.6     | 0.01    |\n",
      "+----------+---------+---------+---------+\n"
     ]
    }
   ],
   "source": [
    "cpd_letter = TabularCPD('letter',2,[[0.1, 0.4, 0.99],\n",
    "                                    [0.9, 0.6, 0.01]],\n",
    "                                    evidence=['grade'], evidence_card=[3])\n",
    "print(cpd_letter)"
   ]
  },
  {
   "cell_type": "code",
   "execution_count": 9,
   "metadata": {},
   "outputs": [
    {
     "name": "stdout",
     "output_type": "stream",
     "text": [
      "+---------+-----+\n",
      "| apply_0 | 0.4 |\n",
      "+---------+-----+\n",
      "| apply_1 | 0.6 |\n",
      "+---------+-----+\n"
     ]
    }
   ],
   "source": [
    "cpd_apply = TabularCPD('apply',2,[[0.4],\n",
    "                                  [0.6]],\n",
    "                                  evidence=[], evidence_card=[])\n",
    "print(cpd_apply)"
   ]
  },
  {
   "cell_type": "code",
   "execution_count": 10,
   "metadata": {},
   "outputs": [
    {
     "name": "stdout",
     "output_type": "stream",
     "text": [
      "+--------+----------+----------+----------+----------+----------+----------+----------+----------+\n",
      "| apply  | apply_0  | apply_0  | apply_0  | apply_0  | apply_1  | apply_1  | apply_1  | apply_1  |\n",
      "+--------+----------+----------+----------+----------+----------+----------+----------+----------+\n",
      "| sat    | sat_0    | sat_0    | sat_1    | sat_1    | sat_0    | sat_0    | sat_1    | sat_1    |\n",
      "+--------+----------+----------+----------+----------+----------+----------+----------+----------+\n",
      "| letter | letter_0 | letter_1 | letter_0 | letter_1 | letter_0 | letter_1 | letter_0 | letter_1 |\n",
      "+--------+----------+----------+----------+----------+----------+----------+----------+----------+\n",
      "| job_0  | 0.8      | 0.8      | 0.8      | 0.8      | 0.9      | 0.4      | 0.1      | 0.1      |\n",
      "+--------+----------+----------+----------+----------+----------+----------+----------+----------+\n",
      "| job_1  | 0.2      | 0.2      | 0.2      | 0.2      | 0.1      | 0.6      | 0.9      | 0.9      |\n",
      "+--------+----------+----------+----------+----------+----------+----------+----------+----------+\n"
     ]
    }
   ],
   "source": [
    "cpd_job = TabularCPD('job',2,[[0.8, 0.8, 0.8, 0.8, 0.9, 0.4, 0.1, 0.1],\n",
    "                              [0.2, 0.2, 0.2, 0.2, 0.1, 0.6, 0.9, 0.9]],\n",
    "                              evidence=['apply','sat','letter'], evidence_card=[2,2,2])\n",
    "print(cpd_job)"
   ]
  },
  {
   "cell_type": "code",
   "execution_count": 11,
   "metadata": {},
   "outputs": [],
   "source": [
    "student.add_cpds(cpd_diff,cpd_intel, cpd_grade, cpd_sat, cpd_letter, cpd_apply, cpd_job)"
   ]
  },
  {
   "cell_type": "code",
   "execution_count": 12,
   "metadata": {},
   "outputs": [],
   "source": [
    "from pgmpy.inference import VariableElimination\n",
    "inference = VariableElimination(student)"
   ]
  },
  {
   "cell_type": "markdown",
   "metadata": {},
   "source": [
    "<img src=\"images/1.png\">"
   ]
  },
  {
   "cell_type": "code",
   "execution_count": 13,
   "metadata": {},
   "outputs": [
    {
     "name": "stdout",
     "output_type": "stream",
     "text": [
      "{'intel': 1, 'sat': 1, 'job': 1, 'letter': 1, 'apply': 1, 'grade': 0, 'diff': 0}\n"
     ]
    }
   ],
   "source": [
    "mle = inference.map_query(variables={'intel','diff','grade','sat','letter','apply','job'},\n",
    "                          evidence={})\n",
    "print(mle)"
   ]
  },
  {
   "cell_type": "code",
   "execution_count": 14,
   "metadata": {},
   "outputs": [
    {
     "name": "stdout",
     "output_type": "stream",
     "text": [
      "+-------+------------+\n",
      "| job   |   phi(job) |\n",
      "+=======+============+\n",
      "| job_0 |     0.4595 |\n",
      "+-------+------------+\n",
      "| job_1 |     0.5405 |\n",
      "+-------+------------+\n"
     ]
    }
   ],
   "source": [
    "mle = inference.query(variables={'intel','diff','grade','sat','letter','apply','job'},\n",
    "                          evidence={})\n",
    "print(mle['job'])"
   ]
  },
  {
   "cell_type": "markdown",
   "metadata": {},
   "source": [
    "<img src=\"images/2.png\">"
   ]
  },
  {
   "cell_type": "code",
   "execution_count": 15,
   "metadata": {},
   "outputs": [
    {
     "name": "stdout",
     "output_type": "stream",
     "text": [
      "{'intel': 1, 'sat': 1, 'letter': 1, 'apply': 1, 'grade': 0, 'diff': 0}\n"
     ]
    }
   ],
   "source": [
    "mle = inference.map_query(variables={'intel','diff','grade','sat','letter','apply'},\n",
    "                          evidence={'job': 1})\n",
    "print(mle)"
   ]
  },
  {
   "cell_type": "code",
   "execution_count": 16,
   "metadata": {},
   "outputs": [
    {
     "name": "stdout",
     "output_type": "stream",
     "text": [
      "+---------+--------------+\n",
      "| intel   |   phi(intel) |\n",
      "+=========+==============+\n",
      "| intel_0 |       0.0508 |\n",
      "+---------+--------------+\n",
      "| intel_1 |       0.9492 |\n",
      "+---------+--------------+\n",
      "+--------+-------------+\n",
      "| diff   |   phi(diff) |\n",
      "+========+=============+\n",
      "| diff_0 |      0.6094 |\n",
      "+--------+-------------+\n",
      "| diff_1 |      0.3906 |\n",
      "+--------+-------------+\n",
      "+---------+--------------+\n",
      "| grade   |   phi(grade) |\n",
      "+=========+==============+\n",
      "| grade_0 |       0.7277 |\n",
      "+---------+--------------+\n",
      "| grade_1 |       0.1777 |\n",
      "+---------+--------------+\n",
      "| grade_2 |       0.0946 |\n",
      "+---------+--------------+\n",
      "+-------+------------+\n",
      "| sat   |   phi(sat) |\n",
      "+=======+============+\n",
      "| sat_0 |     0.1684 |\n",
      "+-------+------------+\n",
      "| sat_1 |     0.8316 |\n",
      "+-------+------------+\n",
      "+---------+--------------+\n",
      "| apply   |   phi(apply) |\n",
      "+=========+==============+\n",
      "| apply_0 |       0.1480 |\n",
      "+---------+--------------+\n",
      "| apply_1 |       0.8520 |\n",
      "+---------+--------------+\n"
     ]
    }
   ],
   "source": [
    "mle = inference.query(variables={'intel','diff','grade','sat','letter','apply'},\n",
    "                          evidence={'job': 1})\n",
    "print(mle['intel'])\n",
    "print(mle['diff'])\n",
    "print(mle['grade'])\n",
    "print(mle['sat'])\n",
    "print(mle['apply'])"
   ]
  },
  {
   "cell_type": "markdown",
   "metadata": {},
   "source": [
    "<img src=\"images/3.png\">"
   ]
  },
  {
   "cell_type": "code",
   "execution_count": 17,
   "metadata": {},
   "outputs": [
    {
     "name": "stdout",
     "output_type": "stream",
     "text": [
      "{'intel': 1}\n"
     ]
    }
   ],
   "source": [
    "mle = inference.map_query(variables={'intel'},\n",
    "                          evidence={'job': 1})\n",
    "print(mle)"
   ]
  },
  {
   "cell_type": "code",
   "execution_count": 18,
   "metadata": {},
   "outputs": [
    {
     "name": "stdout",
     "output_type": "stream",
     "text": [
      "+---------+--------------+\n",
      "| intel   |   phi(intel) |\n",
      "+=========+==============+\n",
      "| intel_0 |       0.0508 |\n",
      "+---------+--------------+\n",
      "| intel_1 |       0.9492 |\n",
      "+---------+--------------+\n"
     ]
    }
   ],
   "source": [
    "mle = inference.query(variables={'intel'},\n",
    "                          evidence={'job': 1})\n",
    "print(mle['intel'])"
   ]
  },
  {
   "cell_type": "code",
   "execution_count": 19,
   "metadata": {},
   "outputs": [
    {
     "data": {
      "text/plain": [
       "0.005540399999999999"
      ]
     },
     "execution_count": 19,
     "metadata": {},
     "output_type": "execute_result"
    }
   ],
   "source": [
    "def joint_probability_all(diff_value, intel_value, grade_value, letter_value, sat_value, apply_value, job_value):\n",
    "\n",
    "    joint_prob = 1 \n",
    "    \n",
    "    variables = ['diff','intel','grade','letter','sat','apply','job']\n",
    "\n",
    "    if 'diff' in variables:\n",
    "        joint_prob = joint_prob * cpd_diff.values[diff_value]\n",
    "#         print(cpd_diff.values[diff_value])\n",
    "\n",
    "    if 'intel' in variables:\n",
    "        joint_prob = joint_prob * cpd_intel.values[intel_value]\n",
    "#         print(cpd_intel.values[intel_value])\n",
    "\n",
    "    if 'grade' in variables:\n",
    "        joint_prob = joint_prob * cpd_grade.values[grade_value][intel_value][diff_value]\n",
    "#         print(cpd_grade.values[grade_value][intel_value][diff_value])\n",
    "\n",
    "    if 'letter' in variables:\n",
    "        joint_prob = joint_prob * cpd_letter.values[letter_value][grade_value]\n",
    "#         print(cpd_letter.values[letter_value][grade_value])\n",
    "\n",
    "    if 'sat' in variables:\n",
    "        joint_prob = joint_prob * cpd_sat.values[sat_value][intel_value]\n",
    "#         print(cpd_sat.values[sat_value][intel_value])\n",
    "\n",
    "    if 'apply' in variables:\n",
    "        joint_prob = joint_prob * cpd_apply.values[apply_value]\n",
    "#         print(cpd_apply.values[apply_value])\n",
    "\n",
    "    if 'job' in variables:\n",
    "        joint_prob = joint_prob * cpd_job.values[job_value][apply_value][sat_value][letter_value]\n",
    "#         print(cpd_job.values[job_value][apply_value][sat_value][letter_value])\n",
    "\n",
    "    return joint_prob\n",
    "\n",
    "joint_probability_all(0,0,0,1,0,1,1)"
   ]
  },
  {
   "cell_type": "code",
   "execution_count": 20,
   "metadata": {},
   "outputs": [],
   "source": [
    "import pandas as pd\n",
    "counter = 0\n",
    "max_prob = 0\n",
    "joint_probability_set = {'diff':[],'intel':[],'grade':[],'letter':[],'sat':[],'apply':[],'job':[], 'probability': []}\n",
    "\n",
    "\n",
    "for diff_value in [0,1]:\n",
    "    for intel_value in [0,1]:\n",
    "        for grade_value in [0,1,2]:\n",
    "            for letter_value in [0,1]:\n",
    "                for sat_value in [0,1]:\n",
    "                    for apply_value in [0,1]:\n",
    "                        for job_value in [0,1]:\n",
    "                            \n",
    "                            jp = joint_probability_all(diff_value, \n",
    "                                                        intel_value, \n",
    "                                                        grade_value, \n",
    "                                                        letter_value, \n",
    "                                                        sat_value, \n",
    "                                                        apply_value, \n",
    "                                                        job_value)\n",
    "                            \n",
    "                            joint_probability_set['diff'].append(diff_value)\n",
    "                            joint_probability_set['intel'].append(intel_value)\n",
    "                            joint_probability_set['grade'].append(grade_value)\n",
    "                            joint_probability_set['letter'].append(letter_value)\n",
    "                            joint_probability_set['sat'].append(sat_value)\n",
    "                            joint_probability_set['apply'].append(apply_value)\n",
    "                            joint_probability_set['job'].append(job_value)\n",
    "                            joint_probability_set['probability'].append(jp)\n",
    "                                \n",
    "#                             print(diff_value, \n",
    "#                                   intel_value, \n",
    "#                                   grade_value, \n",
    "#                                   letter_value,\n",
    "#                                   sat_value, \n",
    "#                                   apply_value,\n",
    "#                                   job_value,\n",
    "#                                   jp\n",
    "#                                   )\n",
    "joint_probability_df = pd.DataFrame(joint_probability_set)\n",
    "joint_probability_df.to_csv('joint_probability.csv')                         "
   ]
  },
  {
   "cell_type": "markdown",
   "metadata": {},
   "source": [
    "<img src=\"images/4.png\">"
   ]
  },
  {
   "cell_type": "code",
   "execution_count": 33,
   "metadata": {},
   "outputs": [],
   "source": [
    "from pgmpy.sampling import BayesianModelSampling\n",
    "\n",
    "forward_sampler = BayesianModelSampling(student)\n",
    "samples = forward_sampler.forward_sample(size=1000)"
   ]
  },
  {
   "cell_type": "markdown",
   "metadata": {},
   "source": [
    "<img src=\"images/5.png\">"
   ]
  },
  {
   "cell_type": "code",
   "execution_count": 22,
   "metadata": {},
   "outputs": [
    {
     "name": "stderr",
     "output_type": "stream",
     "text": [
      "Using TensorFlow backend.\n",
      "/Library/Frameworks/Python.framework/Versions/3.6/lib/python3.6/importlib/_bootstrap.py:219: RuntimeWarning: compiletime version 3.5 of module 'tensorflow.python.framework.fast_tensor_util' does not match runtime version 3.6\n",
      "  return f(*args, **kwds)\n"
     ]
    },
    {
     "name": "stdout",
     "output_type": "stream",
     "text": [
      "_________________________________________________________________\n",
      "Layer (type)                 Output Shape              Param #   \n",
      "=================================================================\n",
      "dense_1 (Dense)              (None, 2)                 4         \n",
      "=================================================================\n",
      "Total params: 4\n",
      "Trainable params: 4\n",
      "Non-trainable params: 0\n",
      "_________________________________________________________________\n"
     ]
    }
   ],
   "source": [
    "from keras.models import Sequential \n",
    "from keras.layers import Dense, Activation \n",
    "import pandas as pd\n",
    "\n",
    "output_dim = nb_classes = 2\n",
    "model = Sequential() \n",
    "model.add(Dense(output_dim, input_dim=1, activation='softmax')) \n",
    "batch_size = 10\n",
    "nb_epoch = 100\n",
    "model.summary()"
   ]
  },
  {
   "cell_type": "code",
   "execution_count": 23,
   "metadata": {},
   "outputs": [],
   "source": [
    "def datagen(student_sample, percentage_split):\n",
    "    X_train = []\n",
    "    Y_train = []\n",
    "    X_test = []\n",
    "    Y_test = []\n",
    "    \n",
    "    for index, sample in student_sample.iterrows():\n",
    "        if(index < int(samples.shape[0]*percentage_split/100)):\n",
    "            X_train.append([sample['job']])\n",
    "            temp = np.zeros(2)\n",
    "            temp[sample['intel']] = 1\n",
    "            Y_train.append(temp)\n",
    "        else:\n",
    "            X_test.append([sample['job']])  \n",
    "            temp = np.zeros(2)\n",
    "            temp[sample['intel']] = 1\n",
    "            Y_test.append(temp)\n",
    "    X_train = np.asarray(X_train)\n",
    "    Y_train = np.asarray(Y_train)\n",
    "    X_test = np.asarray(X_test)\n",
    "    Y_test = np.asarray(Y_test)\n",
    "    return (X_train,Y_train),(X_test,Y_test)\n"
   ]
  },
  {
   "cell_type": "code",
   "execution_count": 24,
   "metadata": {},
   "outputs": [],
   "source": [
    "model.compile(optimizer='sgd', loss='categorical_crossentropy', metrics=['accuracy']) "
   ]
  },
  {
   "cell_type": "code",
   "execution_count": 25,
   "metadata": {},
   "outputs": [
    {
     "name": "stderr",
     "output_type": "stream",
     "text": [
      "/Library/Frameworks/Python.framework/Versions/3.6/lib/python3.6/site-packages/ipykernel_launcher.py:4: UserWarning: The `nb_epoch` argument in `fit` has been renamed `epochs`.\n",
      "  after removing the cwd from sys.path.\n"
     ]
    },
    {
     "name": "stdout",
     "output_type": "stream",
     "text": [
      "Train on 800 samples, validate on 200 samples\n",
      "Epoch 1/100\n",
      "800/800 [==============================] - 0s 283us/step - loss: 0.5779 - acc: 0.8800 - val_loss: 0.4872 - val_acc: 0.8850\n",
      "Epoch 2/100\n",
      "800/800 [==============================] - 0s 90us/step - loss: 0.4530 - acc: 0.8850 - val_loss: 0.4108 - val_acc: 0.8850\n",
      "Epoch 3/100\n",
      "800/800 [==============================] - 0s 89us/step - loss: 0.4022 - acc: 0.8850 - val_loss: 0.3772 - val_acc: 0.8850\n",
      "Epoch 4/100\n",
      "800/800 [==============================] - 0s 94us/step - loss: 0.3782 - acc: 0.8850 - val_loss: 0.3604 - val_acc: 0.8850\n",
      "Epoch 5/100\n",
      "800/800 [==============================] - 0s 94us/step - loss: 0.3656 - acc: 0.8850 - val_loss: 0.3513 - val_acc: 0.8850\n",
      "Epoch 6/100\n",
      "800/800 [==============================] - 0s 81us/step - loss: 0.3584 - acc: 0.8850 - val_loss: 0.3460 - val_acc: 0.8850\n",
      "Epoch 7/100\n",
      "800/800 [==============================] - 0s 76us/step - loss: 0.3542 - acc: 0.8850 - val_loss: 0.3429 - val_acc: 0.8850\n",
      "Epoch 8/100\n",
      "800/800 [==============================] - 0s 73us/step - loss: 0.3517 - acc: 0.8850 - val_loss: 0.3410 - val_acc: 0.8850\n",
      "Epoch 9/100\n",
      "800/800 [==============================] - 0s 75us/step - loss: 0.3501 - acc: 0.8850 - val_loss: 0.3399 - val_acc: 0.8850\n",
      "Epoch 10/100\n",
      "800/800 [==============================] - 0s 84us/step - loss: 0.3492 - acc: 0.8850 - val_loss: 0.3392 - val_acc: 0.8850\n",
      "Epoch 11/100\n",
      "800/800 [==============================] - 0s 76us/step - loss: 0.3485 - acc: 0.8850 - val_loss: 0.3387 - val_acc: 0.8850\n",
      "Epoch 12/100\n",
      "800/800 [==============================] - 0s 78us/step - loss: 0.3481 - acc: 0.8850 - val_loss: 0.3384 - val_acc: 0.8850\n",
      "Epoch 13/100\n",
      "800/800 [==============================] - 0s 81us/step - loss: 0.3478 - acc: 0.8850 - val_loss: 0.3382 - val_acc: 0.8850\n",
      "Epoch 14/100\n",
      "800/800 [==============================] - 0s 84us/step - loss: 0.3476 - acc: 0.8850 - val_loss: 0.3381 - val_acc: 0.8850\n",
      "Epoch 15/100\n",
      "800/800 [==============================] - 0s 100us/step - loss: 0.3475 - acc: 0.8850 - val_loss: 0.3380 - val_acc: 0.8850\n",
      "Epoch 16/100\n",
      "800/800 [==============================] - 0s 91us/step - loss: 0.3474 - acc: 0.8850 - val_loss: 0.3379 - val_acc: 0.8850\n",
      "Epoch 17/100\n",
      "800/800 [==============================] - 0s 84us/step - loss: 0.3473 - acc: 0.8850 - val_loss: 0.3379 - val_acc: 0.8850\n",
      "Epoch 18/100\n",
      "800/800 [==============================] - 0s 75us/step - loss: 0.3473 - acc: 0.8850 - val_loss: 0.3379 - val_acc: 0.8850\n",
      "Epoch 19/100\n",
      "800/800 [==============================] - 0s 88us/step - loss: 0.3472 - acc: 0.8850 - val_loss: 0.3378 - val_acc: 0.8850\n",
      "Epoch 20/100\n",
      "800/800 [==============================] - 0s 83us/step - loss: 0.3472 - acc: 0.8850 - val_loss: 0.3378 - val_acc: 0.8850\n",
      "Epoch 21/100\n",
      "800/800 [==============================] - 0s 76us/step - loss: 0.3472 - acc: 0.8850 - val_loss: 0.3378 - val_acc: 0.8850\n",
      "Epoch 22/100\n",
      "800/800 [==============================] - 0s 77us/step - loss: 0.3472 - acc: 0.8850 - val_loss: 0.3378 - val_acc: 0.8850\n",
      "Epoch 23/100\n",
      "800/800 [==============================] - 0s 79us/step - loss: 0.3472 - acc: 0.8850 - val_loss: 0.3378 - val_acc: 0.8850\n",
      "Epoch 24/100\n",
      "800/800 [==============================] - 0s 79us/step - loss: 0.3472 - acc: 0.8850 - val_loss: 0.3378 - val_acc: 0.8850\n",
      "Epoch 25/100\n",
      "800/800 [==============================] - 0s 86us/step - loss: 0.3472 - acc: 0.8850 - val_loss: 0.3378 - val_acc: 0.8850\n",
      "Epoch 26/100\n",
      "800/800 [==============================] - 0s 97us/step - loss: 0.3472 - acc: 0.8850 - val_loss: 0.3378 - val_acc: 0.8850\n",
      "Epoch 27/100\n",
      "800/800 [==============================] - 0s 85us/step - loss: 0.3472 - acc: 0.8850 - val_loss: 0.3378 - val_acc: 0.8850\n",
      "Epoch 28/100\n",
      "800/800 [==============================] - 0s 79us/step - loss: 0.3472 - acc: 0.8850 - val_loss: 0.3378 - val_acc: 0.8850\n",
      "Epoch 29/100\n",
      "800/800 [==============================] - 0s 79us/step - loss: 0.3472 - acc: 0.8850 - val_loss: 0.3378 - val_acc: 0.8850\n",
      "Epoch 30/100\n",
      "800/800 [==============================] - 0s 87us/step - loss: 0.3472 - acc: 0.8850 - val_loss: 0.3378 - val_acc: 0.8850\n",
      "Epoch 31/100\n",
      "800/800 [==============================] - 0s 85us/step - loss: 0.3472 - acc: 0.8850 - val_loss: 0.3378 - val_acc: 0.8850\n",
      "Epoch 32/100\n",
      "800/800 [==============================] - 0s 80us/step - loss: 0.3472 - acc: 0.8850 - val_loss: 0.3378 - val_acc: 0.8850\n",
      "Epoch 33/100\n",
      "800/800 [==============================] - 0s 88us/step - loss: 0.3472 - acc: 0.8850 - val_loss: 0.3378 - val_acc: 0.8850\n",
      "Epoch 34/100\n",
      "800/800 [==============================] - 0s 88us/step - loss: 0.3471 - acc: 0.8850 - val_loss: 0.3378 - val_acc: 0.8850\n",
      "Epoch 35/100\n",
      "800/800 [==============================] - 0s 87us/step - loss: 0.3472 - acc: 0.8850 - val_loss: 0.3378 - val_acc: 0.8850\n",
      "Epoch 36/100\n",
      "800/800 [==============================] - 0s 81us/step - loss: 0.3472 - acc: 0.8850 - val_loss: 0.3378 - val_acc: 0.8850\n",
      "Epoch 37/100\n",
      "800/800 [==============================] - 0s 89us/step - loss: 0.3472 - acc: 0.8850 - val_loss: 0.3378 - val_acc: 0.8850\n",
      "Epoch 38/100\n",
      "800/800 [==============================] - 0s 90us/step - loss: 0.3472 - acc: 0.8850 - val_loss: 0.3377 - val_acc: 0.8850\n",
      "Epoch 39/100\n",
      "800/800 [==============================] - 0s 87us/step - loss: 0.3472 - acc: 0.8850 - val_loss: 0.3377 - val_acc: 0.8850\n",
      "Epoch 40/100\n",
      "800/800 [==============================] - 0s 78us/step - loss: 0.3472 - acc: 0.8850 - val_loss: 0.3377 - val_acc: 0.8850\n",
      "Epoch 41/100\n",
      "800/800 [==============================] - 0s 74us/step - loss: 0.3472 - acc: 0.8850 - val_loss: 0.3377 - val_acc: 0.8850\n",
      "Epoch 42/100\n",
      "800/800 [==============================] - 0s 76us/step - loss: 0.3472 - acc: 0.8850 - val_loss: 0.3377 - val_acc: 0.8850\n",
      "Epoch 43/100\n",
      "800/800 [==============================] - 0s 77us/step - loss: 0.3472 - acc: 0.8850 - val_loss: 0.3377 - val_acc: 0.8850\n",
      "Epoch 44/100\n",
      "800/800 [==============================] - 0s 76us/step - loss: 0.3472 - acc: 0.8850 - val_loss: 0.3377 - val_acc: 0.8850\n",
      "Epoch 45/100\n",
      "800/800 [==============================] - 0s 70us/step - loss: 0.3472 - acc: 0.8850 - val_loss: 0.3377 - val_acc: 0.8850\n",
      "Epoch 46/100\n",
      "800/800 [==============================] - 0s 69us/step - loss: 0.3472 - acc: 0.8850 - val_loss: 0.3377 - val_acc: 0.8850\n",
      "Epoch 47/100\n",
      "800/800 [==============================] - 0s 67us/step - loss: 0.3472 - acc: 0.8850 - val_loss: 0.3377 - val_acc: 0.8850\n",
      "Epoch 48/100\n",
      "800/800 [==============================] - 0s 72us/step - loss: 0.3472 - acc: 0.8850 - val_loss: 0.3377 - val_acc: 0.8850\n",
      "Epoch 49/100\n",
      "800/800 [==============================] - 0s 68us/step - loss: 0.3472 - acc: 0.8850 - val_loss: 0.3377 - val_acc: 0.8850\n",
      "Epoch 50/100\n",
      "800/800 [==============================] - 0s 72us/step - loss: 0.3472 - acc: 0.8850 - val_loss: 0.3377 - val_acc: 0.8850\n",
      "Epoch 51/100\n",
      "800/800 [==============================] - 0s 80us/step - loss: 0.3472 - acc: 0.8850 - val_loss: 0.3377 - val_acc: 0.8850\n",
      "Epoch 52/100\n",
      "800/800 [==============================] - 0s 79us/step - loss: 0.3472 - acc: 0.8850 - val_loss: 0.3377 - val_acc: 0.8850\n",
      "Epoch 53/100\n",
      "800/800 [==============================] - 0s 80us/step - loss: 0.3472 - acc: 0.8850 - val_loss: 0.3377 - val_acc: 0.8850\n",
      "Epoch 54/100\n",
      "800/800 [==============================] - 0s 80us/step - loss: 0.3472 - acc: 0.8850 - val_loss: 0.3377 - val_acc: 0.8850\n",
      "Epoch 55/100\n",
      "800/800 [==============================] - 0s 78us/step - loss: 0.3472 - acc: 0.8850 - val_loss: 0.3377 - val_acc: 0.8850\n",
      "Epoch 56/100\n",
      "800/800 [==============================] - 0s 76us/step - loss: 0.3471 - acc: 0.8850 - val_loss: 0.3377 - val_acc: 0.8850\n",
      "Epoch 57/100\n",
      "800/800 [==============================] - 0s 77us/step - loss: 0.3472 - acc: 0.8850 - val_loss: 0.3377 - val_acc: 0.8850\n",
      "Epoch 58/100\n",
      "800/800 [==============================] - 0s 76us/step - loss: 0.3471 - acc: 0.8850 - val_loss: 0.3377 - val_acc: 0.8850\n",
      "Epoch 59/100\n",
      "800/800 [==============================] - 0s 79us/step - loss: 0.3471 - acc: 0.8850 - val_loss: 0.3377 - val_acc: 0.8850\n",
      "Epoch 60/100\n",
      "800/800 [==============================] - 0s 78us/step - loss: 0.3472 - acc: 0.8850 - val_loss: 0.3377 - val_acc: 0.8850\n",
      "Epoch 61/100\n"
     ]
    },
    {
     "name": "stdout",
     "output_type": "stream",
     "text": [
      "800/800 [==============================] - 0s 80us/step - loss: 0.3472 - acc: 0.8850 - val_loss: 0.3377 - val_acc: 0.8850\n",
      "Epoch 62/100\n",
      "800/800 [==============================] - 0s 77us/step - loss: 0.3472 - acc: 0.8850 - val_loss: 0.3377 - val_acc: 0.8850\n",
      "Epoch 63/100\n",
      "800/800 [==============================] - 0s 72us/step - loss: 0.3472 - acc: 0.8850 - val_loss: 0.3377 - val_acc: 0.8850\n",
      "Epoch 64/100\n",
      "800/800 [==============================] - 0s 80us/step - loss: 0.3472 - acc: 0.8850 - val_loss: 0.3377 - val_acc: 0.8850\n",
      "Epoch 65/100\n",
      "800/800 [==============================] - 0s 78us/step - loss: 0.3471 - acc: 0.8850 - val_loss: 0.3377 - val_acc: 0.8850\n",
      "Epoch 66/100\n",
      "800/800 [==============================] - 0s 91us/step - loss: 0.3472 - acc: 0.8850 - val_loss: 0.3377 - val_acc: 0.8850\n",
      "Epoch 67/100\n",
      "800/800 [==============================] - 0s 73us/step - loss: 0.3472 - acc: 0.8850 - val_loss: 0.3377 - val_acc: 0.8850\n",
      "Epoch 68/100\n",
      "800/800 [==============================] - 0s 72us/step - loss: 0.3472 - acc: 0.8850 - val_loss: 0.3377 - val_acc: 0.8850\n",
      "Epoch 69/100\n",
      "800/800 [==============================] - 0s 64us/step - loss: 0.3472 - acc: 0.8850 - val_loss: 0.3377 - val_acc: 0.8850\n",
      "Epoch 70/100\n",
      "800/800 [==============================] - 0s 64us/step - loss: 0.3472 - acc: 0.8850 - val_loss: 0.3377 - val_acc: 0.8850\n",
      "Epoch 71/100\n",
      "800/800 [==============================] - 0s 65us/step - loss: 0.3472 - acc: 0.8850 - val_loss: 0.3377 - val_acc: 0.8850\n",
      "Epoch 72/100\n",
      "800/800 [==============================] - 0s 68us/step - loss: 0.3472 - acc: 0.8850 - val_loss: 0.3377 - val_acc: 0.8850\n",
      "Epoch 73/100\n",
      "800/800 [==============================] - 0s 70us/step - loss: 0.3472 - acc: 0.8850 - val_loss: 0.3377 - val_acc: 0.8850\n",
      "Epoch 74/100\n",
      "800/800 [==============================] - 0s 82us/step - loss: 0.3472 - acc: 0.8850 - val_loss: 0.3377 - val_acc: 0.8850\n",
      "Epoch 75/100\n",
      "800/800 [==============================] - 0s 72us/step - loss: 0.3472 - acc: 0.8850 - val_loss: 0.3377 - val_acc: 0.8850\n",
      "Epoch 76/100\n",
      "800/800 [==============================] - 0s 73us/step - loss: 0.3472 - acc: 0.8850 - val_loss: 0.3377 - val_acc: 0.8850\n",
      "Epoch 77/100\n",
      "800/800 [==============================] - 0s 65us/step - loss: 0.3472 - acc: 0.8850 - val_loss: 0.3377 - val_acc: 0.8850\n",
      "Epoch 78/100\n",
      "800/800 [==============================] - 0s 65us/step - loss: 0.3472 - acc: 0.8850 - val_loss: 0.3377 - val_acc: 0.8850\n",
      "Epoch 79/100\n",
      "800/800 [==============================] - 0s 67us/step - loss: 0.3472 - acc: 0.8850 - val_loss: 0.3377 - val_acc: 0.8850\n",
      "Epoch 80/100\n",
      "800/800 [==============================] - 0s 67us/step - loss: 0.3472 - acc: 0.8850 - val_loss: 0.3377 - val_acc: 0.8850\n",
      "Epoch 81/100\n",
      "800/800 [==============================] - 0s 64us/step - loss: 0.3472 - acc: 0.8850 - val_loss: 0.3377 - val_acc: 0.8850\n",
      "Epoch 82/100\n",
      "800/800 [==============================] - 0s 71us/step - loss: 0.3472 - acc: 0.8850 - val_loss: 0.3377 - val_acc: 0.8850\n",
      "Epoch 83/100\n",
      "800/800 [==============================] - 0s 77us/step - loss: 0.3472 - acc: 0.8850 - val_loss: 0.3377 - val_acc: 0.8850\n",
      "Epoch 84/100\n",
      "800/800 [==============================] - 0s 65us/step - loss: 0.3472 - acc: 0.8850 - val_loss: 0.3377 - val_acc: 0.8850\n",
      "Epoch 85/100\n",
      "800/800 [==============================] - 0s 67us/step - loss: 0.3472 - acc: 0.8850 - val_loss: 0.3376 - val_acc: 0.8850\n",
      "Epoch 86/100\n",
      "800/800 [==============================] - 0s 66us/step - loss: 0.3472 - acc: 0.8850 - val_loss: 0.3376 - val_acc: 0.8850\n",
      "Epoch 87/100\n",
      "800/800 [==============================] - 0s 65us/step - loss: 0.3472 - acc: 0.8850 - val_loss: 0.3376 - val_acc: 0.8850\n",
      "Epoch 88/100\n",
      "800/800 [==============================] - 0s 65us/step - loss: 0.3472 - acc: 0.8850 - val_loss: 0.3377 - val_acc: 0.8850\n",
      "Epoch 89/100\n",
      "800/800 [==============================] - 0s 67us/step - loss: 0.3472 - acc: 0.8850 - val_loss: 0.3377 - val_acc: 0.8850\n",
      "Epoch 90/100\n",
      "800/800 [==============================] - 0s 68us/step - loss: 0.3472 - acc: 0.8850 - val_loss: 0.3377 - val_acc: 0.8850\n",
      "Epoch 91/100\n",
      "800/800 [==============================] - 0s 67us/step - loss: 0.3472 - acc: 0.8850 - val_loss: 0.3377 - val_acc: 0.8850\n",
      "Epoch 92/100\n",
      "800/800 [==============================] - 0s 65us/step - loss: 0.3471 - acc: 0.8850 - val_loss: 0.3376 - val_acc: 0.8850\n",
      "Epoch 93/100\n",
      "800/800 [==============================] - 0s 66us/step - loss: 0.3472 - acc: 0.8850 - val_loss: 0.3376 - val_acc: 0.8850\n",
      "Epoch 94/100\n",
      "800/800 [==============================] - 0s 66us/step - loss: 0.3472 - acc: 0.8850 - val_loss: 0.3376 - val_acc: 0.8850\n",
      "Epoch 95/100\n",
      "800/800 [==============================] - 0s 67us/step - loss: 0.3472 - acc: 0.8850 - val_loss: 0.3376 - val_acc: 0.8850\n",
      "Epoch 96/100\n",
      "800/800 [==============================] - 0s 69us/step - loss: 0.3472 - acc: 0.8850 - val_loss: 0.3376 - val_acc: 0.8850\n",
      "Epoch 97/100\n",
      "800/800 [==============================] - 0s 65us/step - loss: 0.3472 - acc: 0.8850 - val_loss: 0.3376 - val_acc: 0.8850\n",
      "Epoch 98/100\n",
      "800/800 [==============================] - 0s 67us/step - loss: 0.3472 - acc: 0.8850 - val_loss: 0.3376 - val_acc: 0.8850\n",
      "Epoch 99/100\n",
      "800/800 [==============================] - 0s 67us/step - loss: 0.3472 - acc: 0.8850 - val_loss: 0.3376 - val_acc: 0.8850\n",
      "Epoch 100/100\n",
      "800/800 [==============================] - 0s 66us/step - loss: 0.3472 - acc: 0.8850 - val_loss: 0.3376 - val_acc: 0.8850\n"
     ]
    }
   ],
   "source": [
    "import numpy as np\n",
    "percentage_split = 80\n",
    "(X_train,Y_train),(X_test,Y_test) = datagen(samples,percentage_split)\n",
    "history = model.fit(X_train, Y_train, batch_size=batch_size, nb_epoch=nb_epoch,verbose=1, validation_data=(X_test, Y_test)) \n",
    "# score = model.evaluate(X_test, Y_test, verbose=0) \n",
    "# print('Test score:', score[0]) \n",
    "# print('Test accuracy:', score[1])"
   ]
  },
  {
   "cell_type": "code",
   "execution_count": 28,
   "metadata": {},
   "outputs": [
    {
     "data": {
      "text/plain": [
       "array([<matplotlib.axes._subplots.AxesSubplot object at 0x1251587f0>,\n",
       "       <matplotlib.axes._subplots.AxesSubplot object at 0x125180438>,\n",
       "       <matplotlib.axes._subplots.AxesSubplot object at 0x1251aa9b0>,\n",
       "       <matplotlib.axes._subplots.AxesSubplot object at 0x1251d2f28>],\n",
       "      dtype=object)"
      ]
     },
     "execution_count": 28,
     "metadata": {},
     "output_type": "execute_result"
    },
    {
     "data": {
      "image/png": "[encoded data removed]",
      "text/plain": [
       "<Figure size 720x1080 with 4 Axes>"
      ]
     },
     "metadata": {},
     "output_type": "display_data"
    }
   ],
   "source": [
    "%matplotlib inline\n",
    "df_hist = pd.DataFrame(history.history)\n",
    "df_hist.plot(subplots=True, figsize=(10,15))"
   ]
  },
  {
   "cell_type": "code",
   "execution_count": 29,
   "metadata": {},
   "outputs": [],
   "source": [
    "from sklearn.model_selection import train_test_split\n",
    "train, test = train_test_split(samples, test_size=0.2)"
   ]
  },
  {
   "cell_type": "code",
   "execution_count": 30,
   "metadata": {},
   "outputs": [],
   "source": [
    "from pgmpy.models import BayesianModel\n",
    "from pgmpy.factors.discrete import TabularCPD\n",
    "from pgmpy.inference import VariableElimination"
   ]
  },
  {
   "cell_type": "code",
   "execution_count": 31,
   "metadata": {},
   "outputs": [],
   "source": [
    "student = BayesianModel()\n",
    "student.add_nodes_from(['diff', 'intel', 'grade','sat','letter','apply','job'])\n",
    "student.add_edges_from([('diff', 'grade'), \n",
    "                        ('intel', 'grade'), \n",
    "                        ('intel', 'sat'), \n",
    "                        ('grade', 'letter'),\n",
    "                        ('apply', 'job'),\n",
    "                        ('letter','job'),\n",
    "                        ('sat','job')])\n",
    "student.fit(train)"
   ]
  },
  {
   "cell_type": "code",
   "execution_count": 228,
   "metadata": {},
   "outputs": [
    {
     "name": "stdout",
     "output_type": "stream",
     "text": [
      "Accuracy is: 88.125\n"
     ]
    }
   ],
   "source": [
    "inference = VariableElimination(student)\n",
    "counter = 0\n",
    "for index, row in test.iterrows():\n",
    "    mle1 = inference.map_query(variables={'sat','letter'},\n",
    "                          evidence={'job': row['job']})\n",
    "    mle2 = inference.map_query(variables={'intel'},\n",
    "                          evidence={'sat': mle1['sat'], \n",
    "                                    'letter': mle1['letter']})\n",
    "    if(mle2['intel'] == row['intel']):\n",
    "        counter += 1\n",
    "        \n",
    "print('Accuracy is: ' + str(counter/test.shape[0]*100))"
   ]
  },
  {
   "cell_type": "code",
   "execution_count": 147,
   "metadata": {},
   "outputs": [],
   "source": [
    "mle = inference.query(variables={'intel'},\n",
    "                          evidence={'job': 1})"
   ]
  },
  {
   "cell_type": "code",
   "execution_count": 148,
   "metadata": {},
   "outputs": [
    {
     "name": "stdout",
     "output_type": "stream",
     "text": [
      "+---------+--------------+\n",
      "| intel   |   phi(intel) |\n",
      "+=========+==============+\n",
      "| intel_0 |       0.0508 |\n",
      "+---------+--------------+\n",
      "| intel_1 |       0.9492 |\n",
      "+---------+--------------+\n"
     ]
    }
   ],
   "source": [
    "print(mle['intel'])"
   ]
  },
  {
   "cell_type": "code",
   "execution_count": 149,
   "metadata": {},
   "outputs": [],
   "source": [
    "mle = inference.query(variables={'job'})"
   ]
  },
  {
   "cell_type": "code",
   "execution_count": 150,
   "metadata": {},
   "outputs": [
    {
     "name": "stdout",
     "output_type": "stream",
     "text": [
      "+-------+------------+\n",
      "| job   |   phi(job) |\n",
      "+=======+============+\n",
      "| job_0 |     0.4595 |\n",
      "+-------+------------+\n",
      "| job_1 |     0.5405 |\n",
      "+-------+------------+\n"
     ]
    }
   ],
   "source": [
    "print(mle['job'])"
   ]
  },
  {
   "cell_type": "code",
   "execution_count": 151,
   "metadata": {},
   "outputs": [
    {
     "data": {
      "text/plain": [
       "array([[0.04455127, 0.95544875]], dtype=float32)"
      ]
     },
     "execution_count": 151,
     "metadata": {},
     "output_type": "execute_result"
    }
   ],
   "source": [
    "model.predict(np.array([[1]]))"
   ]
  },
  {
   "cell_type": "code",
   "execution_count": 152,
   "metadata": {},
   "outputs": [],
   "source": [
    "from pgmpy.models import BayesianModel\n",
    "from pgmpy.factors.discrete import TabularCPD"
   ]
  },
  {
   "cell_type": "code",
   "execution_count": 153,
   "metadata": {},
   "outputs": [],
   "source": [
    "student = BayesianModel()\n",
    "student.add_nodes_from(['diff', 'intel', 'grade','sat','letter'])\n",
    "student.add_edges_from([('diff', 'grade'), ('intel', 'grade'), ('intel', 'sat'), ('grade', 'letter')])\n"
   ]
  },
  {
   "cell_type": "code",
   "execution_count": 154,
   "metadata": {},
   "outputs": [
    {
     "name": "stdout",
     "output_type": "stream",
     "text": [
      "+--------+-----+\n",
      "| diff_0 | 0.6 |\n",
      "+--------+-----+\n",
      "| diff_1 | 0.4 |\n",
      "+--------+-----+\n"
     ]
    }
   ],
   "source": [
    "cpd_diff = TabularCPD('diff',2,[[0.6],\n",
    "                                [0.4]],\n",
    "                                evidence=[], evidence_card=[])\n",
    "print(cpd_diff)"
   ]
  },
  {
   "cell_type": "code",
   "execution_count": 155,
   "metadata": {},
   "outputs": [
    {
     "name": "stdout",
     "output_type": "stream",
     "text": [
      "+---------+-----+\n",
      "| intel_0 | 0.7 |\n",
      "+---------+-----+\n",
      "| intel_1 | 0.3 |\n",
      "+---------+-----+\n"
     ]
    }
   ],
   "source": [
    "cpd_intel = TabularCPD('intel',2,[[0.7],\n",
    "                                [0.3]],\n",
    "                                evidence=[], evidence_card=[])\n",
    "print(cpd_intel)"
   ]
  },
  {
   "cell_type": "code",
   "execution_count": 156,
   "metadata": {},
   "outputs": [
    {
     "name": "stdout",
     "output_type": "stream",
     "text": [
      "+---------+---------+---------+---------+---------+\n",
      "| intel   | intel_0 | intel_0 | intel_1 | intel_1 |\n",
      "+---------+---------+---------+---------+---------+\n",
      "| diff    | diff_0  | diff_1  | diff_0  | diff_1  |\n",
      "+---------+---------+---------+---------+---------+\n",
      "| grade_0 | 0.3     | 0.05    | 0.9     | 0.5     |\n",
      "+---------+---------+---------+---------+---------+\n",
      "| grade_1 | 0.4     | 0.25    | 0.08    | 0.3     |\n",
      "+---------+---------+---------+---------+---------+\n",
      "| grade_2 | 0.3     | 0.7     | 0.02    | 0.2     |\n",
      "+---------+---------+---------+---------+---------+\n"
     ]
    }
   ],
   "source": [
    "cpd_grade = TabularCPD('grade',3,[[0.3,0.05,0.9,0.5],\n",
    "                                    [0.4,0.25,0.08,0.3],\n",
    "                                    [0.3,0.7,0.02,0.2]],\n",
    "                                    evidence=['intel', 'diff'], evidence_card=[2,2])\n",
    "print(cpd_grade)"
   ]
  },
  {
   "cell_type": "code",
   "execution_count": 157,
   "metadata": {},
   "outputs": [
    {
     "name": "stdout",
     "output_type": "stream",
     "text": [
      "+-------+---------+---------+\n",
      "| intel | intel_0 | intel_1 |\n",
      "+-------+---------+---------+\n",
      "| sat_0 | 0.95    | 0.2     |\n",
      "+-------+---------+---------+\n",
      "| sat_1 | 0.05    | 0.8     |\n",
      "+-------+---------+---------+\n"
     ]
    }
   ],
   "source": [
    "cpd_sat = TabularCPD('sat',2,[[0.95, 0.2],\n",
    "                              [0.05, 0.8]],\n",
    "                              evidence=['intel'], evidence_card=[2])\n",
    "print(cpd_sat)"
   ]
  },
  {
   "cell_type": "code",
   "execution_count": 158,
   "metadata": {},
   "outputs": [
    {
     "name": "stdout",
     "output_type": "stream",
     "text": [
      "+----------+---------+---------+---------+\n",
      "| grade    | grade_0 | grade_1 | grade_2 |\n",
      "+----------+---------+---------+---------+\n",
      "| letter_0 | 0.1     | 0.4     | 0.99    |\n",
      "+----------+---------+---------+---------+\n",
      "| letter_1 | 0.9     | 0.6     | 0.01    |\n",
      "+----------+---------+---------+---------+\n"
     ]
    }
   ],
   "source": [
    "cpd_letter = TabularCPD('letter',2,[[0.1, 0.4, 0.99],\n",
    "                                    [0.9, 0.6, 0.01]],\n",
    "                                    evidence=['grade'], evidence_card=[3])\n",
    "print(cpd_letter)"
   ]
  },
  {
   "cell_type": "code",
   "execution_count": 159,
   "metadata": {},
   "outputs": [],
   "source": [
    "student.add_cpds(cpd_diff,cpd_intel, cpd_grade, cpd_sat, cpd_letter)"
   ]
  },
  {
   "cell_type": "code",
   "execution_count": 1,
   "metadata": {},
   "outputs": [
    {
     "ename": "NameError",
     "evalue": "name 'student' is not defined",
     "output_type": "error",
     "traceback": [
      "\u001b[0;31m-------------------------------------------------------------------\u001b[0m",
      "\u001b[0;31mNameError\u001b[0m                         Traceback (most recent call last)",
      "\u001b[0;32m<ipython-input-1-1fae0247f44a>\u001b[0m in \u001b[0;36m<module>\u001b[0;34m()\u001b[0m\n\u001b[1;32m      1\u001b[0m \u001b[0;32mfrom\u001b[0m \u001b[0mpgmpy\u001b[0m\u001b[0;34m.\u001b[0m\u001b[0msampling\u001b[0m \u001b[0;32mimport\u001b[0m \u001b[0mBayesianModelSampling\u001b[0m\u001b[0;34m\u001b[0m\u001b[0m\n\u001b[1;32m      2\u001b[0m \u001b[0;34m\u001b[0m\u001b[0m\n\u001b[0;32m----> 3\u001b[0;31m \u001b[0mforward_sampler\u001b[0m \u001b[0;34m=\u001b[0m \u001b[0mBayesianModelSampling\u001b[0m\u001b[0;34m(\u001b[0m\u001b[0mstudent\u001b[0m\u001b[0;34m)\u001b[0m\u001b[0;34m\u001b[0m\u001b[0m\n\u001b[0m\u001b[1;32m      4\u001b[0m \u001b[0msamples\u001b[0m \u001b[0;34m=\u001b[0m \u001b[0mforward_sampler\u001b[0m\u001b[0;34m.\u001b[0m\u001b[0mforward_sample\u001b[0m\u001b[0;34m(\u001b[0m\u001b[0msize\u001b[0m\u001b[0;34m=\u001b[0m\u001b[0;36m1000\u001b[0m\u001b[0;34m)\u001b[0m\u001b[0;34m\u001b[0m\u001b[0m\n\u001b[1;32m      5\u001b[0m \u001b[0msamples\u001b[0m\u001b[0;34m\u001b[0m\u001b[0m\n",
      "\u001b[0;31mNameError\u001b[0m: name 'student' is not defined"
     ]
    }
   ],
   "source": [
    "from pgmpy.sampling import BayesianModelSampling\n",
    "\n",
    "forward_sampler = BayesianModelSampling(student)\n",
    "samples = forward_sampler.forward_sample(size=1000)\n",
    "samples"
   ]
  },
  {
   "cell_type": "code",
   "execution_count": 161,
   "metadata": {},
   "outputs": [],
   "source": [
    "def datagen(student_sample, percentage_split):\n",
    "    X_train = []\n",
    "    Y_train = []\n",
    "    X_test = []\n",
    "    Y_test = []\n",
    "    \n",
    "    for index, sample in student_sample.iterrows():\n",
    "        if(index < int(samples.shape[0]*percentage_split/100)):\n",
    "            X_train.append([sample['job']])\n",
    "            temp = np.zeros(2)\n",
    "            temp[sample['intel']] = 1\n",
    "            Y_train.append(temp)\n",
    "        else:\n",
    "            X_test.append([sample['job']])  \n",
    "            temp = np.zeros(2)\n",
    "            temp[sample['intel']] = 1\n",
    "            Y_test.append(temp)\n",
    "    X_train = np.asarray(X_train)\n",
    "    Y_train = np.asarray(Y_train)\n",
    "    X_test = np.asarray(X_test)\n",
    "    Y_test = np.asarray(Y_test)\n",
    "    return (X_train,Y_train),(X_test,Y_test)"
   ]
  },
  {
   "cell_type": "code",
   "execution_count": 162,
   "metadata": {},
   "outputs": [
    {
     "name": "stdout",
     "output_type": "stream",
     "text": [
      "_________________________________________________________________\n",
      "Layer (type)                 Output Shape              Param #   \n",
      "=================================================================\n",
      "dense_14 (Dense)             (None, 2)                 4         \n",
      "=================================================================\n",
      "Total params: 4\n",
      "Trainable params: 4\n",
      "Non-trainable params: 0\n",
      "_________________________________________________________________\n"
     ]
    }
   ],
   "source": [
    "from keras.models import Sequential \n",
    "from keras.layers import Dense, Activation \n",
    "import pandas as pd\n",
    "\n",
    "output_dim = nb_classes = 2\n",
    "model = Sequential() \n",
    "model.add(Dense(output_dim, input_dim=1, activation='softmax')) \n",
    "batch_size = 10\n",
    "nb_epoch = 100\n",
    "model.summary()\n",
    "\n",
    "model.compile(optimizer='sgd', loss='categorical_crossentropy', metrics=['accuracy']) "
   ]
  },
  {
   "cell_type": "code",
   "execution_count": 113,
   "metadata": {},
   "outputs": [
    {
     "ename": "KeyError",
     "evalue": "'job'",
     "output_type": "error",
     "traceback": [
      "\u001b[0;31m---------------------------------------------------------------------------\u001b[0m",
      "\u001b[0;31mTypeError\u001b[0m                                 Traceback (most recent call last)",
      "\u001b[0;32m/Library/Frameworks/Python.framework/Versions/3.6/lib/python3.6/site-packages/pandas/core/indexes/base.py\u001b[0m in \u001b[0;36mget_value\u001b[0;34m(self, series, key)\u001b[0m\n\u001b[1;32m   3123\u001b[0m             \u001b[0;32mtry\u001b[0m\u001b[0;34m:\u001b[0m\u001b[0;34m\u001b[0m\u001b[0m\n\u001b[0;32m-> 3124\u001b[0;31m                 \u001b[0;32mreturn\u001b[0m \u001b[0mlibindex\u001b[0m\u001b[0;34m.\u001b[0m\u001b[0mget_value_box\u001b[0m\u001b[0;34m(\u001b[0m\u001b[0ms\u001b[0m\u001b[0;34m,\u001b[0m \u001b[0mkey\u001b[0m\u001b[0;34m)\u001b[0m\u001b[0;34m\u001b[0m\u001b[0m\n\u001b[0m\u001b[1;32m   3125\u001b[0m             \u001b[0;32mexcept\u001b[0m \u001b[0mIndexError\u001b[0m\u001b[0;34m:\u001b[0m\u001b[0;34m\u001b[0m\u001b[0m\n",
      "\u001b[0;32mpandas/_libs/index.pyx\u001b[0m in \u001b[0;36mpandas._libs.index.get_value_box\u001b[0;34m()\u001b[0m\n",
      "\u001b[0;32mpandas/_libs/index.pyx\u001b[0m in \u001b[0;36mpandas._libs.index.get_value_box\u001b[0;34m()\u001b[0m\n",
      "\u001b[0;31mTypeError\u001b[0m: 'str' object cannot be interpreted as an integer",
      "\nDuring handling of the above exception, another exception occurred:\n",
      "\u001b[0;31mKeyError\u001b[0m                                  Traceback (most recent call last)",
      "\u001b[0;32m<ipython-input-113-cec03feff6ac>\u001b[0m in \u001b[0;36m<module>\u001b[0;34m()\u001b[0m\n\u001b[1;32m      1\u001b[0m \u001b[0;32mimport\u001b[0m \u001b[0mnumpy\u001b[0m \u001b[0;32mas\u001b[0m \u001b[0mnp\u001b[0m\u001b[0;34m\u001b[0m\u001b[0m\n\u001b[1;32m      2\u001b[0m \u001b[0mpercentage_split\u001b[0m \u001b[0;34m=\u001b[0m \u001b[0;36m80\u001b[0m\u001b[0;34m\u001b[0m\u001b[0m\n\u001b[0;32m----> 3\u001b[0;31m \u001b[0;34m(\u001b[0m\u001b[0mX_train\u001b[0m\u001b[0;34m,\u001b[0m\u001b[0mY_train\u001b[0m\u001b[0;34m)\u001b[0m\u001b[0;34m,\u001b[0m\u001b[0;34m(\u001b[0m\u001b[0mX_test\u001b[0m\u001b[0;34m,\u001b[0m\u001b[0mY_test\u001b[0m\u001b[0;34m)\u001b[0m \u001b[0;34m=\u001b[0m \u001b[0mdatagen\u001b[0m\u001b[0;34m(\u001b[0m\u001b[0msamples\u001b[0m\u001b[0;34m,\u001b[0m\u001b[0mpercentage_split\u001b[0m\u001b[0;34m)\u001b[0m\u001b[0;34m\u001b[0m\u001b[0m\n\u001b[0m\u001b[1;32m      4\u001b[0m \u001b[0mhistory\u001b[0m \u001b[0;34m=\u001b[0m \u001b[0mmodel\u001b[0m\u001b[0;34m.\u001b[0m\u001b[0mfit\u001b[0m\u001b[0;34m(\u001b[0m\u001b[0mX_train\u001b[0m\u001b[0;34m,\u001b[0m \u001b[0mY_train\u001b[0m\u001b[0;34m,\u001b[0m \u001b[0mbatch_size\u001b[0m\u001b[0;34m=\u001b[0m\u001b[0mbatch_size\u001b[0m\u001b[0;34m,\u001b[0m \u001b[0mnb_epoch\u001b[0m\u001b[0;34m=\u001b[0m\u001b[0mnb_epoch\u001b[0m\u001b[0;34m,\u001b[0m\u001b[0mverbose\u001b[0m\u001b[0;34m=\u001b[0m\u001b[0;36m1\u001b[0m\u001b[0;34m,\u001b[0m \u001b[0mvalidation_data\u001b[0m\u001b[0;34m=\u001b[0m\u001b[0;34m(\u001b[0m\u001b[0mX_test\u001b[0m\u001b[0;34m,\u001b[0m \u001b[0mY_test\u001b[0m\u001b[0;34m)\u001b[0m\u001b[0;34m)\u001b[0m\u001b[0;34m\u001b[0m\u001b[0m\n\u001b[1;32m      5\u001b[0m \u001b[0;31m# score = model.evaluate(X_test, Y_test, verbose=0)\u001b[0m\u001b[0;34m\u001b[0m\u001b[0;34m\u001b[0m\u001b[0m\n",
      "\u001b[0;32m<ipython-input-109-29a711bbe322>\u001b[0m in \u001b[0;36mdatagen\u001b[0;34m(student_sample, percentage_split)\u001b[0m\n\u001b[1;32m      7\u001b[0m     \u001b[0;32mfor\u001b[0m \u001b[0mindex\u001b[0m\u001b[0;34m,\u001b[0m \u001b[0msample\u001b[0m \u001b[0;32min\u001b[0m \u001b[0mstudent_sample\u001b[0m\u001b[0;34m.\u001b[0m\u001b[0miterrows\u001b[0m\u001b[0;34m(\u001b[0m\u001b[0;34m)\u001b[0m\u001b[0;34m:\u001b[0m\u001b[0;34m\u001b[0m\u001b[0m\n\u001b[1;32m      8\u001b[0m         \u001b[0;32mif\u001b[0m\u001b[0;34m(\u001b[0m\u001b[0mindex\u001b[0m \u001b[0;34m<\u001b[0m \u001b[0mint\u001b[0m\u001b[0;34m(\u001b[0m\u001b[0msamples\u001b[0m\u001b[0;34m.\u001b[0m\u001b[0mshape\u001b[0m\u001b[0;34m[\u001b[0m\u001b[0;36m0\u001b[0m\u001b[0;34m]\u001b[0m\u001b[0;34m*\u001b[0m\u001b[0mpercentage_split\u001b[0m\u001b[0;34m/\u001b[0m\u001b[0;36m100\u001b[0m\u001b[0;34m)\u001b[0m\u001b[0;34m)\u001b[0m\u001b[0;34m:\u001b[0m\u001b[0;34m\u001b[0m\u001b[0m\n\u001b[0;32m----> 9\u001b[0;31m             \u001b[0mX_train\u001b[0m\u001b[0;34m.\u001b[0m\u001b[0mappend\u001b[0m\u001b[0;34m(\u001b[0m\u001b[0;34m[\u001b[0m\u001b[0msample\u001b[0m\u001b[0;34m[\u001b[0m\u001b[0;34m'job'\u001b[0m\u001b[0;34m]\u001b[0m\u001b[0;34m]\u001b[0m\u001b[0;34m)\u001b[0m\u001b[0;34m\u001b[0m\u001b[0m\n\u001b[0m\u001b[1;32m     10\u001b[0m             \u001b[0mtemp\u001b[0m \u001b[0;34m=\u001b[0m \u001b[0mnp\u001b[0m\u001b[0;34m.\u001b[0m\u001b[0mzeros\u001b[0m\u001b[0;34m(\u001b[0m\u001b[0;36m2\u001b[0m\u001b[0;34m)\u001b[0m\u001b[0;34m\u001b[0m\u001b[0m\n\u001b[1;32m     11\u001b[0m             \u001b[0mtemp\u001b[0m\u001b[0;34m[\u001b[0m\u001b[0msample\u001b[0m\u001b[0;34m[\u001b[0m\u001b[0;34m'intel'\u001b[0m\u001b[0;34m]\u001b[0m\u001b[0;34m]\u001b[0m \u001b[0;34m=\u001b[0m \u001b[0;36m1\u001b[0m\u001b[0;34m\u001b[0m\u001b[0m\n",
      "\u001b[0;32m/Library/Frameworks/Python.framework/Versions/3.6/lib/python3.6/site-packages/pandas/core/series.py\u001b[0m in \u001b[0;36m__getitem__\u001b[0;34m(self, key)\u001b[0m\n\u001b[1;32m    765\u001b[0m         \u001b[0mkey\u001b[0m \u001b[0;34m=\u001b[0m \u001b[0mcom\u001b[0m\u001b[0;34m.\u001b[0m\u001b[0m_apply_if_callable\u001b[0m\u001b[0;34m(\u001b[0m\u001b[0mkey\u001b[0m\u001b[0;34m,\u001b[0m \u001b[0mself\u001b[0m\u001b[0;34m)\u001b[0m\u001b[0;34m\u001b[0m\u001b[0m\n\u001b[1;32m    766\u001b[0m         \u001b[0;32mtry\u001b[0m\u001b[0;34m:\u001b[0m\u001b[0;34m\u001b[0m\u001b[0m\n\u001b[0;32m--> 767\u001b[0;31m             \u001b[0mresult\u001b[0m \u001b[0;34m=\u001b[0m \u001b[0mself\u001b[0m\u001b[0;34m.\u001b[0m\u001b[0mindex\u001b[0m\u001b[0;34m.\u001b[0m\u001b[0mget_value\u001b[0m\u001b[0;34m(\u001b[0m\u001b[0mself\u001b[0m\u001b[0;34m,\u001b[0m \u001b[0mkey\u001b[0m\u001b[0;34m)\u001b[0m\u001b[0;34m\u001b[0m\u001b[0m\n\u001b[0m\u001b[1;32m    768\u001b[0m \u001b[0;34m\u001b[0m\u001b[0m\n\u001b[1;32m    769\u001b[0m             \u001b[0;32mif\u001b[0m \u001b[0;32mnot\u001b[0m \u001b[0mis_scalar\u001b[0m\u001b[0;34m(\u001b[0m\u001b[0mresult\u001b[0m\u001b[0;34m)\u001b[0m\u001b[0;34m:\u001b[0m\u001b[0;34m\u001b[0m\u001b[0m\n",
      "\u001b[0;32m/Library/Frameworks/Python.framework/Versions/3.6/lib/python3.6/site-packages/pandas/core/indexes/base.py\u001b[0m in \u001b[0;36mget_value\u001b[0;34m(self, series, key)\u001b[0m\n\u001b[1;32m   3130\u001b[0m                     \u001b[0;32mraise\u001b[0m \u001b[0mInvalidIndexError\u001b[0m\u001b[0;34m(\u001b[0m\u001b[0mkey\u001b[0m\u001b[0;34m)\u001b[0m\u001b[0;34m\u001b[0m\u001b[0m\n\u001b[1;32m   3131\u001b[0m                 \u001b[0;32melse\u001b[0m\u001b[0;34m:\u001b[0m\u001b[0;34m\u001b[0m\u001b[0m\n\u001b[0;32m-> 3132\u001b[0;31m                     \u001b[0;32mraise\u001b[0m \u001b[0me1\u001b[0m\u001b[0;34m\u001b[0m\u001b[0m\n\u001b[0m\u001b[1;32m   3133\u001b[0m             \u001b[0;32mexcept\u001b[0m \u001b[0mException\u001b[0m\u001b[0;34m:\u001b[0m  \u001b[0;31m# pragma: no cover\u001b[0m\u001b[0;34m\u001b[0m\u001b[0m\n\u001b[1;32m   3134\u001b[0m                 \u001b[0;32mraise\u001b[0m \u001b[0me1\u001b[0m\u001b[0;34m\u001b[0m\u001b[0m\n",
      "\u001b[0;32m/Library/Frameworks/Python.framework/Versions/3.6/lib/python3.6/site-packages/pandas/core/indexes/base.py\u001b[0m in \u001b[0;36mget_value\u001b[0;34m(self, series, key)\u001b[0m\n\u001b[1;32m   3116\u001b[0m         \u001b[0;32mtry\u001b[0m\u001b[0;34m:\u001b[0m\u001b[0;34m\u001b[0m\u001b[0m\n\u001b[1;32m   3117\u001b[0m             return self._engine.get_value(s, k,\n\u001b[0;32m-> 3118\u001b[0;31m                                           tz=getattr(series.dtype, 'tz', None))\n\u001b[0m\u001b[1;32m   3119\u001b[0m         \u001b[0;32mexcept\u001b[0m \u001b[0mKeyError\u001b[0m \u001b[0;32mas\u001b[0m \u001b[0me1\u001b[0m\u001b[0;34m:\u001b[0m\u001b[0;34m\u001b[0m\u001b[0m\n\u001b[1;32m   3120\u001b[0m             \u001b[0;32mif\u001b[0m \u001b[0mlen\u001b[0m\u001b[0;34m(\u001b[0m\u001b[0mself\u001b[0m\u001b[0;34m)\u001b[0m \u001b[0;34m>\u001b[0m \u001b[0;36m0\u001b[0m \u001b[0;32mand\u001b[0m \u001b[0mself\u001b[0m\u001b[0;34m.\u001b[0m\u001b[0minferred_type\u001b[0m \u001b[0;32min\u001b[0m \u001b[0;34m[\u001b[0m\u001b[0;34m'integer'\u001b[0m\u001b[0;34m,\u001b[0m \u001b[0;34m'boolean'\u001b[0m\u001b[0;34m]\u001b[0m\u001b[0;34m:\u001b[0m\u001b[0;34m\u001b[0m\u001b[0m\n",
      "\u001b[0;32mpandas/_libs/index.pyx\u001b[0m in \u001b[0;36mpandas._libs.index.IndexEngine.get_value\u001b[0;34m()\u001b[0m\n",
      "\u001b[0;32mpandas/_libs/index.pyx\u001b[0m in \u001b[0;36mpandas._libs.index.IndexEngine.get_value\u001b[0;34m()\u001b[0m\n",
      "\u001b[0;32mpandas/_libs/index.pyx\u001b[0m in \u001b[0;36mpandas._libs.index.IndexEngine.get_loc\u001b[0;34m()\u001b[0m\n",
      "\u001b[0;32mpandas/_libs/hashtable_class_helper.pxi\u001b[0m in \u001b[0;36mpandas._libs.hashtable.PyObjectHashTable.get_item\u001b[0;34m()\u001b[0m\n",
      "\u001b[0;32mpandas/_libs/hashtable_class_helper.pxi\u001b[0m in \u001b[0;36mpandas._libs.hashtable.PyObjectHashTable.get_item\u001b[0;34m()\u001b[0m\n",
      "\u001b[0;31mKeyError\u001b[0m: 'job'"
     ]
    }
   ],
   "source": [
    "import numpy as np\n",
    "percentage_split = 80\n",
    "(X_train,Y_train),(X_test,Y_test) = datagen(samples,percentage_split)\n",
    "history = model.fit(X_train, Y_train, batch_size=batch_size, nb_epoch=nb_epoch,verbose=1, validation_data=(X_test, Y_test)) \n",
    "# score = model.evaluate(X_test, Y_test, verbose=0) \n",
    "# print('Test score:', score[0]) \n",
    "# print('Test accuracy:', score[1])"
   ]
  },
  {
   "cell_type": "code",
   "execution_count": 112,
   "metadata": {},
   "outputs": [
    {
     "data": {
      "text/plain": [
       "array([<matplotlib.axes._subplots.AxesSubplot object at 0x1211cb550>,\n",
       "       <matplotlib.axes._subplots.AxesSubplot object at 0x121190a20>,\n",
       "       <matplotlib.axes._subplots.AxesSubplot object at 0x12116ca58>,\n",
       "       <matplotlib.axes._subplots.AxesSubplot object at 0x121cc2d68>],\n",
       "      dtype=object)"
      ]
     },
     "execution_count": 112,
     "metadata": {},
     "output_type": "execute_result"
    },
    {
     "data": {
      "image/png": "[encoded data removed]",
      "text/plain": [
       "<Figure size 720x1080 with 4 Axes>"
      ]
     },
     "metadata": {},
     "output_type": "display_data"
    }
   ],
   "source": [
    "%matplotlib inline\n",
    "df_hist = pd.DataFrame(history.history)\n",
    "df_hist.plot(subplots=True, figsize=(10,15))"
   ]
  },
  {
   "cell_type": "code",
   "execution_count": 114,
   "metadata": {},
   "outputs": [
    {
     "data": {
      "text/plain": [
       "array([[0.8473722 , 0.15262789]], dtype=float32)"
      ]
     },
     "execution_count": 114,
     "metadata": {},
     "output_type": "execute_result"
    }
   ],
   "source": [
    "model.predict([1])"
   ]
  },
  {
   "cell_type": "code",
   "execution_count": null,
   "metadata": {},
   "outputs": [],
   "source": []
  }
 ],
 "metadata": {
  "kernelspec": {
   "display_name": "Python 3",
   "language": "python",
   "name": "python3"
  },
  "language_info": {
   "codemirror_mode": {
    "name": "ipython",
    "version": 3
   },
   "file_extension": ".py",
   "mimetype": "text/x-python",
   "name": "python",
   "nbconvert_exporter": "python",
   "pygments_lexer": "ipython3",
   "version": "3.6.5rc1"
  }
 },
 "nbformat": 4,
 "nbformat_minor": 2
}
