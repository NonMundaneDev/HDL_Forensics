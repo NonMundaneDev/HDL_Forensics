{
 "cells": [
  {
   "cell_type": "code",
   "execution_count": 1,
   "metadata": {},
   "outputs": [
    {
     "name": "stderr",
     "output_type": "stream",
     "text": [
      "Using TensorFlow backend.\n"
     ]
    }
   ],
   "source": [
    "import keras\n",
    "import pandas as pd\n",
    "import os\n",
    "os.environ[\"CUDA_VISIBLE_DEVICES\"] = \"1\"\n",
    "import numpy as np\n",
    "import matplotlib.pyplot as plt\n",
    "import cv2\n",
    "%matplotlib inline\n",
    "from keras.callbacks import ModelCheckpoint, EarlyStopping\n",
    "# %reload_ext mermaid\n",
    "# import IPython\n",
    "# IPython.load_ipython_extensions([\"nb-mermaid/nb-mermaid\"]);"
   ]
  },
  {
   "cell_type": "code",
   "execution_count": 2,
   "metadata": {},
   "outputs": [],
   "source": [
    "import tensorflow  as tf\n",
    "from keras.models import Sequential, Model\n",
    "from keras.layers import Conv2D,Reshape, Dropout, Dense, BatchNormalization, Input, Flatten, MaxPooling2D, UpSampling2D,Lambda\n",
    "from IPython.display import SVG\n",
    "from keras.utils.vis_utils import model_to_dot\n",
    "from keras.optimizers import Adadelta, SGD, Adam\n",
    "from keras.utils import to_categorical\n",
    "import keras.backend as K"
   ]
  },
  {
   "cell_type": "code",
   "execution_count": 3,
   "metadata": {},
   "outputs": [],
   "source": [
    "tf_config = tf.ConfigProto(allow_soft_placement=False)\n",
    "tf_config.gpu_options.allow_growth = True\n",
    "s = tf.Session(config=tf_config)\n",
    "K.set_session(s)"
   ]
  },
  {
   "cell_type": "code",
   "execution_count": 4,
   "metadata": {},
   "outputs": [],
   "source": [
    "csv_data = pd.read_csv('AND_Features.csv')"
   ]
  },
  {
   "cell_type": "code",
   "execution_count": 5,
   "metadata": {},
   "outputs": [
    {
     "data": {
      "text/html": [
       "<div>\n",
       "<style scoped>\n",
       "    .dataframe tbody tr th:only-of-type {\n",
       "        vertical-align: middle;\n",
       "    }\n",
       "\n",
       "    .dataframe tbody tr th {\n",
       "        vertical-align: top;\n",
       "    }\n",
       "\n",
       "    .dataframe thead th {\n",
       "        text-align: right;\n",
       "    }\n",
       "</style>\n",
       "<table border=\"1\" class=\"dataframe\">\n",
       "  <thead>\n",
       "    <tr style=\"text-align: right;\">\n",
       "      <th></th>\n",
       "      <th>Unnamed: 0</th>\n",
       "      <th>ImageId</th>\n",
       "      <th>f1</th>\n",
       "      <th>f2</th>\n",
       "      <th>f3</th>\n",
       "      <th>f4</th>\n",
       "      <th>f5</th>\n",
       "      <th>f6</th>\n",
       "      <th>f7</th>\n",
       "      <th>f8</th>\n",
       "      <th>f9</th>\n",
       "    </tr>\n",
       "  </thead>\n",
       "  <tbody>\n",
       "    <tr>\n",
       "      <th>0</th>\n",
       "      <td>0</td>\n",
       "      <td>0359a</td>\n",
       "      <td>2</td>\n",
       "      <td>1</td>\n",
       "      <td>1</td>\n",
       "      <td>0</td>\n",
       "      <td>2</td>\n",
       "      <td>2</td>\n",
       "      <td>0</td>\n",
       "      <td>2</td>\n",
       "      <td>2</td>\n",
       "    </tr>\n",
       "    <tr>\n",
       "      <th>1</th>\n",
       "      <td>1</td>\n",
       "      <td>0577a</td>\n",
       "      <td>2</td>\n",
       "      <td>1</td>\n",
       "      <td>1</td>\n",
       "      <td>0</td>\n",
       "      <td>2</td>\n",
       "      <td>2</td>\n",
       "      <td>0</td>\n",
       "      <td>1</td>\n",
       "      <td>2</td>\n",
       "    </tr>\n",
       "    <tr>\n",
       "      <th>2</th>\n",
       "      <td>2</td>\n",
       "      <td>1120a</td>\n",
       "      <td>2</td>\n",
       "      <td>1</td>\n",
       "      <td>1</td>\n",
       "      <td>3</td>\n",
       "      <td>2</td>\n",
       "      <td>2</td>\n",
       "      <td>0</td>\n",
       "      <td>2</td>\n",
       "      <td>2</td>\n",
       "    </tr>\n",
       "    <tr>\n",
       "      <th>3</th>\n",
       "      <td>3</td>\n",
       "      <td>1120b</td>\n",
       "      <td>1</td>\n",
       "      <td>1</td>\n",
       "      <td>1</td>\n",
       "      <td>0</td>\n",
       "      <td>2</td>\n",
       "      <td>2</td>\n",
       "      <td>0</td>\n",
       "      <td>2</td>\n",
       "      <td>2</td>\n",
       "    </tr>\n",
       "    <tr>\n",
       "      <th>4</th>\n",
       "      <td>4</td>\n",
       "      <td>1120c</td>\n",
       "      <td>2</td>\n",
       "      <td>1</td>\n",
       "      <td>1</td>\n",
       "      <td>0</td>\n",
       "      <td>2</td>\n",
       "      <td>2</td>\n",
       "      <td>0</td>\n",
       "      <td>0</td>\n",
       "      <td>2</td>\n",
       "    </tr>\n",
       "  </tbody>\n",
       "</table>\n",
       "</div>"
      ],
      "text/plain": [
       "   Unnamed: 0 ImageId  f1  f2  f3  f4  f5  f6  f7  f8  f9\n",
       "0           0   0359a   2   1   1   0   2   2   0   2   2\n",
       "1           1   0577a   2   1   1   0   2   2   0   1   2\n",
       "2           2   1120a   2   1   1   3   2   2   0   2   2\n",
       "3           3   1120b   1   1   1   0   2   2   0   2   2\n",
       "4           4   1120c   2   1   1   0   2   2   0   0   2"
      ]
     },
     "metadata": {},
     "output_type": "display_data"
    },
    {
     "data": {
      "text/plain": [
       "(None, (1026, 11))"
      ]
     },
     "execution_count": 5,
     "metadata": {},
     "output_type": "execute_result"
    }
   ],
   "source": [
    "display(csv_data.head()), csv_data.shape"
   ]
  },
  {
   "cell_type": "code",
   "execution_count": 6,
   "metadata": {},
   "outputs": [
    {
     "data": {
      "text/plain": [
       "13850"
      ]
     },
     "execution_count": 6,
     "metadata": {},
     "output_type": "execute_result"
    }
   ],
   "source": [
    "image_path = 'cleaned_AND_data_64x64/'\n",
    "images = os.listdir(image_path)\n",
    "len(images)"
   ]
  },
  {
   "cell_type": "code",
   "execution_count": 7,
   "metadata": {},
   "outputs": [
    {
     "data": {
      "text/plain": [
       "(13850, 1)"
      ]
     },
     "execution_count": 7,
     "metadata": {},
     "output_type": "execute_result"
    }
   ],
   "source": [
    "images = pd.DataFrame(np.array(images), columns=['image'])\n",
    "images.shape"
   ]
  },
  {
   "cell_type": "code",
   "execution_count": 8,
   "metadata": {},
   "outputs": [
    {
     "data": {
      "text/plain": [
       "['0344c_num1.png', '0344cc_num1.png']"
      ]
     },
     "execution_count": 8,
     "metadata": {},
     "output_type": "execute_result"
    }
   ],
   "source": [
    "csv_data[csv_data['ImageId']=='0344c']\n",
    "list(images[images['image'].str.match('0344c')]['image'])"
   ]
  },
  {
   "cell_type": "code",
   "execution_count": null,
   "metadata": {},
   "outputs": [],
   "source": []
  },
  {
   "cell_type": "code",
   "execution_count": 9,
   "metadata": {},
   "outputs": [
    {
     "data": {
      "text/plain": [
       "(1532, 462)"
      ]
     },
     "execution_count": 9,
     "metadata": {},
     "output_type": "execute_result"
    }
   ],
   "source": [
    "len(list(set(list(x[:4] for x in images['image'])))), len(list(set(list(x[:4] for x in csv_data['ImageId']))))"
   ]
  },
  {
   "cell_type": "code",
   "execution_count": 10,
   "metadata": {
    "scrolled": true
   },
   "outputs": [
    {
     "data": {
      "text/html": [
       "<div>\n",
       "<style scoped>\n",
       "    .dataframe tbody tr th:only-of-type {\n",
       "        vertical-align: middle;\n",
       "    }\n",
       "\n",
       "    .dataframe tbody tr th {\n",
       "        vertical-align: top;\n",
       "    }\n",
       "\n",
       "    .dataframe thead th {\n",
       "        text-align: right;\n",
       "    }\n",
       "</style>\n",
       "<table border=\"1\" class=\"dataframe\">\n",
       "  <thead>\n",
       "    <tr style=\"text-align: right;\">\n",
       "      <th></th>\n",
       "      <th>Unnamed: 0</th>\n",
       "      <th>ImageId</th>\n",
       "      <th>f1</th>\n",
       "      <th>f2</th>\n",
       "      <th>f3</th>\n",
       "      <th>f4</th>\n",
       "      <th>f5</th>\n",
       "      <th>f6</th>\n",
       "      <th>f7</th>\n",
       "      <th>f8</th>\n",
       "      <th>f9</th>\n",
       "    </tr>\n",
       "  </thead>\n",
       "  <tbody>\n",
       "    <tr>\n",
       "      <th>0</th>\n",
       "      <td>0</td>\n",
       "      <td>0359a</td>\n",
       "      <td>2</td>\n",
       "      <td>1</td>\n",
       "      <td>1</td>\n",
       "      <td>0</td>\n",
       "      <td>2</td>\n",
       "      <td>2</td>\n",
       "      <td>0</td>\n",
       "      <td>2</td>\n",
       "      <td>2</td>\n",
       "    </tr>\n",
       "    <tr>\n",
       "      <th>1</th>\n",
       "      <td>1</td>\n",
       "      <td>0577a</td>\n",
       "      <td>2</td>\n",
       "      <td>1</td>\n",
       "      <td>1</td>\n",
       "      <td>0</td>\n",
       "      <td>2</td>\n",
       "      <td>2</td>\n",
       "      <td>0</td>\n",
       "      <td>1</td>\n",
       "      <td>2</td>\n",
       "    </tr>\n",
       "    <tr>\n",
       "      <th>2</th>\n",
       "      <td>2</td>\n",
       "      <td>1120a</td>\n",
       "      <td>2</td>\n",
       "      <td>1</td>\n",
       "      <td>1</td>\n",
       "      <td>3</td>\n",
       "      <td>2</td>\n",
       "      <td>2</td>\n",
       "      <td>0</td>\n",
       "      <td>2</td>\n",
       "      <td>2</td>\n",
       "    </tr>\n",
       "    <tr>\n",
       "      <th>3</th>\n",
       "      <td>3</td>\n",
       "      <td>1120b</td>\n",
       "      <td>1</td>\n",
       "      <td>1</td>\n",
       "      <td>1</td>\n",
       "      <td>0</td>\n",
       "      <td>2</td>\n",
       "      <td>2</td>\n",
       "      <td>0</td>\n",
       "      <td>2</td>\n",
       "      <td>2</td>\n",
       "    </tr>\n",
       "    <tr>\n",
       "      <th>4</th>\n",
       "      <td>4</td>\n",
       "      <td>1120c</td>\n",
       "      <td>2</td>\n",
       "      <td>1</td>\n",
       "      <td>1</td>\n",
       "      <td>0</td>\n",
       "      <td>2</td>\n",
       "      <td>2</td>\n",
       "      <td>0</td>\n",
       "      <td>0</td>\n",
       "      <td>2</td>\n",
       "    </tr>\n",
       "    <tr>\n",
       "      <th>5</th>\n",
       "      <td>5</td>\n",
       "      <td>1121a</td>\n",
       "      <td>2</td>\n",
       "      <td>1</td>\n",
       "      <td>1</td>\n",
       "      <td>3</td>\n",
       "      <td>2</td>\n",
       "      <td>2</td>\n",
       "      <td>0</td>\n",
       "      <td>1</td>\n",
       "      <td>2</td>\n",
       "    </tr>\n",
       "    <tr>\n",
       "      <th>6</th>\n",
       "      <td>6</td>\n",
       "      <td>1121b</td>\n",
       "      <td>2</td>\n",
       "      <td>1</td>\n",
       "      <td>1</td>\n",
       "      <td>0</td>\n",
       "      <td>2</td>\n",
       "      <td>2</td>\n",
       "      <td>0</td>\n",
       "      <td>3</td>\n",
       "      <td>2</td>\n",
       "    </tr>\n",
       "    <tr>\n",
       "      <th>7</th>\n",
       "      <td>7</td>\n",
       "      <td>1121c</td>\n",
       "      <td>1</td>\n",
       "      <td>1</td>\n",
       "      <td>1</td>\n",
       "      <td>0</td>\n",
       "      <td>2</td>\n",
       "      <td>2</td>\n",
       "      <td>0</td>\n",
       "      <td>1</td>\n",
       "      <td>2</td>\n",
       "    </tr>\n",
       "    <tr>\n",
       "      <th>8</th>\n",
       "      <td>8</td>\n",
       "      <td>1229b</td>\n",
       "      <td>1</td>\n",
       "      <td>1</td>\n",
       "      <td>1</td>\n",
       "      <td>3</td>\n",
       "      <td>2</td>\n",
       "      <td>2</td>\n",
       "      <td>0</td>\n",
       "      <td>2</td>\n",
       "      <td>2</td>\n",
       "    </tr>\n",
       "    <tr>\n",
       "      <th>9</th>\n",
       "      <td>9</td>\n",
       "      <td>1302a</td>\n",
       "      <td>2</td>\n",
       "      <td>1</td>\n",
       "      <td>1</td>\n",
       "      <td>3</td>\n",
       "      <td>2</td>\n",
       "      <td>2</td>\n",
       "      <td>0</td>\n",
       "      <td>0</td>\n",
       "      <td>2</td>\n",
       "    </tr>\n",
       "    <tr>\n",
       "      <th>10</th>\n",
       "      <td>10</td>\n",
       "      <td>1302b</td>\n",
       "      <td>3</td>\n",
       "      <td>1</td>\n",
       "      <td>1</td>\n",
       "      <td>0</td>\n",
       "      <td>2</td>\n",
       "      <td>2</td>\n",
       "      <td>0</td>\n",
       "      <td>2</td>\n",
       "      <td>2</td>\n",
       "    </tr>\n",
       "    <tr>\n",
       "      <th>11</th>\n",
       "      <td>11</td>\n",
       "      <td>1302c</td>\n",
       "      <td>2</td>\n",
       "      <td>1</td>\n",
       "      <td>1</td>\n",
       "      <td>3</td>\n",
       "      <td>2</td>\n",
       "      <td>2</td>\n",
       "      <td>0</td>\n",
       "      <td>3</td>\n",
       "      <td>2</td>\n",
       "    </tr>\n",
       "    <tr>\n",
       "      <th>12</th>\n",
       "      <td>12</td>\n",
       "      <td>1305a</td>\n",
       "      <td>1</td>\n",
       "      <td>1</td>\n",
       "      <td>1</td>\n",
       "      <td>0</td>\n",
       "      <td>2</td>\n",
       "      <td>2</td>\n",
       "      <td>0</td>\n",
       "      <td>0</td>\n",
       "      <td>2</td>\n",
       "    </tr>\n",
       "    <tr>\n",
       "      <th>13</th>\n",
       "      <td>13</td>\n",
       "      <td>1305b</td>\n",
       "      <td>2</td>\n",
       "      <td>1</td>\n",
       "      <td>1</td>\n",
       "      <td>0</td>\n",
       "      <td>2</td>\n",
       "      <td>2</td>\n",
       "      <td>1</td>\n",
       "      <td>2</td>\n",
       "      <td>2</td>\n",
       "    </tr>\n",
       "    <tr>\n",
       "      <th>14</th>\n",
       "      <td>14</td>\n",
       "      <td>1305c</td>\n",
       "      <td>1</td>\n",
       "      <td>1</td>\n",
       "      <td>1</td>\n",
       "      <td>3</td>\n",
       "      <td>2</td>\n",
       "      <td>2</td>\n",
       "      <td>0</td>\n",
       "      <td>1</td>\n",
       "      <td>2</td>\n",
       "    </tr>\n",
       "    <tr>\n",
       "      <th>15</th>\n",
       "      <td>15</td>\n",
       "      <td>1386a</td>\n",
       "      <td>1</td>\n",
       "      <td>1</td>\n",
       "      <td>1</td>\n",
       "      <td>0</td>\n",
       "      <td>2</td>\n",
       "      <td>2</td>\n",
       "      <td>0</td>\n",
       "      <td>3</td>\n",
       "      <td>2</td>\n",
       "    </tr>\n",
       "    <tr>\n",
       "      <th>16</th>\n",
       "      <td>16</td>\n",
       "      <td>1386b</td>\n",
       "      <td>3</td>\n",
       "      <td>1</td>\n",
       "      <td>1</td>\n",
       "      <td>0</td>\n",
       "      <td>2</td>\n",
       "      <td>2</td>\n",
       "      <td>0</td>\n",
       "      <td>1</td>\n",
       "      <td>2</td>\n",
       "    </tr>\n",
       "    <tr>\n",
       "      <th>17</th>\n",
       "      <td>17</td>\n",
       "      <td>1386c</td>\n",
       "      <td>3</td>\n",
       "      <td>1</td>\n",
       "      <td>1</td>\n",
       "      <td>3</td>\n",
       "      <td>2</td>\n",
       "      <td>2</td>\n",
       "      <td>0</td>\n",
       "      <td>2</td>\n",
       "      <td>2</td>\n",
       "    </tr>\n",
       "    <tr>\n",
       "      <th>18</th>\n",
       "      <td>18</td>\n",
       "      <td>1391c</td>\n",
       "      <td>2</td>\n",
       "      <td>1</td>\n",
       "      <td>1</td>\n",
       "      <td>0</td>\n",
       "      <td>2</td>\n",
       "      <td>2</td>\n",
       "      <td>1</td>\n",
       "      <td>1</td>\n",
       "      <td>2</td>\n",
       "    </tr>\n",
       "    <tr>\n",
       "      <th>19</th>\n",
       "      <td>19</td>\n",
       "      <td>1489a</td>\n",
       "      <td>1</td>\n",
       "      <td>1</td>\n",
       "      <td>1</td>\n",
       "      <td>3</td>\n",
       "      <td>2</td>\n",
       "      <td>2</td>\n",
       "      <td>0</td>\n",
       "      <td>0</td>\n",
       "      <td>2</td>\n",
       "    </tr>\n",
       "  </tbody>\n",
       "</table>\n",
       "</div>"
      ],
      "text/plain": [
       "    Unnamed: 0 ImageId  f1  f2  f3  f4  f5  f6  f7  f8  f9\n",
       "0            0   0359a   2   1   1   0   2   2   0   2   2\n",
       "1            1   0577a   2   1   1   0   2   2   0   1   2\n",
       "2            2   1120a   2   1   1   3   2   2   0   2   2\n",
       "3            3   1120b   1   1   1   0   2   2   0   2   2\n",
       "4            4   1120c   2   1   1   0   2   2   0   0   2\n",
       "5            5   1121a   2   1   1   3   2   2   0   1   2\n",
       "6            6   1121b   2   1   1   0   2   2   0   3   2\n",
       "7            7   1121c   1   1   1   0   2   2   0   1   2\n",
       "8            8   1229b   1   1   1   3   2   2   0   2   2\n",
       "9            9   1302a   2   1   1   3   2   2   0   0   2\n",
       "10          10   1302b   3   1   1   0   2   2   0   2   2\n",
       "11          11   1302c   2   1   1   3   2   2   0   3   2\n",
       "12          12   1305a   1   1   1   0   2   2   0   0   2\n",
       "13          13   1305b   2   1   1   0   2   2   1   2   2\n",
       "14          14   1305c   1   1   1   3   2   2   0   1   2\n",
       "15          15   1386a   1   1   1   0   2   2   0   3   2\n",
       "16          16   1386b   3   1   1   0   2   2   0   1   2\n",
       "17          17   1386c   3   1   1   3   2   2   0   2   2\n",
       "18          18   1391c   2   1   1   0   2   2   1   1   2\n",
       "19          19   1489a   1   1   1   3   2   2   0   0   2"
      ]
     },
     "metadata": {},
     "output_type": "display_data"
    },
    {
     "data": {
      "text/plain": [
       "(1026, 11)"
      ]
     },
     "execution_count": 10,
     "metadata": {},
     "output_type": "execute_result"
    }
   ],
   "source": [
    "dataset_columns = csv_data.columns\n",
    "display(csv_data.head(20))\n",
    "csv_data.shape"
   ]
  },
  {
   "cell_type": "code",
   "execution_count": 11,
   "metadata": {
    "scrolled": true
   },
   "outputs": [
    {
     "data": {
      "text/plain": [
       "((700, 11), (326, 11))"
      ]
     },
     "execution_count": 11,
     "metadata": {},
     "output_type": "execute_result"
    }
   ],
   "source": [
    "train_csv_data =  csv_data[:700]\n",
    "val_csv_data =  csv_data[700:]\n",
    "train_csv_data.shape, val_csv_data.shape"
   ]
  },
  {
   "cell_type": "code",
   "execution_count": 12,
   "metadata": {},
   "outputs": [
    {
     "data": {
      "text/plain": [
       "[4, 5, 3, 5, 4, 4, 4, 5, 2]"
      ]
     },
     "execution_count": 12,
     "metadata": {},
     "output_type": "execute_result"
    }
   ],
   "source": [
    "f = []\n",
    "for col in dataset_columns[2:]:\n",
    "    f.append(csv_data[col].unique().shape[0])\n",
    "f"
   ]
  },
  {
   "cell_type": "code",
   "execution_count": 13,
   "metadata": {
    "scrolled": true
   },
   "outputs": [],
   "source": [
    "input_img = Input(shape=(64, 64, 1))  # adapt this if using `channels_first` image data format\n",
    "original_dim = 4096\n",
    "latent_dim = 32\n",
    "input_shape = (original_dim, )\n",
    "intermediate_dim = 512\n",
    "batch_size = 128\n",
    "epochs = 50\n",
    "\n",
    "inputs = Input(shape=input_shape, name='encoder_input')\n",
    "x = Dense(intermediate_dim, activation='relu')(inputs)\n",
    "z_mean = Dense(latent_dim, name='z_mean')(x)\n",
    "z_log_var = Dense(latent_dim, name='z_log_var')(x)\n"
   ]
  },
  {
   "cell_type": "code",
   "execution_count": 14,
   "metadata": {
    "scrolled": true
   },
   "outputs": [
    {
     "data": {
      "image/svg+xml": [
       "<svg height=\"304pt\" viewBox=\"0.00 0.00 515.50 304.00\" width=\"516pt\" xmlns=\"http://www.w3.org/2000/svg\" xmlns:xlink=\"http://www.w3.org/1999/xlink\">\n",
       "<g class=\"graph\" id=\"graph0\" transform=\"scale(1 1) rotate(0) translate(4 300)\">\n",
       "<title>G</title>\n",
       "<polygon fill=\"white\" points=\"-4,4 -4,-300 511.5,-300 511.5,4 -4,4\" stroke=\"none\"/>\n",
       "<!-- 140376107225328 -->\n",
       "<g class=\"node\" id=\"node1\"><title>140376107225328</title>\n",
       "<polygon fill=\"none\" points=\"98,-249.5 98,-295.5 403,-295.5 403,-249.5 98,-249.5\" stroke=\"black\"/>\n",
       "<text font-family=\"Times,serif\" font-size=\"14.00\" text-anchor=\"middle\" x=\"178.5\" y=\"-268.8\">encoder_input: InputLayer</text>\n",
       "<polyline fill=\"none\" points=\"259,-249.5 259,-295.5 \" stroke=\"black\"/>\n",
       "<text font-family=\"Times,serif\" font-size=\"14.00\" text-anchor=\"middle\" x=\"286.5\" y=\"-280.3\">input:</text>\n",
       "<polyline fill=\"none\" points=\"259,-272.5 314,-272.5 \" stroke=\"black\"/>\n",
       "<text font-family=\"Times,serif\" font-size=\"14.00\" text-anchor=\"middle\" x=\"286.5\" y=\"-257.3\">output:</text>\n",
       "<polyline fill=\"none\" points=\"314,-249.5 314,-295.5 \" stroke=\"black\"/>\n",
       "<text font-family=\"Times,serif\" font-size=\"14.00\" text-anchor=\"middle\" x=\"358.5\" y=\"-280.3\">(None, 4096)</text>\n",
       "<polyline fill=\"none\" points=\"314,-272.5 403,-272.5 \" stroke=\"black\"/>\n",
       "<text font-family=\"Times,serif\" font-size=\"14.00\" text-anchor=\"middle\" x=\"358.5\" y=\"-257.3\">(None, 4096)</text>\n",
       "</g>\n",
       "<!-- 140376107225720 -->\n",
       "<g class=\"node\" id=\"node2\"><title>140376107225720</title>\n",
       "<polygon fill=\"none\" points=\"127.5,-166.5 127.5,-212.5 373.5,-212.5 373.5,-166.5 127.5,-166.5\" stroke=\"black\"/>\n",
       "<text font-family=\"Times,serif\" font-size=\"14.00\" text-anchor=\"middle\" x=\"178.5\" y=\"-185.8\">dense_1: Dense</text>\n",
       "<polyline fill=\"none\" points=\"229.5,-166.5 229.5,-212.5 \" stroke=\"black\"/>\n",
       "<text font-family=\"Times,serif\" font-size=\"14.00\" text-anchor=\"middle\" x=\"257\" y=\"-197.3\">input:</text>\n",
       "<polyline fill=\"none\" points=\"229.5,-189.5 284.5,-189.5 \" stroke=\"black\"/>\n",
       "<text font-family=\"Times,serif\" font-size=\"14.00\" text-anchor=\"middle\" x=\"257\" y=\"-174.3\">output:</text>\n",
       "<polyline fill=\"none\" points=\"284.5,-166.5 284.5,-212.5 \" stroke=\"black\"/>\n",
       "<text font-family=\"Times,serif\" font-size=\"14.00\" text-anchor=\"middle\" x=\"329\" y=\"-197.3\">(None, 4096)</text>\n",
       "<polyline fill=\"none\" points=\"284.5,-189.5 373.5,-189.5 \" stroke=\"black\"/>\n",
       "<text font-family=\"Times,serif\" font-size=\"14.00\" text-anchor=\"middle\" x=\"329\" y=\"-174.3\">(None, 512)</text>\n",
       "</g>\n",
       "<!-- 140376107225328&#45;&gt;140376107225720 -->\n",
       "<g class=\"edge\" id=\"edge1\"><title>140376107225328-&gt;140376107225720</title>\n",
       "<path d=\"M250.5,-249.366C250.5,-241.152 250.5,-231.658 250.5,-222.725\" fill=\"none\" stroke=\"black\"/>\n",
       "<polygon fill=\"black\" points=\"254,-222.607 250.5,-212.607 247,-222.607 254,-222.607\" stroke=\"black\"/>\n",
       "</g>\n",
       "<!-- 140376107226896 -->\n",
       "<g class=\"node\" id=\"node3\"><title>140376107226896</title>\n",
       "<polygon fill=\"none\" points=\"0,-83.5 0,-129.5 239,-129.5 239,-83.5 0,-83.5\" stroke=\"black\"/>\n",
       "<text font-family=\"Times,serif\" font-size=\"14.00\" text-anchor=\"middle\" x=\"50.5\" y=\"-102.8\">z_mean: Dense</text>\n",
       "<polyline fill=\"none\" points=\"101,-83.5 101,-129.5 \" stroke=\"black\"/>\n",
       "<text font-family=\"Times,serif\" font-size=\"14.00\" text-anchor=\"middle\" x=\"128.5\" y=\"-114.3\">input:</text>\n",
       "<polyline fill=\"none\" points=\"101,-106.5 156,-106.5 \" stroke=\"black\"/>\n",
       "<text font-family=\"Times,serif\" font-size=\"14.00\" text-anchor=\"middle\" x=\"128.5\" y=\"-91.3\">output:</text>\n",
       "<polyline fill=\"none\" points=\"156,-83.5 156,-129.5 \" stroke=\"black\"/>\n",
       "<text font-family=\"Times,serif\" font-size=\"14.00\" text-anchor=\"middle\" x=\"197.5\" y=\"-114.3\">(None, 512)</text>\n",
       "<polyline fill=\"none\" points=\"156,-106.5 239,-106.5 \" stroke=\"black\"/>\n",
       "<text font-family=\"Times,serif\" font-size=\"14.00\" text-anchor=\"middle\" x=\"197.5\" y=\"-91.3\">(None, 32)</text>\n",
       "</g>\n",
       "<!-- 140376107225720&#45;&gt;140376107226896 -->\n",
       "<g class=\"edge\" id=\"edge2\"><title>140376107225720-&gt;140376107226896</title>\n",
       "<path d=\"M214.704,-166.366C199.108,-156.723 180.661,-145.317 164.178,-135.125\" fill=\"none\" stroke=\"black\"/>\n",
       "<polygon fill=\"black\" points=\"165.599,-131.889 155.253,-129.607 161.918,-137.843 165.599,-131.889\" stroke=\"black\"/>\n",
       "</g>\n",
       "<!-- 140376107226952 -->\n",
       "<g class=\"node\" id=\"node4\"><title>140376107226952</title>\n",
       "<polygon fill=\"none\" points=\"257.5,-83.5 257.5,-129.5 507.5,-129.5 507.5,-83.5 257.5,-83.5\" stroke=\"black\"/>\n",
       "<text font-family=\"Times,serif\" font-size=\"14.00\" text-anchor=\"middle\" x=\"313.5\" y=\"-102.8\">z_log_var: Dense</text>\n",
       "<polyline fill=\"none\" points=\"369.5,-83.5 369.5,-129.5 \" stroke=\"black\"/>\n",
       "<text font-family=\"Times,serif\" font-size=\"14.00\" text-anchor=\"middle\" x=\"397\" y=\"-114.3\">input:</text>\n",
       "<polyline fill=\"none\" points=\"369.5,-106.5 424.5,-106.5 \" stroke=\"black\"/>\n",
       "<text font-family=\"Times,serif\" font-size=\"14.00\" text-anchor=\"middle\" x=\"397\" y=\"-91.3\">output:</text>\n",
       "<polyline fill=\"none\" points=\"424.5,-83.5 424.5,-129.5 \" stroke=\"black\"/>\n",
       "<text font-family=\"Times,serif\" font-size=\"14.00\" text-anchor=\"middle\" x=\"466\" y=\"-114.3\">(None, 512)</text>\n",
       "<polyline fill=\"none\" points=\"424.5,-106.5 507.5,-106.5 \" stroke=\"black\"/>\n",
       "<text font-family=\"Times,serif\" font-size=\"14.00\" text-anchor=\"middle\" x=\"466\" y=\"-91.3\">(None, 32)</text>\n",
       "</g>\n",
       "<!-- 140376107225720&#45;&gt;140376107226952 -->\n",
       "<g class=\"edge\" id=\"edge3\"><title>140376107225720-&gt;140376107226952</title>\n",
       "<path d=\"M286.57,-166.366C302.43,-156.634 321.217,-145.106 337.942,-134.842\" fill=\"none\" stroke=\"black\"/>\n",
       "<polygon fill=\"black\" points=\"339.781,-137.82 346.474,-129.607 336.12,-131.854 339.781,-137.82\" stroke=\"black\"/>\n",
       "</g>\n",
       "<!-- 140376170062400 -->\n",
       "<g class=\"node\" id=\"node5\"><title>140376170062400</title>\n",
       "<polygon fill=\"none\" points=\"109.5,-0.5 109.5,-46.5 391.5,-46.5 391.5,-0.5 109.5,-0.5\" stroke=\"black\"/>\n",
       "<text font-family=\"Times,serif\" font-size=\"14.00\" text-anchor=\"middle\" x=\"147\" y=\"-19.8\">z: Lambda</text>\n",
       "<polyline fill=\"none\" points=\"184.5,-0.5 184.5,-46.5 \" stroke=\"black\"/>\n",
       "<text font-family=\"Times,serif\" font-size=\"14.00\" text-anchor=\"middle\" x=\"212\" y=\"-31.3\">input:</text>\n",
       "<polyline fill=\"none\" points=\"184.5,-23.5 239.5,-23.5 \" stroke=\"black\"/>\n",
       "<text font-family=\"Times,serif\" font-size=\"14.00\" text-anchor=\"middle\" x=\"212\" y=\"-8.3\">output:</text>\n",
       "<polyline fill=\"none\" points=\"239.5,-0.5 239.5,-46.5 \" stroke=\"black\"/>\n",
       "<text font-family=\"Times,serif\" font-size=\"14.00\" text-anchor=\"middle\" x=\"315.5\" y=\"-31.3\">[(None, 32), (None, 32)]</text>\n",
       "<polyline fill=\"none\" points=\"239.5,-23.5 391.5,-23.5 \" stroke=\"black\"/>\n",
       "<text font-family=\"Times,serif\" font-size=\"14.00\" text-anchor=\"middle\" x=\"315.5\" y=\"-8.3\">(None, 32)</text>\n",
       "</g>\n",
       "<!-- 140376107226896&#45;&gt;140376170062400 -->\n",
       "<g class=\"edge\" id=\"edge4\"><title>140376107226896-&gt;140376170062400</title>\n",
       "<path d=\"M155.296,-83.3664C170.892,-73.723 189.339,-62.3171 205.822,-52.1252\" fill=\"none\" stroke=\"black\"/>\n",
       "<polygon fill=\"black\" points=\"208.082,-54.8429 214.747,-46.6068 204.401,-48.8891 208.082,-54.8429\" stroke=\"black\"/>\n",
       "</g>\n",
       "<!-- 140376107226952&#45;&gt;140376170062400 -->\n",
       "<g class=\"edge\" id=\"edge5\"><title>140376107226952-&gt;140376170062400</title>\n",
       "<path d=\"M346.43,-83.3664C330.57,-73.6337 311.783,-62.1057 295.058,-51.8424\" fill=\"none\" stroke=\"black\"/>\n",
       "<polygon fill=\"black\" points=\"296.88,-48.8539 286.526,-46.6068 293.219,-54.8202 296.88,-48.8539\" stroke=\"black\"/>\n",
       "</g>\n",
       "</g>\n",
       "</svg>"
      ],
      "text/plain": [
       "<IPython.core.display.SVG object>"
      ]
     },
     "execution_count": 14,
     "metadata": {},
     "output_type": "execute_result"
    }
   ],
   "source": [
    "def sampling(args):\n",
    "    z_mean, z_log_var = args\n",
    "    batch = K.shape(z_mean)[0]\n",
    "    dim = K.int_shape(z_mean)[1]\n",
    "    epsilon = K.random_normal(shape=(batch, dim))\n",
    "    return z_mean + K.exp(0.5 * z_log_var) * epsilon\n",
    "\n",
    "z = Lambda(sampling, output_shape=(latent_dim,), name='z')([z_mean, z_log_var])\n",
    "\n",
    "# instantiate encoder model\n",
    "encoder = Model(inputs, [z_mean, z_log_var, z], name='encoder')\n",
    "SVG(model_to_dot(encoder, show_layer_names=True, show_shapes=True).create(prog='dot', format='svg'))"
   ]
  },
  {
   "cell_type": "code",
   "execution_count": 15,
   "metadata": {},
   "outputs": [
    {
     "data": {
      "image/svg+xml": [
       "<svg height=\"221pt\" viewBox=\"0.00 0.00 286.00 221.00\" width=\"286pt\" xmlns=\"http://www.w3.org/2000/svg\" xmlns:xlink=\"http://www.w3.org/1999/xlink\">\n",
       "<g class=\"graph\" id=\"graph0\" transform=\"scale(1 1) rotate(0) translate(4 217)\">\n",
       "<title>G</title>\n",
       "<polygon fill=\"white\" points=\"-4,4 -4,-217 282,-217 282,4 -4,4\" stroke=\"none\"/>\n",
       "<!-- 140376169991472 -->\n",
       "<g class=\"node\" id=\"node1\"><title>140376169991472</title>\n",
       "<polygon fill=\"none\" points=\"0,-166.5 0,-212.5 278,-212.5 278,-166.5 0,-166.5\" stroke=\"black\"/>\n",
       "<text font-family=\"Times,serif\" font-size=\"14.00\" text-anchor=\"middle\" x=\"73.5\" y=\"-185.8\">z_sampling: InputLayer</text>\n",
       "<polyline fill=\"none\" points=\"147,-166.5 147,-212.5 \" stroke=\"black\"/>\n",
       "<text font-family=\"Times,serif\" font-size=\"14.00\" text-anchor=\"middle\" x=\"174.5\" y=\"-197.3\">input:</text>\n",
       "<polyline fill=\"none\" points=\"147,-189.5 202,-189.5 \" stroke=\"black\"/>\n",
       "<text font-family=\"Times,serif\" font-size=\"14.00\" text-anchor=\"middle\" x=\"174.5\" y=\"-174.3\">output:</text>\n",
       "<polyline fill=\"none\" points=\"202,-166.5 202,-212.5 \" stroke=\"black\"/>\n",
       "<text font-family=\"Times,serif\" font-size=\"14.00\" text-anchor=\"middle\" x=\"240\" y=\"-197.3\">(None, 32)</text>\n",
       "<polyline fill=\"none\" points=\"202,-189.5 278,-189.5 \" stroke=\"black\"/>\n",
       "<text font-family=\"Times,serif\" font-size=\"14.00\" text-anchor=\"middle\" x=\"240\" y=\"-174.3\">(None, 32)</text>\n",
       "</g>\n",
       "<!-- 140376169990184 -->\n",
       "<g class=\"node\" id=\"node2\"><title>140376169990184</title>\n",
       "<polygon fill=\"none\" points=\"19,-83.5 19,-129.5 259,-129.5 259,-83.5 19,-83.5\" stroke=\"black\"/>\n",
       "<text font-family=\"Times,serif\" font-size=\"14.00\" text-anchor=\"middle\" x=\"70\" y=\"-102.8\">dense_2: Dense</text>\n",
       "<polyline fill=\"none\" points=\"121,-83.5 121,-129.5 \" stroke=\"black\"/>\n",
       "<text font-family=\"Times,serif\" font-size=\"14.00\" text-anchor=\"middle\" x=\"148.5\" y=\"-114.3\">input:</text>\n",
       "<polyline fill=\"none\" points=\"121,-106.5 176,-106.5 \" stroke=\"black\"/>\n",
       "<text font-family=\"Times,serif\" font-size=\"14.00\" text-anchor=\"middle\" x=\"148.5\" y=\"-91.3\">output:</text>\n",
       "<polyline fill=\"none\" points=\"176,-83.5 176,-129.5 \" stroke=\"black\"/>\n",
       "<text font-family=\"Times,serif\" font-size=\"14.00\" text-anchor=\"middle\" x=\"217.5\" y=\"-114.3\">(None, 32)</text>\n",
       "<polyline fill=\"none\" points=\"176,-106.5 259,-106.5 \" stroke=\"black\"/>\n",
       "<text font-family=\"Times,serif\" font-size=\"14.00\" text-anchor=\"middle\" x=\"217.5\" y=\"-91.3\">(None, 512)</text>\n",
       "</g>\n",
       "<!-- 140376169991472&#45;&gt;140376169990184 -->\n",
       "<g class=\"edge\" id=\"edge1\"><title>140376169991472-&gt;140376169990184</title>\n",
       "<path d=\"M139,-166.366C139,-158.152 139,-148.658 139,-139.725\" fill=\"none\" stroke=\"black\"/>\n",
       "<polygon fill=\"black\" points=\"142.5,-139.607 139,-129.607 135.5,-139.607 142.5,-139.607\" stroke=\"black\"/>\n",
       "</g>\n",
       "<!-- 140376170773024 -->\n",
       "<g class=\"node\" id=\"node3\"><title>140376170773024</title>\n",
       "<polygon fill=\"none\" points=\"16,-0.5 16,-46.5 262,-46.5 262,-0.5 16,-0.5\" stroke=\"black\"/>\n",
       "<text font-family=\"Times,serif\" font-size=\"14.00\" text-anchor=\"middle\" x=\"67\" y=\"-19.8\">dense_3: Dense</text>\n",
       "<polyline fill=\"none\" points=\"118,-0.5 118,-46.5 \" stroke=\"black\"/>\n",
       "<text font-family=\"Times,serif\" font-size=\"14.00\" text-anchor=\"middle\" x=\"145.5\" y=\"-31.3\">input:</text>\n",
       "<polyline fill=\"none\" points=\"118,-23.5 173,-23.5 \" stroke=\"black\"/>\n",
       "<text font-family=\"Times,serif\" font-size=\"14.00\" text-anchor=\"middle\" x=\"145.5\" y=\"-8.3\">output:</text>\n",
       "<polyline fill=\"none\" points=\"173,-0.5 173,-46.5 \" stroke=\"black\"/>\n",
       "<text font-family=\"Times,serif\" font-size=\"14.00\" text-anchor=\"middle\" x=\"217.5\" y=\"-31.3\">(None, 512)</text>\n",
       "<polyline fill=\"none\" points=\"173,-23.5 262,-23.5 \" stroke=\"black\"/>\n",
       "<text font-family=\"Times,serif\" font-size=\"14.00\" text-anchor=\"middle\" x=\"217.5\" y=\"-8.3\">(None, 4096)</text>\n",
       "</g>\n",
       "<!-- 140376169990184&#45;&gt;140376170773024 -->\n",
       "<g class=\"edge\" id=\"edge2\"><title>140376169990184-&gt;140376170773024</title>\n",
       "<path d=\"M139,-83.3664C139,-75.1516 139,-65.6579 139,-56.7252\" fill=\"none\" stroke=\"black\"/>\n",
       "<polygon fill=\"black\" points=\"142.5,-56.6068 139,-46.6068 135.5,-56.6069 142.5,-56.6068\" stroke=\"black\"/>\n",
       "</g>\n",
       "</g>\n",
       "</svg>"
      ],
      "text/plain": [
       "<IPython.core.display.SVG object>"
      ]
     },
     "execution_count": 15,
     "metadata": {},
     "output_type": "execute_result"
    }
   ],
   "source": [
    "latent_inputs = Input(shape=(latent_dim,), name='z_sampling')\n",
    "x = Dense(intermediate_dim, activation='relu')(latent_inputs) # decoder_h\n",
    "outputs = Dense(original_dim, activation='sigmoid')(x) # decoder_mean\n",
    "\n",
    "# instantiate decoder model\n",
    "decoder = Model(latent_inputs, outputs, name='decoder')\n",
    "SVG(model_to_dot(decoder, show_layer_names=True, show_shapes=True).create(prog='dot', format='svg'))"
   ]
  },
  {
   "cell_type": "code",
   "execution_count": 16,
   "metadata": {},
   "outputs": [
    {
     "data": {
      "image/svg+xml": [
       "<svg height=\"221pt\" viewBox=\"0.00 0.00 384.00 221.00\" width=\"384pt\" xmlns=\"http://www.w3.org/2000/svg\" xmlns:xlink=\"http://www.w3.org/1999/xlink\">\n",
       "<g class=\"graph\" id=\"graph0\" transform=\"scale(1 1) rotate(0) translate(4 217)\">\n",
       "<title>G</title>\n",
       "<polygon fill=\"white\" points=\"-4,4 -4,-217 380,-217 380,4 -4,4\" stroke=\"none\"/>\n",
       "<!-- 140376107225328 -->\n",
       "<g class=\"node\" id=\"node1\"><title>140376107225328</title>\n",
       "<polygon fill=\"none\" points=\"35.5,-166.5 35.5,-212.5 340.5,-212.5 340.5,-166.5 35.5,-166.5\" stroke=\"black\"/>\n",
       "<text font-family=\"Times,serif\" font-size=\"14.00\" text-anchor=\"middle\" x=\"116\" y=\"-185.8\">encoder_input: InputLayer</text>\n",
       "<polyline fill=\"none\" points=\"196.5,-166.5 196.5,-212.5 \" stroke=\"black\"/>\n",
       "<text font-family=\"Times,serif\" font-size=\"14.00\" text-anchor=\"middle\" x=\"224\" y=\"-197.3\">input:</text>\n",
       "<polyline fill=\"none\" points=\"196.5,-189.5 251.5,-189.5 \" stroke=\"black\"/>\n",
       "<text font-family=\"Times,serif\" font-size=\"14.00\" text-anchor=\"middle\" x=\"224\" y=\"-174.3\">output:</text>\n",
       "<polyline fill=\"none\" points=\"251.5,-166.5 251.5,-212.5 \" stroke=\"black\"/>\n",
       "<text font-family=\"Times,serif\" font-size=\"14.00\" text-anchor=\"middle\" x=\"296\" y=\"-197.3\">(None, 4096)</text>\n",
       "<polyline fill=\"none\" points=\"251.5,-189.5 340.5,-189.5 \" stroke=\"black\"/>\n",
       "<text font-family=\"Times,serif\" font-size=\"14.00\" text-anchor=\"middle\" x=\"296\" y=\"-174.3\">(None, 4096)</text>\n",
       "</g>\n",
       "<!-- 140376170062512 -->\n",
       "<g class=\"node\" id=\"node2\"><title>140376170062512</title>\n",
       "<polygon fill=\"none\" points=\"0,-83.5 0,-129.5 376,-129.5 376,-83.5 0,-83.5\" stroke=\"black\"/>\n",
       "<text font-family=\"Times,serif\" font-size=\"14.00\" text-anchor=\"middle\" x=\"51.5\" y=\"-102.8\">encoder: Model</text>\n",
       "<polyline fill=\"none\" points=\"103,-83.5 103,-129.5 \" stroke=\"black\"/>\n",
       "<text font-family=\"Times,serif\" font-size=\"14.00\" text-anchor=\"middle\" x=\"130.5\" y=\"-114.3\">input:</text>\n",
       "<polyline fill=\"none\" points=\"103,-106.5 158,-106.5 \" stroke=\"black\"/>\n",
       "<text font-family=\"Times,serif\" font-size=\"14.00\" text-anchor=\"middle\" x=\"130.5\" y=\"-91.3\">output:</text>\n",
       "<polyline fill=\"none\" points=\"158,-83.5 158,-129.5 \" stroke=\"black\"/>\n",
       "<text font-family=\"Times,serif\" font-size=\"14.00\" text-anchor=\"middle\" x=\"267\" y=\"-114.3\">(None, 4096)</text>\n",
       "<polyline fill=\"none\" points=\"158,-106.5 376,-106.5 \" stroke=\"black\"/>\n",
       "<text font-family=\"Times,serif\" font-size=\"14.00\" text-anchor=\"middle\" x=\"267\" y=\"-91.3\">[(None, 32), (None, 32), (None, 32)]</text>\n",
       "</g>\n",
       "<!-- 140376107225328&#45;&gt;140376170062512 -->\n",
       "<g class=\"edge\" id=\"edge1\"><title>140376107225328-&gt;140376170062512</title>\n",
       "<path d=\"M188,-166.366C188,-158.152 188,-148.658 188,-139.725\" fill=\"none\" stroke=\"black\"/>\n",
       "<polygon fill=\"black\" points=\"191.5,-139.607 188,-129.607 184.5,-139.607 191.5,-139.607\" stroke=\"black\"/>\n",
       "</g>\n",
       "<!-- 140376170771680 -->\n",
       "<g class=\"node\" id=\"node3\"><title>140376170771680</title>\n",
       "<polygon fill=\"none\" points=\"64.5,-0.5 64.5,-46.5 311.5,-46.5 311.5,-0.5 64.5,-0.5\" stroke=\"black\"/>\n",
       "<text font-family=\"Times,serif\" font-size=\"14.00\" text-anchor=\"middle\" x=\"116\" y=\"-19.8\">decoder: Model</text>\n",
       "<polyline fill=\"none\" points=\"167.5,-0.5 167.5,-46.5 \" stroke=\"black\"/>\n",
       "<text font-family=\"Times,serif\" font-size=\"14.00\" text-anchor=\"middle\" x=\"195\" y=\"-31.3\">input:</text>\n",
       "<polyline fill=\"none\" points=\"167.5,-23.5 222.5,-23.5 \" stroke=\"black\"/>\n",
       "<text font-family=\"Times,serif\" font-size=\"14.00\" text-anchor=\"middle\" x=\"195\" y=\"-8.3\">output:</text>\n",
       "<polyline fill=\"none\" points=\"222.5,-0.5 222.5,-46.5 \" stroke=\"black\"/>\n",
       "<text font-family=\"Times,serif\" font-size=\"14.00\" text-anchor=\"middle\" x=\"267\" y=\"-31.3\">(None, 32)</text>\n",
       "<polyline fill=\"none\" points=\"222.5,-23.5 311.5,-23.5 \" stroke=\"black\"/>\n",
       "<text font-family=\"Times,serif\" font-size=\"14.00\" text-anchor=\"middle\" x=\"267\" y=\"-8.3\">(None, 4096)</text>\n",
       "</g>\n",
       "<!-- 140376170062512&#45;&gt;140376170771680 -->\n",
       "<g class=\"edge\" id=\"edge2\"><title>140376170062512-&gt;140376170771680</title>\n",
       "<path d=\"M188,-83.3664C188,-75.1516 188,-65.6579 188,-56.7252\" fill=\"none\" stroke=\"black\"/>\n",
       "<polygon fill=\"black\" points=\"191.5,-56.6068 188,-46.6068 184.5,-56.6069 191.5,-56.6068\" stroke=\"black\"/>\n",
       "</g>\n",
       "</g>\n",
       "</svg>"
      ],
      "text/plain": [
       "<IPython.core.display.SVG object>"
      ]
     },
     "execution_count": 16,
     "metadata": {},
     "output_type": "execute_result"
    }
   ],
   "source": [
    "outputs = decoder(encoder(inputs)[2])\n",
    "vae = Model(inputs, outputs, name='vae_mlp')\n",
    "SVG(model_to_dot(vae, show_layer_names=True, show_shapes=True).create(prog='dot', format='svg'))"
   ]
  },
  {
   "cell_type": "code",
   "execution_count": 17,
   "metadata": {
    "scrolled": true
   },
   "outputs": [
    {
     "name": "stdout",
     "output_type": "stream",
     "text": [
      "_________________________________________________________________\n",
      "Layer (type)                 Output Shape              Param #   \n",
      "=================================================================\n",
      "encoder_input (InputLayer)   (None, 4096)              0         \n",
      "_________________________________________________________________\n",
      "encoder (Model)              [(None, 32), (None, 32),  2130496   \n",
      "_________________________________________________________________\n",
      "decoder (Model)              (None, 4096)              2118144   \n",
      "=================================================================\n",
      "Total params: 4,248,640\n",
      "Trainable params: 4,248,640\n",
      "Non-trainable params: 0\n",
      "_________________________________________________________________\n"
     ]
    }
   ],
   "source": [
    "from keras.losses import mse\n",
    "reconstruction_loss = mse(inputs, outputs)\n",
    "reconstruction_loss *= original_dim\n",
    "kl_loss = 1 + z_log_var - K.square(z_mean) - K.exp(z_log_var)\n",
    "kl_loss = K.sum(kl_loss, axis=-1)\n",
    "kl_loss *= -0.5\n",
    "vae_loss = K.mean(reconstruction_loss + kl_loss)\n",
    "vae.add_loss(vae_loss)\n",
    "vae.compile(optimizer='adam')\n",
    "vae.summary()"
   ]
  },
  {
   "cell_type": "code",
   "execution_count": 18,
   "metadata": {},
   "outputs": [],
   "source": [
    "\n",
    "def datagen(batch_size,list_of_writers,vis=False):\n",
    "    counter = 0\n",
    "    \n",
    "    \n",
    "    while counter <= batch_size:\n",
    "        counter = 0\n",
    "        # for writer in unique_writers:\n",
    "        #     print(identitycounter*100/stop_at, end='\\r')\n",
    "        w_ids,ids = [],[]\n",
    "        writer_indexes = np.random.randint(0,len(list_of_writers),batch_size)\n",
    "        x,f_1_out,f_2_out,f_3_out,f_4_out,f_5_out,f_6_out,f_7_out,f_8_out = [],[],[],[],[],[],[],[],[]\n",
    "        for writer_index in writer_indexes:\n",
    "#             class_vectors = []\n",
    "            writer = list_of_writers[writer_index]\n",
    "#             print(writer)\n",
    "            writer_samples = list(images[images['image'].str.match(writer)]['image'])\n",
    "#             print('writer:',writer,', writer_samples:',writer_samples)\n",
    "            if len(writer_samples) == 0:\n",
    "                continue\n",
    "            writer_sample_index = np.random.randint(0,len(writer_samples))\n",
    "\n",
    "            #     unique_writers_count[writer] = len(writer_samples)\n",
    "#             print('writer_sample_index:',writer_sample_index)\n",
    "            csv_writer = writer_samples[writer_sample_index][:5]\n",
    "\n",
    "    \n",
    "            loaded_image = cv2.imread(os.path.join(image_path,writer_samples[writer_sample_index]),0)\n",
    "            loaded_image = np.expand_dims(loaded_image,-1)\n",
    "#             print('csv_writer:', csv_writer, ', writer:', writer)\n",
    "#             display(csv_data[csv_data['ImageId'].str.match(csv_writer)])\n",
    "#             csv_discreete_features = csv_data[csv_data['ImageId'].str.match(csv_writer)].iloc[0].values[2:]\n",
    "#             print(csv_writer, writer_samples[writer_sample_index])\n",
    "#             print(csv_writer,csv_discreete_features)\n",
    "#             for i in range(1,9):\n",
    "#                 print(csv_discreete_features[i-1],end=',')\n",
    "#             f_1_out.append(csv_discreete_features[0])\n",
    "#             f_2_out.append(csv_discreete_features[1])\n",
    "#             f_3_out.append(csv_discreete_features[2])\n",
    "#             f_4_out.append(csv_discreete_features[3])\n",
    "#             f_5_out.append(csv_discreete_features[4])\n",
    "#             f_6_out.append(csv_discreete_features[5])\n",
    "#             f_7_out.append(csv_discreete_features[6])\n",
    "#             f_8_out.append(csv_discreete_features[7])\n",
    "#                 class_vectors.append(to_categorical(csv_discreete_features[i-1],num_classes=feature_lengths['f'+str(i)]))\n",
    "#             print(\"\\n\",len(class_vectors))\n",
    "#             print('\\n-----------')\n",
    "            \n",
    "#             print(\"++++++++++++++++++++++[\",counter,\"]+++++++++++++++++++++++\")\n",
    "        #     imgcounter = 0\n",
    "        #     for sample in writer_samples:\n",
    "        #         imagepath = os.path.join(image_path,sample)\n",
    "        #         raw_img = cv2.imread(imagepath)\n",
    "        #         imgcounter+=1\n",
    "        #     imgcounter=0\n",
    "        #     identitycounter += 1\n",
    "            x.append(255.0-loaded_image.reshape((64*64)))\n",
    "            w_ids.append(writer[:4])\n",
    "            ids.append(writer_index)\n",
    "            \n",
    "            counter+=1\n",
    "#             print('counter:', counter, end='\\r')\n",
    "        if vis== True:\n",
    "            yield np.array(x)/255.0,[np.array(w_ids),np.array(ids)]\n",
    "        else:\n",
    "            yield np.array(x)/255.0,None\n",
    "                    "
   ]
  },
  {
   "cell_type": "code",
   "execution_count": null,
   "metadata": {
    "scrolled": true
   },
   "outputs": [],
   "source": [
    "# # unique_writers_count\n",
    "# f_count = {}\n",
    "train_list_of_writers = train_csv_data['ImageId'].unique()\n",
    "val_list_of_writers = val_csv_data['ImageId'].unique()\n",
    "batch_size = 64\n",
    "\n",
    "tg = datagen(batch_size,train_list_of_writers)\n",
    "vg = datagen(batch_size,val_list_of_writers)\n"
   ]
  },
  {
   "cell_type": "code",
   "execution_count": null,
   "metadata": {
    "scrolled": true
   },
   "outputs": [
    {
     "data": {
      "text/plain": [
       "((64, 4096), None)"
      ]
     },
     "execution_count": 20,
     "metadata": {},
     "output_type": "execute_result"
    }
   ],
   "source": [
    "# images\n",
    "inputs,y = next(tg)\n",
    "inputs.shape , y#, o[0].shape #, o[1].shape,o[2].shape,o[3].shape,o[4].shape,o[5].shape,o[6].shape,o[7].shape"
   ]
  },
  {
   "cell_type": "code",
   "execution_count": null,
   "metadata": {
    "scrolled": true
   },
   "outputs": [
    {
     "data": {
      "image/png": "[encoded data removed]",
      "text/plain": [
       "<Figure size 1080x360 with 8 Axes>"
      ]
     },
     "metadata": {
      "needs_background": "light"
     },
     "output_type": "display_data"
    },
    {
     "data": {
      "image/png": "[encoded data removed]",
      "text/plain": [
       "<Figure size 1080x360 with 8 Axes>"
      ]
     },
     "metadata": {
      "needs_background": "light"
     },
     "output_type": "display_data"
    },
    {
     "data": {
      "image/png": "[encoded data removed]",
      "text/plain": [
       "<Figure size 1080x360 with 8 Axes>"
      ]
     },
     "metadata": {
      "needs_background": "light"
     },
     "output_type": "display_data"
    },
    {
     "data": {
      "image/png": "[encoded data removed]",
      "text/plain": [
       "<Figure size 1080x360 with 8 Axes>"
      ]
     },
     "metadata": {
      "needs_background": "light"
     },
     "output_type": "display_data"
    },
    {
     "data": {
      "image/png": "[encoded data removed]",
      "text/plain": [
       "<Figure size 1080x360 with 8 Axes>"
      ]
     },
     "metadata": {
      "needs_background": "light"
     },
     "output_type": "display_data"
    },
    {
     "data": {
      "image/png": "[encoded data removed]",
      "text/plain": [
       "<Figure size 1080x360 with 8 Axes>"
      ]
     },
     "metadata": {
      "needs_background": "light"
     },
     "output_type": "display_data"
    },
    {
     "data": {
      "image/png": "[encoded data removed]",
      "text/plain": [
       "<Figure size 1080x360 with 8 Axes>"
      ]
     },
     "metadata": {
      "needs_background": "light"
     },
     "output_type": "display_data"
    },
    {
     "data": {
      "image/png": "[encoded data removed]",
      "text/plain": [
       "<Figure size 1080x360 with 8 Axes>"
      ]
     },
     "metadata": {
      "needs_background": "light"
     },
     "output_type": "display_data"
    }
   ],
   "source": [
    "for r in range(8):\n",
    "    f,ax = plt.subplots(1,8)\n",
    "    f.subplots_adjust(hspace = .00, wspace=.15)\n",
    "    f.set_size_inches(15,5)\n",
    "    for c in range (8):\n",
    "        ax[c].imshow(inputs[c+r*8].reshape((64,64)))\n",
    "        ax[c].axis('off')"
   ]
  },
  {
   "cell_type": "code",
   "execution_count": null,
   "metadata": {},
   "outputs": [],
   "source": [
    "mc = ModelCheckpoint(filepath='vae_weights_v2.h5', monitor='val_loss',period=1,save_best_only=True,save_weights_only=True,mode='auto',verbose=3)\n",
    "es = EarlyStopping(patience=1000, monitor='val_loss', min_delta=0.0005, mode='auto')"
   ]
  },
  {
   "cell_type": "code",
   "execution_count": null,
   "metadata": {
    "scrolled": true
   },
   "outputs": [
    {
     "name": "stdout",
     "output_type": "stream",
     "text": [
      "Epoch 1/5000\n",
      "\n",
      "Epoch 00001: val_loss improved from inf to 932.99817, saving model to vae_weights_v2.h5\n",
      "Epoch 2/5000\n",
      "\n",
      "Epoch 00002: val_loss improved from 932.99817 to 870.57104, saving model to vae_weights_v2.h5\n",
      "Epoch 3/5000\n",
      "\n",
      "Epoch 00003: val_loss improved from 870.57104 to 771.67358, saving model to vae_weights_v2.h5\n",
      "Epoch 4/5000\n",
      "\n",
      "Epoch 00004: val_loss improved from 771.67358 to 640.12189, saving model to vae_weights_v2.h5\n",
      "Epoch 5/5000\n",
      "\n",
      "Epoch 00005: val_loss improved from 640.12189 to 481.72394, saving model to vae_weights_v2.h5\n",
      "Epoch 6/5000\n",
      "\n",
      "Epoch 00006: val_loss improved from 481.72394 to 386.08618, saving model to vae_weights_v2.h5\n",
      "Epoch 7/5000\n",
      "\n",
      "Epoch 00007: val_loss improved from 386.08618 to 348.12054, saving model to vae_weights_v2.h5\n",
      "Epoch 8/5000\n",
      "\n",
      "Epoch 00008: val_loss improved from 348.12054 to 333.94623, saving model to vae_weights_v2.h5\n",
      "Epoch 9/5000\n",
      "\n",
      "Epoch 00009: val_loss improved from 333.94623 to 312.72842, saving model to vae_weights_v2.h5\n",
      "Epoch 10/5000\n",
      "\n",
      "Epoch 00010: val_loss did not improve from 312.72842\n",
      "Epoch 11/5000\n",
      "\n",
      "Epoch 00011: val_loss improved from 312.72842 to 242.48364, saving model to vae_weights_v2.h5\n",
      "Epoch 12/5000\n",
      "\n",
      "Epoch 00012: val_loss improved from 242.48364 to 212.42383, saving model to vae_weights_v2.h5\n",
      "Epoch 13/5000\n",
      "\n",
      "Epoch 00013: val_loss improved from 212.42383 to 206.61972, saving model to vae_weights_v2.h5\n",
      "Epoch 14/5000\n",
      "\n",
      "Epoch 00014: val_loss improved from 206.61972 to 202.86938, saving model to vae_weights_v2.h5\n",
      "Epoch 15/5000\n",
      "\n",
      "Epoch 00015: val_loss did not improve from 202.86938\n",
      "Epoch 16/5000\n",
      "\n",
      "Epoch 00016: val_loss did not improve from 202.86938\n",
      "Epoch 17/5000\n",
      "\n",
      "Epoch 00017: val_loss did not improve from 202.86938\n",
      "Epoch 18/5000\n",
      "\n",
      "Epoch 00018: val_loss improved from 202.86938 to 200.79227, saving model to vae_weights_v2.h5\n",
      "Epoch 19/5000\n",
      "\n",
      "Epoch 00019: val_loss improved from 200.79227 to 193.17656, saving model to vae_weights_v2.h5\n",
      "Epoch 20/5000\n",
      "\n",
      "Epoch 00020: val_loss improved from 193.17656 to 173.45096, saving model to vae_weights_v2.h5\n",
      "Epoch 21/5000\n",
      "\n",
      "Epoch 00021: val_loss improved from 173.45096 to 166.39395, saving model to vae_weights_v2.h5\n",
      "Epoch 22/5000\n",
      "\n",
      "Epoch 00022: val_loss did not improve from 166.39395\n",
      "Epoch 23/5000\n",
      "\n",
      "Epoch 00023: val_loss did not improve from 166.39395\n",
      "Epoch 24/5000\n",
      "\n",
      "Epoch 00024: val_loss did not improve from 166.39395\n",
      "Epoch 25/5000\n",
      "\n",
      "Epoch 00025: val_loss improved from 166.39395 to 164.54910, saving model to vae_weights_v2.h5\n",
      "Epoch 26/5000\n",
      "\n",
      "Epoch 00026: val_loss did not improve from 164.54910\n",
      "Epoch 27/5000\n",
      "\n",
      "Epoch 00027: val_loss did not improve from 164.54910\n",
      "Epoch 28/5000\n",
      "\n",
      "Epoch 00028: val_loss did not improve from 164.54910\n",
      "Epoch 29/5000\n",
      "\n",
      "Epoch 00029: val_loss improved from 164.54910 to 157.69405, saving model to vae_weights_v2.h5\n",
      "Epoch 30/5000\n",
      "\n",
      "Epoch 00030: val_loss did not improve from 157.69405\n",
      "Epoch 31/5000\n",
      "\n",
      "Epoch 00031: val_loss did not improve from 157.69405\n",
      "Epoch 32/5000\n",
      "\n",
      "Epoch 00032: val_loss improved from 157.69405 to 155.45779, saving model to vae_weights_v2.h5\n",
      "Epoch 33/5000\n",
      "\n",
      "Epoch 00033: val_loss did not improve from 155.45779\n",
      "Epoch 34/5000\n",
      "\n",
      "Epoch 00034: val_loss did not improve from 155.45779\n",
      "Epoch 35/5000\n",
      "\n",
      "Epoch 00035: val_loss did not improve from 155.45779\n",
      "Epoch 36/5000\n",
      "\n",
      "Epoch 00036: val_loss did not improve from 155.45779\n",
      "Epoch 37/5000\n",
      "\n",
      "Epoch 00037: val_loss did not improve from 155.45779\n",
      "Epoch 38/5000\n",
      "\n",
      "Epoch 00038: val_loss did not improve from 155.45779\n",
      "Epoch 39/5000\n",
      "\n",
      "Epoch 00039: val_loss did not improve from 155.45779\n",
      "Epoch 40/5000\n",
      "\n",
      "Epoch 00040: val_loss did not improve from 155.45779\n",
      "Epoch 41/5000\n",
      "\n",
      "Epoch 00041: val_loss did not improve from 155.45779\n",
      "Epoch 42/5000\n",
      "\n",
      "Epoch 00042: val_loss improved from 155.45779 to 152.65450, saving model to vae_weights_v2.h5\n",
      "Epoch 43/5000\n",
      "\n",
      "Epoch 00043: val_loss did not improve from 152.65450\n",
      "Epoch 44/5000\n",
      "\n",
      "Epoch 00044: val_loss improved from 152.65450 to 148.39485, saving model to vae_weights_v2.h5\n",
      "Epoch 45/5000\n",
      "\n",
      "Epoch 00045: val_loss did not improve from 148.39485\n",
      "Epoch 46/5000\n",
      "\n",
      "Epoch 00046: val_loss did not improve from 148.39485\n",
      "Epoch 47/5000\n",
      "\n",
      "Epoch 00047: val_loss did not improve from 148.39485\n",
      "Epoch 48/5000\n",
      "\n",
      "Epoch 00048: val_loss did not improve from 148.39485\n",
      "Epoch 49/5000\n",
      "\n",
      "Epoch 00049: val_loss did not improve from 148.39485\n",
      "Epoch 50/5000\n",
      "\n",
      "Epoch 00050: val_loss did not improve from 148.39485\n",
      "Epoch 51/5000\n",
      "\n",
      "Epoch 00051: val_loss did not improve from 148.39485\n",
      "Epoch 52/5000\n",
      "\n",
      "Epoch 00052: val_loss did not improve from 148.39485\n",
      "Epoch 53/5000\n",
      "\n",
      "Epoch 00053: val_loss did not improve from 148.39485\n",
      "Epoch 54/5000\n",
      "\n",
      "Epoch 00054: val_loss did not improve from 148.39485\n",
      "Epoch 55/5000\n",
      "\n",
      "Epoch 00055: val_loss did not improve from 148.39485\n",
      "Epoch 56/5000\n",
      "\n",
      "Epoch 00056: val_loss did not improve from 148.39485\n",
      "Epoch 57/5000\n",
      "\n",
      "Epoch 00057: val_loss did not improve from 148.39485\n",
      "Epoch 58/5000\n",
      "\n",
      "Epoch 00058: val_loss did not improve from 148.39485\n",
      "Epoch 59/5000\n",
      "\n",
      "Epoch 00059: val_loss did not improve from 148.39485\n",
      "Epoch 60/5000\n",
      "\n",
      "Epoch 00060: val_loss did not improve from 148.39485\n",
      "Epoch 61/5000\n",
      "\n",
      "Epoch 00061: val_loss did not improve from 148.39485\n",
      "Epoch 62/5000\n",
      "\n",
      "Epoch 00062: val_loss did not improve from 148.39485\n",
      "Epoch 63/5000\n",
      "\n",
      "Epoch 00063: val_loss did not improve from 148.39485\n",
      "Epoch 64/5000\n",
      "\n",
      "Epoch 00064: val_loss did not improve from 148.39485\n",
      "Epoch 65/5000\n",
      "\n",
      "Epoch 00065: val_loss did not improve from 148.39485\n",
      "Epoch 66/5000\n",
      "\n",
      "Epoch 00066: val_loss did not improve from 148.39485\n",
      "Epoch 67/5000\n",
      "\n",
      "Epoch 00067: val_loss did not improve from 148.39485\n",
      "Epoch 68/5000\n",
      "\n",
      "Epoch 00068: val_loss did not improve from 148.39485\n",
      "Epoch 69/5000\n",
      "\n",
      "Epoch 00069: val_loss did not improve from 148.39485\n",
      "Epoch 70/5000\n",
      "\n",
      "Epoch 00070: val_loss did not improve from 148.39485\n",
      "Epoch 71/5000\n",
      "\n",
      "Epoch 00071: val_loss improved from 148.39485 to 143.21703, saving model to vae_weights_v2.h5\n",
      "Epoch 72/5000\n",
      "\n",
      "Epoch 00072: val_loss did not improve from 143.21703\n",
      "Epoch 73/5000\n",
      "\n",
      "Epoch 00073: val_loss did not improve from 143.21703\n",
      "Epoch 74/5000\n",
      "\n",
      "Epoch 00074: val_loss did not improve from 143.21703\n",
      "Epoch 75/5000\n",
      "\n",
      "Epoch 00075: val_loss did not improve from 143.21703\n",
      "Epoch 76/5000\n",
      "\n",
      "Epoch 00076: val_loss did not improve from 143.21703\n",
      "Epoch 77/5000\n",
      "\n",
      "Epoch 00077: val_loss did not improve from 143.21703\n",
      "Epoch 78/5000\n",
      "\n",
      "Epoch 00078: val_loss did not improve from 143.21703\n",
      "Epoch 79/5000\n",
      "\n",
      "Epoch 00079: val_loss did not improve from 143.21703\n",
      "Epoch 80/5000\n",
      "\n",
      "Epoch 00080: val_loss did not improve from 143.21703\n",
      "Epoch 81/5000\n",
      "\n",
      "Epoch 00081: val_loss did not improve from 143.21703\n",
      "Epoch 82/5000\n",
      "\n",
      "Epoch 00082: val_loss did not improve from 143.21703\n",
      "Epoch 83/5000\n",
      "\n",
      "Epoch 00083: val_loss did not improve from 143.21703\n",
      "Epoch 84/5000\n",
      "\n",
      "Epoch 00084: val_loss did not improve from 143.21703\n",
      "Epoch 85/5000\n",
      "\n",
      "Epoch 00085: val_loss did not improve from 143.21703\n",
      "Epoch 86/5000\n",
      "\n",
      "Epoch 00086: val_loss did not improve from 143.21703\n",
      "Epoch 87/5000\n",
      "\n",
      "Epoch 00087: val_loss improved from 143.21703 to 140.50607, saving model to vae_weights_v2.h5\n",
      "Epoch 88/5000\n",
      "\n",
      "Epoch 00088: val_loss did not improve from 140.50607\n",
      "Epoch 89/5000\n",
      "\n",
      "Epoch 00089: val_loss did not improve from 140.50607\n",
      "Epoch 90/5000\n",
      "\n",
      "Epoch 00090: val_loss did not improve from 140.50607\n",
      "Epoch 91/5000\n",
      "\n",
      "Epoch 00091: val_loss did not improve from 140.50607\n",
      "Epoch 92/5000\n",
      "\n",
      "Epoch 00092: val_loss did not improve from 140.50607\n",
      "Epoch 93/5000\n",
      "\n",
      "Epoch 00093: val_loss did not improve from 140.50607\n",
      "Epoch 94/5000\n",
      "\n",
      "Epoch 00094: val_loss did not improve from 140.50607\n",
      "Epoch 95/5000\n",
      "\n",
      "Epoch 00095: val_loss did not improve from 140.50607\n",
      "Epoch 96/5000\n",
      "\n",
      "Epoch 00096: val_loss did not improve from 140.50607\n",
      "Epoch 97/5000\n",
      "\n",
      "Epoch 00097: val_loss did not improve from 140.50607\n",
      "Epoch 98/5000\n",
      "\n",
      "Epoch 00098: val_loss did not improve from 140.50607\n",
      "Epoch 99/5000\n",
      "\n",
      "Epoch 00099: val_loss did not improve from 140.50607\n",
      "Epoch 100/5000\n",
      "\n",
      "Epoch 00100: val_loss did not improve from 140.50607\n",
      "Epoch 101/5000\n",
      "\n",
      "Epoch 00101: val_loss did not improve from 140.50607\n",
      "Epoch 102/5000\n",
      "\n",
      "Epoch 00102: val_loss did not improve from 140.50607\n",
      "Epoch 103/5000\n",
      "\n",
      "Epoch 00103: val_loss did not improve from 140.50607\n",
      "Epoch 104/5000\n",
      "\n",
      "Epoch 00104: val_loss did not improve from 140.50607\n",
      "Epoch 105/5000\n",
      "\n",
      "Epoch 00105: val_loss did not improve from 140.50607\n",
      "Epoch 106/5000\n",
      "\n",
      "Epoch 00106: val_loss did not improve from 140.50607\n",
      "Epoch 107/5000\n"
     ]
    },
    {
     "name": "stdout",
     "output_type": "stream",
     "text": [
      "\n",
      "Epoch 00107: val_loss improved from 140.50607 to 138.45647, saving model to vae_weights_v2.h5\n",
      "Epoch 108/5000\n",
      "\n",
      "Epoch 00108: val_loss did not improve from 138.45647\n",
      "Epoch 109/5000\n",
      "\n",
      "Epoch 00109: val_loss did not improve from 138.45647\n",
      "Epoch 110/5000\n",
      "\n",
      "Epoch 00110: val_loss did not improve from 138.45647\n",
      "Epoch 111/5000\n",
      "\n",
      "Epoch 00111: val_loss did not improve from 138.45647\n",
      "Epoch 112/5000\n",
      "\n",
      "Epoch 00112: val_loss did not improve from 138.45647\n",
      "Epoch 113/5000\n",
      "\n",
      "Epoch 00113: val_loss did not improve from 138.45647\n",
      "Epoch 114/5000\n",
      "\n",
      "Epoch 00114: val_loss did not improve from 138.45647\n",
      "Epoch 115/5000\n",
      "\n",
      "Epoch 00115: val_loss did not improve from 138.45647\n",
      "Epoch 116/5000\n",
      "\n",
      "Epoch 00116: val_loss did not improve from 138.45647\n",
      "Epoch 117/5000\n",
      "\n",
      "Epoch 00117: val_loss did not improve from 138.45647\n",
      "Epoch 118/5000\n",
      "\n",
      "Epoch 00118: val_loss did not improve from 138.45647\n",
      "Epoch 119/5000\n",
      "\n",
      "Epoch 00119: val_loss did not improve from 138.45647\n",
      "Epoch 120/5000\n",
      "\n",
      "Epoch 00120: val_loss improved from 138.45647 to 136.41234, saving model to vae_weights_v2.h5\n",
      "Epoch 121/5000\n",
      "\n",
      "Epoch 00121: val_loss did not improve from 136.41234\n",
      "Epoch 122/5000\n",
      "\n",
      "Epoch 00122: val_loss did not improve from 136.41234\n",
      "Epoch 123/5000\n",
      "\n",
      "Epoch 00123: val_loss did not improve from 136.41234\n",
      "Epoch 124/5000\n",
      "\n",
      "Epoch 00124: val_loss did not improve from 136.41234\n",
      "Epoch 125/5000\n",
      "\n",
      "Epoch 00125: val_loss did not improve from 136.41234\n",
      "Epoch 126/5000\n",
      "\n",
      "Epoch 00126: val_loss did not improve from 136.41234\n",
      "Epoch 127/5000\n",
      "\n",
      "Epoch 00127: val_loss did not improve from 136.41234\n",
      "Epoch 128/5000\n",
      "\n",
      "Epoch 00128: val_loss did not improve from 136.41234\n",
      "Epoch 129/5000\n",
      "\n",
      "Epoch 00129: val_loss did not improve from 136.41234\n",
      "Epoch 130/5000\n",
      "\n",
      "Epoch 00130: val_loss did not improve from 136.41234\n",
      "Epoch 131/5000\n",
      "\n",
      "Epoch 00131: val_loss did not improve from 136.41234\n",
      "Epoch 132/5000\n",
      "\n",
      "Epoch 00132: val_loss did not improve from 136.41234\n",
      "Epoch 133/5000\n",
      "\n",
      "Epoch 00133: val_loss did not improve from 136.41234\n",
      "Epoch 134/5000\n",
      "\n",
      "Epoch 00134: val_loss did not improve from 136.41234\n",
      "Epoch 135/5000\n",
      "\n",
      "Epoch 00135: val_loss improved from 136.41234 to 135.09735, saving model to vae_weights_v2.h5\n",
      "Epoch 136/5000\n",
      "\n",
      "Epoch 00136: val_loss did not improve from 135.09735\n",
      "Epoch 137/5000\n",
      "\n",
      "Epoch 00137: val_loss did not improve from 135.09735\n",
      "Epoch 138/5000\n",
      "\n",
      "Epoch 00138: val_loss did not improve from 135.09735\n",
      "Epoch 139/5000\n",
      "\n",
      "Epoch 00139: val_loss did not improve from 135.09735\n",
      "Epoch 140/5000\n",
      "\n",
      "Epoch 00140: val_loss did not improve from 135.09735\n",
      "Epoch 141/5000\n",
      "\n",
      "Epoch 00141: val_loss did not improve from 135.09735\n",
      "Epoch 142/5000\n",
      "\n",
      "Epoch 00142: val_loss did not improve from 135.09735\n",
      "Epoch 143/5000\n",
      "\n",
      "Epoch 00143: val_loss did not improve from 135.09735\n",
      "Epoch 144/5000\n",
      "\n",
      "Epoch 00144: val_loss did not improve from 135.09735\n",
      "Epoch 145/5000\n",
      "\n",
      "Epoch 00145: val_loss did not improve from 135.09735\n",
      "Epoch 146/5000\n",
      "\n",
      "Epoch 00146: val_loss did not improve from 135.09735\n",
      "Epoch 147/5000\n",
      "\n",
      "Epoch 00147: val_loss did not improve from 135.09735\n",
      "Epoch 148/5000\n",
      "\n",
      "Epoch 00148: val_loss did not improve from 135.09735\n",
      "Epoch 149/5000\n",
      "\n",
      "Epoch 00149: val_loss did not improve from 135.09735\n",
      "Epoch 150/5000\n",
      "\n",
      "Epoch 00150: val_loss did not improve from 135.09735\n",
      "Epoch 151/5000\n"
     ]
    }
   ],
   "source": [
    "EPOCHS = 5000\n",
    "hist = vae.fit_generator(tg, callbacks=[mc,es]\n",
    "                                    , epochs=EPOCHS\n",
    "                                    , steps_per_epoch = 1\n",
    "                                    , validation_data = vg\n",
    "                                    , validation_steps = 1\n",
    "                                    , verbose = 3\n",
    "                                    \n",
    "                                   )"
   ]
  },
  {
   "cell_type": "code",
   "execution_count": null,
   "metadata": {
    "scrolled": true
   },
   "outputs": [],
   "source": [
    "df_hist = pd.DataFrame(hist.history)\n",
    "df_hist.plot(subplots=True, figsize=(15,100))\n",
    "print(df_hist['val_loss'].min())\n",
    "df_hist[df_hist['val_loss']<10.2]"
   ]
  },
  {
   "cell_type": "code",
   "execution_count": null,
   "metadata": {},
   "outputs": [],
   "source": [
    "# human_features.load_weights('human_features_weights_v2.h5')"
   ]
  },
  {
   "cell_type": "code",
   "execution_count": null,
   "metadata": {
    "scrolled": true
   },
   "outputs": [],
   "source": [
    "# # print(df_hist.columns)\n",
    "# print(df_hist['val_out_feature_1_acc'].max(), df_hist['val_out_feature_2_acc'].max(),\n",
    "#        df_hist['val_out_feature_3_acc'].max(), df_hist['val_out_feature_4_acc'].max(),\n",
    "#        df_hist['val_out_feature_5_acc'].max(), df_hist['val_out_feature_6_acc'].max(),\n",
    "#        df_hist['val_out_feature_7_acc'].max(), df_hist['val_out_feature_8_acc'].max())\n",
    "# # df_hist[df_hist['val_acc']>10.2]"
   ]
  },
  {
   "cell_type": "code",
   "execution_count": null,
   "metadata": {
    "scrolled": false
   },
   "outputs": [],
   "source": [
    "batch_size = 10\n",
    "test_list_of_writers = val_csv_data['ImageId'].unique()[:2]\n",
    "print(test_list_of_writers)\n",
    "test_g = datagen(batch_size,test_list_of_writers, vis=True)\n",
    "inputs,y = next(test_g)\n",
    "x_test_encoded = encoder.predict(inputs, batch_size=batch_size)\n"
   ]
  },
  {
   "cell_type": "code",
   "execution_count": null,
   "metadata": {},
   "outputs": [],
   "source": [
    "display(csv_data[csv_data['ImageId']=='0564a'])\n",
    "list(images[images['image'].str.match('0564a')]['image'])"
   ]
  },
  {
   "cell_type": "code",
   "execution_count": null,
   "metadata": {},
   "outputs": [],
   "source": [
    "y[0]"
   ]
  },
  {
   "cell_type": "code",
   "execution_count": null,
   "metadata": {},
   "outputs": [],
   "source": [
    "np.array(x_test_encoded).shape"
   ]
  },
  {
   "cell_type": "code",
   "execution_count": null,
   "metadata": {},
   "outputs": [],
   "source": [
    "plt.figure(figsize=(8, 8))\n",
    "plt.scatter(x_test_encoded[0][:, 0], x_test_encoded[0][:, 1],c=y[1])\n",
    "plt.colorbar()\n",
    "plt.show()"
   ]
  },
  {
   "cell_type": "code",
   "execution_count": null,
   "metadata": {},
   "outputs": [],
   "source": [
    "encoder.predict(inputs)[0]"
   ]
  },
  {
   "cell_type": "code",
   "execution_count": null,
   "metadata": {},
   "outputs": [],
   "source": [
    "plt.imshow(inputs[0].reshape((64,64)))"
   ]
  },
  {
   "cell_type": "code",
   "execution_count": null,
   "metadata": {},
   "outputs": [],
   "source": [
    "plt.imshow(inputs[1].reshape((64,64)))"
   ]
  },
  {
   "cell_type": "code",
   "execution_count": null,
   "metadata": {},
   "outputs": [],
   "source": [
    "plt.imshow(inputs[2].reshape((64,64)))"
   ]
  },
  {
   "cell_type": "code",
   "execution_count": null,
   "metadata": {},
   "outputs": [],
   "source": [
    "plt.imshow(inputs[8].reshape((64,64)))"
   ]
  },
  {
   "cell_type": "code",
   "execution_count": null,
   "metadata": {},
   "outputs": [],
   "source": [
    "from sklearn.metrics import euclidean_distances"
   ]
  },
  {
   "cell_type": "code",
   "execution_count": null,
   "metadata": {},
   "outputs": [],
   "source": [
    "ed = euclidean_distances(encoder.predict(inputs)[0])"
   ]
  },
  {
   "cell_type": "code",
   "execution_count": null,
   "metadata": {},
   "outputs": [],
   "source": [
    "pd.DataFrame(ed)"
   ]
  },
  {
   "cell_type": "code",
   "execution_count": null,
   "metadata": {},
   "outputs": [],
   "source": [
    "y[1]"
   ]
  },
  {
   "cell_type": "code",
   "execution_count": null,
   "metadata": {},
   "outputs": [],
   "source": []
  }
 ],
 "metadata": {
  "kernelspec": {
   "display_name": "Python 3",
   "language": "python",
   "name": "python3"
  },
  "language_info": {
   "codemirror_mode": {
    "name": "ipython",
    "version": 3
   },
   "file_extension": ".py",
   "mimetype": "text/x-python",
   "name": "python",
   "nbconvert_exporter": "python",
   "pygments_lexer": "ipython3",
   "version": "3.6.8"
  }
 },
 "nbformat": 4,
 "nbformat_minor": 2
}
