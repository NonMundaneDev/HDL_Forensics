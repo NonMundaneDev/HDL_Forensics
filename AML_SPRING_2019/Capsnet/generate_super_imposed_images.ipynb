{
 "cells": [
  {
   "cell_type": "code",
   "execution_count": 4,
   "metadata": {},
   "outputs": [],
   "source": [
    "%matplotlib inline\n",
    "import pandas as pd\n",
    "import numpy as np\n",
    "import os\n",
    "import itertools\n",
    "import cv2\n",
    "import matplotlib.pyplot as plt\n",
    "import matplotlib.image as mpimg\n",
    "import pandas as pd\n",
    "import numpy as np\n",
    "import os\n",
    "\n",
    "image_path = 'AND_images/'\n",
    "images = sorted(os.listdir(image_path))\n",
    "\n",
    "## Fetch 10 writer images only\n",
    "previous_writer = \"\"\n",
    "counter = 1\n",
    "ten_writers = []\n",
    "start = 51\n",
    "stop  = 61\n",
    "\n",
    "for image in images:\n",
    "    current_writer = image[:4]\n",
    "    if(current_writer != previous_writer):\n",
    "        counter = counter + 1\n",
    "    if start <= counter and counter <= stop :\n",
    "        ten_writers.append(image)\n",
    "    previous_writer = current_writer\n",
    "\n",
    "# Create combinations of images\n",
    "image_pairs = itertools.combinations(ten_writers, 2)\n",
    "same_counter = 0\n",
    "diff_counter = 0\n",
    "\n",
    "for image_pair in image_pairs:\n",
    "    image_1 = cv2.imread('AND_images/' + image_pair[0])\n",
    "    image_2 = cv2.imread('AND_images/' + image_pair[1])\n",
    "    added_image = cv2.addWeighted(image_1, 0.5, image_2, 0.5, -100)\n",
    "    gray_image  = cv2.cvtColor(added_image, cv2.COLOR_BGR2GRAY)\n",
    "    if(image_pair[0][:4] == image_pair[1][:4]):\n",
    "        same_counter = same_counter + 1\n",
    "        cv2.imwrite('AND_Dataset_all/test/same_writer/same_'+str(same_counter)+'.jpg', gray_image)\n",
    "    else:\n",
    "        diff_counter = diff_counter + 1\n",
    "        cv2.imwrite('AND_Dataset_all/test/diff_writer/diff_'+str(diff_counter)+'.jpg', gray_image)"
   ]
  },
  {
   "cell_type": "code",
   "execution_count": 2,
   "metadata": {},
   "outputs": [
    {
     "data": {
      "text/plain": [
       "1532"
      ]
     },
     "execution_count": 2,
     "metadata": {},
     "output_type": "execute_result"
    }
   ],
   "source": [
    "import os\n",
    "\n",
    "previous_writer = \"\"\n",
    "image_path = 'AND_images/'\n",
    "images = sorted(os.listdir(image_path))\n",
    "\n",
    "counter = 1\n",
    "\n",
    "for image in images:\n",
    "    current_writer = image[:4]\n",
    "    if(current_writer != previous_writer):\n",
    "        counter = counter + 1\n",
    "    previous_writer = current_writer\n",
    "counter"
   ]
  },
  {
   "cell_type": "code",
   "execution_count": null,
   "metadata": {},
   "outputs": [],
   "source": [
    "import matplotlib.pyplot as plt\n",
    "import numpy as np\n",
    "\n",
    "def show_images(images, cols = 1, titles = None):\n",
    "    \"\"\"Display a list of images in a single figure with matplotlib.\n",
    "    \n",
    "    Parameters\n",
    "    ---------\n",
    "    images: List of np.arrays compatible with plt.imshow.\n",
    "    \n",
    "    cols (Default = 1): Number of columns in figure (number of rows is \n",
    "                        set to np.ceil(n_images/float(cols))).\n",
    "    \n",
    "    titles: List of titles corresponding to each image. Must have\n",
    "            the same length as titles.\n",
    "    \"\"\"\n",
    "    assert((titles is None)or (len(images) == len(titles)))\n",
    "    n_images = len(images)\n",
    "    if titles is None: titles = ['Image (%d)' % i for i in range(1,n_images + 1)]\n",
    "    fig = plt.figure()\n",
    "    for n, (image, title) in enumerate(zip(images, titles)):\n",
    "        a = fig.add_subplot(cols, np.ceil(n_images/float(cols)), n + 1)\n",
    "        if image.ndim == 2:\n",
    "            plt.gray()\n",
    "        plt.imshow(image)\n",
    "        a.set_title(title)\n",
    "    fig.set_size_inches(np.array(fig.get_size_inches()) * n_images)\n",
    "    plt.show()"
   ]
  }
 ],
 "metadata": {
  "kernelspec": {
   "display_name": "Python (tf-gpu)",
   "language": "python",
   "name": "tf-gpu"
  },
  "language_info": {
   "codemirror_mode": {
    "name": "ipython",
    "version": 3
   },
   "file_extension": ".py",
   "mimetype": "text/x-python",
   "name": "python",
   "nbconvert_exporter": "python",
   "pygments_lexer": "ipython3",
   "version": "3.6.8"
  }
 },
 "nbformat": 4,
 "nbformat_minor": 2
}
