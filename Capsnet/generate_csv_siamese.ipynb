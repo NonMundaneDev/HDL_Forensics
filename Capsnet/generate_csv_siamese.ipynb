{
 "cells": [
  {
   "cell_type": "code",
   "execution_count": 3,
   "metadata": {},
   "outputs": [],
   "source": [
    "import os\n",
    "import pandas as pd\n",
    "\n",
    "train_files_list = os.listdir('unseen-dataset/ValidationSet/')\n",
    "from itertools import combinations\n",
    "def generateDatasetAndSave_Siamese():\n",
    "    label = []\n",
    "    left_path = []\n",
    "    right_path = []\n",
    "    simCounter = 0\n",
    "    for l,r in combinations(train_files_list,2):\n",
    "        if(int(l[:4]) == int(r[:4])):\n",
    "            label.append(1)\n",
    "    #     else:\n",
    "    #         label.append([0,1])\n",
    "            left_path.append(l)\n",
    "            right_path.append(r)\n",
    "            simCounter+=1\n",
    "    diffCounter = 0\n",
    "    for l,r in combinations(train_files_list,2):\n",
    "        if(int(l[:4]) != int(r[:4])):\n",
    "            label.append(0)\n",
    "    #     else:\n",
    "    #         label.append([0,1])\n",
    "            left_path.append(l)\n",
    "            right_path.append(r)\n",
    "            diffCounter+=1\n",
    "        if(diffCounter==simCounter):\n",
    "            break\n",
    "    df = pd.DataFrame()\n",
    "    pd.options.display.max_colwidth = 100\n",
    "    df['left'] = left_path\n",
    "    df['right'] = right_path\n",
    "    df['label'] = label\n",
    "    df.to_csv('dataset_unseen_validation_siamese.csv')\n",
    "generateDatasetAndSave_Siamese()"
   ]
  },
  {
   "cell_type": "code",
   "execution_count": null,
   "metadata": {},
   "outputs": [],
   "source": [
    "import os\n",
    "\n",
    "tr = os.listdir('shuffled-dataset/TrainingSet/')\n",
    "vr = os.listdir('shuffled-dataset/ValidationSet/')\n",
    "\n",
    "intersetion_writers = []\n",
    "for t in tr:\n",
    "    for v in vr:\n",
    "        if(t[:4] == v[:4] and t[:4] not in intersetion_writers):\n",
    "            intersetion_writers.append(t[:4])\n",
    "\n",
    "len(intersetion_writers)"
   ]
  }
 ],
 "metadata": {
  "kernelspec": {
   "display_name": "Python (tf-gpu)",
   "language": "python",
   "name": "tf-gpu"
  },
  "language_info": {
   "codemirror_mode": {
    "name": "ipython",
    "version": 3
   },
   "file_extension": ".py",
   "mimetype": "text/x-python",
   "name": "python",
   "nbconvert_exporter": "python",
   "pygments_lexer": "ipython3",
   "version": "3.6.8"
  }
 },
 "nbformat": 4,
 "nbformat_minor": 2
}
