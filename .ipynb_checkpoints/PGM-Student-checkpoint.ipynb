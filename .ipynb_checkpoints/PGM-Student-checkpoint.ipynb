{
 "cells": [
  {
   "cell_type": "code",
   "execution_count": 129,
   "metadata": {},
   "outputs": [],
   "source": [
    "from pgmpy.models import BayesianModel\n",
    "from pgmpy.factors.discrete import TabularCPD"
   ]
  },
  {
   "cell_type": "code",
   "execution_count": 130,
   "metadata": {},
   "outputs": [],
   "source": [
    "student = BayesianModel()\n",
    "student.add_nodes_from(['diff', 'intel', 'grade','sat','letter','apply','job'])\n",
    "student.add_edges_from([('diff', 'grade'), ('intel', 'grade'), ('intel', 'sat'), ('grade', 'letter'),('apply', 'job'),('letter','job'),('sat','job')])\n",
    "# student.active_trail_nodes(['grades'])"
   ]
  },
  {
   "cell_type": "code",
   "execution_count": 131,
   "metadata": {},
   "outputs": [
    {
     "name": "stdout",
     "output_type": "stream",
     "text": [
      "+--------+-----+\n",
      "| diff_0 | 0.6 |\n",
      "+--------+-----+\n",
      "| diff_1 | 0.4 |\n",
      "+--------+-----+\n"
     ]
    }
   ],
   "source": [
    "cpd_diff = TabularCPD('diff',2,[[0.6],\n",
    "                                [0.4]],\n",
    "                                evidence=[], evidence_card=[])\n",
    "print(cpd_diff)"
   ]
  },
  {
   "cell_type": "code",
   "execution_count": 132,
   "metadata": {},
   "outputs": [
    {
     "name": "stdout",
     "output_type": "stream",
     "text": [
      "+---------+-----+\n",
      "| intel_0 | 0.7 |\n",
      "+---------+-----+\n",
      "| intel_1 | 0.3 |\n",
      "+---------+-----+\n"
     ]
    }
   ],
   "source": [
    "cpd_intel = TabularCPD('intel',2,[[0.7],\n",
    "                                [0.3]],\n",
    "                                evidence=[], evidence_card=[])\n",
    "print(cpd_intel)"
   ]
  },
  {
   "cell_type": "code",
   "execution_count": 133,
   "metadata": {},
   "outputs": [
    {
     "name": "stdout",
     "output_type": "stream",
     "text": [
      "+---------+---------+---------+---------+---------+\n",
      "| intel   | intel_0 | intel_0 | intel_1 | intel_1 |\n",
      "+---------+---------+---------+---------+---------+\n",
      "| diff    | diff_0  | diff_1  | diff_0  | diff_1  |\n",
      "+---------+---------+---------+---------+---------+\n",
      "| grade_0 | 0.3     | 0.05    | 0.9     | 0.5     |\n",
      "+---------+---------+---------+---------+---------+\n",
      "| grade_1 | 0.4     | 0.25    | 0.08    | 0.3     |\n",
      "+---------+---------+---------+---------+---------+\n",
      "| grade_2 | 0.3     | 0.7     | 0.02    | 0.2     |\n",
      "+---------+---------+---------+---------+---------+\n"
     ]
    }
   ],
   "source": [
    "cpd_grade = TabularCPD('grade',3,[[0.3,0.05,0.9,0.5],\n",
    "                                    [0.4,0.25,0.08,0.3],\n",
    "                                    [0.3,0.7,0.02,0.2]],\n",
    "                                    evidence=['intel', 'diff'], evidence_card=[2,2])\n",
    "print(cpd_grade)"
   ]
  },
  {
   "cell_type": "code",
   "execution_count": 134,
   "metadata": {},
   "outputs": [
    {
     "name": "stdout",
     "output_type": "stream",
     "text": [
      "+-------+---------+---------+\n",
      "| intel | intel_0 | intel_1 |\n",
      "+-------+---------+---------+\n",
      "| sat_0 | 0.95    | 0.2     |\n",
      "+-------+---------+---------+\n",
      "| sat_1 | 0.05    | 0.8     |\n",
      "+-------+---------+---------+\n"
     ]
    }
   ],
   "source": [
    "cpd_sat = TabularCPD('sat',2,[[0.95, 0.2],\n",
    "                              [0.05, 0.8]],\n",
    "                              evidence=['intel'], evidence_card=[2])\n",
    "print(cpd_sat)"
   ]
  },
  {
   "cell_type": "code",
   "execution_count": 135,
   "metadata": {},
   "outputs": [
    {
     "name": "stdout",
     "output_type": "stream",
     "text": [
      "+----------+---------+---------+---------+\n",
      "| grade    | grade_0 | grade_1 | grade_2 |\n",
      "+----------+---------+---------+---------+\n",
      "| letter_0 | 0.1     | 0.4     | 0.99    |\n",
      "+----------+---------+---------+---------+\n",
      "| letter_1 | 0.9     | 0.6     | 0.01    |\n",
      "+----------+---------+---------+---------+\n"
     ]
    }
   ],
   "source": [
    "cpd_letter = TabularCPD('letter',2,[[0.1, 0.4, 0.99],\n",
    "                                    [0.9, 0.6, 0.01]],\n",
    "                                    evidence=['grade'], evidence_card=[3])\n",
    "print(cpd_letter)"
   ]
  },
  {
   "cell_type": "code",
   "execution_count": 136,
   "metadata": {},
   "outputs": [
    {
     "name": "stdout",
     "output_type": "stream",
     "text": [
      "+---------+-----+\n",
      "| apply_0 | 0.3 |\n",
      "+---------+-----+\n",
      "| apply_1 | 0.7 |\n",
      "+---------+-----+\n"
     ]
    }
   ],
   "source": [
    "cpd_apply = TabularCPD('apply',2,[[0.3],\n",
    "                                  [0.7]],\n",
    "                                  evidence=[], evidence_card=[])\n",
    "print(cpd_apply)"
   ]
  },
  {
   "cell_type": "code",
   "execution_count": 137,
   "metadata": {},
   "outputs": [
    {
     "name": "stdout",
     "output_type": "stream",
     "text": [
      "+--------+----------+----------+----------+----------+----------+----------+----------+----------+\n",
      "| apply  | apply_0  | apply_0  | apply_0  | apply_0  | apply_1  | apply_1  | apply_1  | apply_1  |\n",
      "+--------+----------+----------+----------+----------+----------+----------+----------+----------+\n",
      "| sat    | sat_0    | sat_0    | sat_1    | sat_1    | sat_0    | sat_0    | sat_1    | sat_1    |\n",
      "+--------+----------+----------+----------+----------+----------+----------+----------+----------+\n",
      "| letter | letter_0 | letter_1 | letter_0 | letter_1 | letter_0 | letter_1 | letter_0 | letter_1 |\n",
      "+--------+----------+----------+----------+----------+----------+----------+----------+----------+\n",
      "| job_0  | 0.8      | 0.8      | 0.8      | 0.8      | 0.9      | 0.4      | 0.1      | 0.1      |\n",
      "+--------+----------+----------+----------+----------+----------+----------+----------+----------+\n",
      "| job_1  | 0.2      | 0.2      | 0.2      | 0.2      | 0.1      | 0.6      | 0.9      | 0.9      |\n",
      "+--------+----------+----------+----------+----------+----------+----------+----------+----------+\n"
     ]
    }
   ],
   "source": [
    "cpd_job = TabularCPD('job',2,[[0.8, 0.8, 0.8, 0.8, 0.9, 0.4, 0.1, 0.1],\n",
    "                              [0.2, 0.2, 0.2, 0.2, 0.1, 0.6, 0.9, 0.9]],\n",
    "                              evidence=['apply','sat','letter'], evidence_card=[2,2,2])\n",
    "print(cpd_job)"
   ]
  },
  {
   "cell_type": "code",
   "execution_count": 138,
   "metadata": {},
   "outputs": [],
   "source": [
    "student.add_cpds(cpd_diff,cpd_intel, cpd_grade, cpd_sat, cpd_letter, cpd_apply, cpd_job)"
   ]
  },
  {
   "cell_type": "code",
   "execution_count": 139,
   "metadata": {},
   "outputs": [],
   "source": [
    "from pgmpy.inference import VariableElimination"
   ]
  },
  {
   "cell_type": "code",
   "execution_count": 140,
   "metadata": {},
   "outputs": [],
   "source": [
    "inference = VariableElimination(student)\n",
    "marginals = inference.query(variables={'letter'})\n",
    "# print(marginals['diff'])\n",
    "# print(marginals['intel'])\n",
    "# print(marginals['grade'])\n",
    "# print(marginals['sat'])\n",
    "# print(marginals['letter'])"
   ]
  },
  {
   "cell_type": "code",
   "execution_count": 141,
   "metadata": {},
   "outputs": [],
   "source": [
    "mpe = inference.query(['intel'],\n",
    "                          evidence={'job': 1})"
   ]
  },
  {
   "cell_type": "code",
   "execution_count": 142,
   "metadata": {},
   "outputs": [],
   "source": [
    "from pgmpy.sampling import BayesianModelSampling"
   ]
  },
  {
   "cell_type": "code",
   "execution_count": 143,
   "metadata": {},
   "outputs": [],
   "source": [
    "from pgmpy.sampling import BayesianModelSampling\n",
    "\n",
    "forward_sampler = BayesianModelSampling(student)\n",
    "samples = forward_sampler.forward_sample(size=200)"
   ]
  },
  {
   "cell_type": "code",
   "execution_count": 155,
   "metadata": {},
   "outputs": [],
   "source": [
    "from pgmpy.models import BayesianModel\n",
    "from pgmpy.factors.discrete import TabularCPD\n",
    "from pgmpy.inference import VariableElimination"
   ]
  },
  {
   "cell_type": "code",
   "execution_count": 156,
   "metadata": {},
   "outputs": [],
   "source": [
    "student = BayesianModel()\n",
    "student.add_nodes_from(['diff', 'intel', 'grade','sat','letter','apply','job'])\n",
    "student.add_edges_from([('diff', 'grade'), \n",
    "                        ('intel', 'grade'), \n",
    "                        ('intel', 'sat'), \n",
    "                        ('grade', 'letter'),\n",
    "                        ('apply', 'job'),\n",
    "                        ('letter','job'),\n",
    "                        ('sat','job')])\n",
    "student.fit(samples)"
   ]
  },
  {
   "cell_type": "code",
   "execution_count": 161,
   "metadata": {},
   "outputs": [
    {
     "name": "stdout",
     "output_type": "stream",
     "text": [
      "+---------+--------------+\n",
      "| intel   |   phi(intel) |\n",
      "+=========+==============+\n",
      "| intel_0 |       0.0854 |\n",
      "+---------+--------------+\n",
      "| intel_1 |       0.9146 |\n",
      "+---------+--------------+\n"
     ]
    }
   ],
   "source": [
    "inference = VariableElimination(student)\n",
    "mpe = inference.query(variables={'intel'},evidence={'job' : 1, 'sat': 1, 'letter': 1})\n",
    "print(mpe['intel'])"
   ]
  },
  {
   "cell_type": "code",
   "execution_count": null,
   "metadata": {},
   "outputs": [],
   "source": []
  }
 ],
 "metadata": {
  "kernelspec": {
   "display_name": "Python 3",
   "language": "python",
   "name": "python3"
  },
  "language_info": {
   "codemirror_mode": {
    "name": "ipython",
    "version": 3
   },
   "file_extension": ".py",
   "mimetype": "text/x-python",
   "name": "python",
   "nbconvert_exporter": "python",
   "pygments_lexer": "ipython3",
   "version": "3.6.5rc1"
  }
 },
 "nbformat": 4,
 "nbformat_minor": 2
}
