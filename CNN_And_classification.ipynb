{
 "cells": [
  {
   "cell_type": "markdown",
   "metadata": {},
   "source": [
    "# Preprocessing"
   ]
  },
  {
   "cell_type": "code",
   "execution_count": 2,
   "metadata": {
    "collapsed": true
   },
   "outputs": [],
   "source": [
    "import cv2 as ocr\n",
    "import sys\n",
    "import gc\n",
    "import numpy as np\n",
    "from os import listdir\n",
    "from os.path import isfile, join\n",
    "# imageDir = 'resized_images_handprinted/images'\n",
    "# imageFiles = [imageDir+'/'+f for f in listdir(imageDir) if isfile(join(imageDir, f))]\n",
    "# imageClass = []\n",
    "# input_data_list = []\n"
   ]
  },
  {
   "cell_type": "code",
   "execution_count": 5,
   "metadata": {
    "collapsed": true
   },
   "outputs": [],
   "source": [
    "def get_imageClass():\n",
    "    \n",
    "    for imgF in imageFiles:\n",
    "        imageClass.append(int(imgF.split('/')[2][0:4]))\n",
    "   "
   ]
  },
  {
   "cell_type": "code",
   "execution_count": 7,
   "metadata": {},
   "outputs": [
    {
     "data": {
      "text/plain": [
       "10"
      ]
     },
     "execution_count": 7,
     "metadata": {},
     "output_type": "execute_result"
    }
   ],
   "source": [
    "from collections import Counter\n",
    "import pandas as pd\n",
    "imageDir = 'Gen2000-Top10-64x64/TrainingSet'\n",
    "imageFiles = [imageDir+'/'+f for f in listdir(imageDir) if isfile(join(imageDir, f))]\n",
    "imageClass = []\n",
    "get_imageClass()\n",
    "# df = pd.DataFrame()\n",
    "# df['classValue'] = Counter(imageClass).keys()\n",
    "# df['classCount'] = Counter(imageClass).values()\n",
    "# print(df)\n",
    "\n",
    "\n",
    "# df1 = pd.DataFrame()\n",
    "# df1['imagePath'] = imageFiles\n",
    "# df1['imageClass'] = imageClass\n",
    "# print(df1)\n",
    "len(Counter(imageClass).keys())"
   ]
  },
  {
   "cell_type": "code",
   "execution_count": null,
   "metadata": {
    "collapsed": true
   },
   "outputs": [],
   "source": [
    "def get_maxwidth_maxheight():\n",
    "    minWidthSize = 0\n",
    "    minHeightSize = 0\n",
    "    maxWidthSize = 0\n",
    "    maxHeightSize = 0\n",
    "    for imgF in imageFiles:\n",
    "        imageClass.append(int(imgF.split('/')[2][0:4]))\n",
    "        img = ocr.imread(imgF)\n",
    "    #     print(imageFiles[t])\n",
    "        if(maxWidthSize<img.shape[0]):\n",
    "            maxWidthSize = img.shape[0]\n",
    "            maxWidthImgName = imgF\n",
    "        if(maxHeightSize<img.shape[1]):\n",
    "            maxHeightSize = img.shape[1]   \n",
    "            maxHeightImgName = imgF\n",
    "#     print(maxWidthImgName + ',\\n' + maxHeightImgName)\n",
    "    return (maxWidthSize,maxHeightSize)\n",
    "\n",
    "def resize_images():\n",
    "    maxwidth,maxheight = (500,500) #get_maxwidth_maxheight()\n",
    "    cons = 255\n",
    "    #img-dir_path is the path of the directory which has the images in the class directory\n",
    "\n",
    "    \n",
    "    for imgF in imageFiles:\n",
    "        input_img=ocr.imread(imgF)\n",
    "        if(input_img.shape[1]>300):\n",
    "            #                 cv2.imshow(\"images\", input_img)\n",
    "            #                 cv2.waitKey(0)\n",
    "            c = input_img.shape[1]/2\n",
    "            dim = (int(c), int(input_img.shape[0]/2))\n",
    "            input_img = cv2.resize(input_img, dim, interpolation = cv2.INTER_AREA)\n",
    "            #                 cv2.imshow(\"images\", input_img)\n",
    "            #                 cv2.waitKey(0)\n",
    "            cv2.imwrite(data_path + '/'+ dataset + '/'+ img, input_img\n",
    "        #             input_img=cv2.cvtColor(input_img, cv2.COLOR_BGR2GRAY)\n",
    "        shp = input_img.shape\n",
    "        #             print('np.shape(input_img): ',shp)\n",
    "        input_img = input_img.transpose(2,1,0).reshape(shp[2],shp[1],shp[0])\n",
    "        leftPad = round(float((maxwidth - shp[1])) / 2) if ((maxwidth - shp[1])>0) else 0\n",
    "        rightPad = round(float(maxwidth - shp[1]) - leftPad) if ((maxwidth - shp[1])>0) else 0\n",
    "        topPad = round(float((maxheight - shp[0])) / 2) if ((maxheight - shp[0])>0) else 0\n",
    "        bottomPad = round(float(maxheight - shp[0]) - topPad) if ((maxheight - shp[0])>0) else 0\n",
    "        pads = ((leftPad,rightPad),(topPad,bottomPad))\n",
    "        img_arr = np.ndarray((3,maxwidth,maxheight),np.int)\n",
    "        \n",
    "        try:\n",
    "            for i,x in enumerate(input_img):\n",
    "                x_p = np.pad(x,pads,\n",
    "                            'constant',\n",
    "                             constant_values=cons)\n",
    "                img_arr[i,:,:] = x_p\n",
    "            ii = np.uint8(img_arr).transpose(2,1,0)\n",
    "    #             ii = np.asarray(ii)\n",
    "            ocr.imwrite(\"resized_\"+imgF, ii)\n",
    "        except Exception as e:\n",
    "            print(imgF+'->caused error->pads:'+str(pads))\n",
    "            print(e)\n",
    "        gc.collect()\n",
    "#         input_data_list.append(ii)\n",
    "#         input_label_list.append(FolderNumber)"
   ]
  },
  {
   "cell_type": "markdown",
   "metadata": {},
   "source": [
    "# Code"
   ]
  },
  {
   "cell_type": "code",
   "execution_count": null,
   "metadata": {
    "collapsed": true
   },
   "outputs": [],
   "source": [
    "import cv2 as ocr\n",
    "import sys\n",
    "import gc\n",
    "import numpy as np\n",
    "from os import listdir\n",
    "from os.path import isfile, join\n",
    "import tensorflow as tf\n",
    "import keras\n",
    "import pandas as pd\n",
    "from sklearn.utils import shuffle\n",
    "from sklearn.cross_validation import train_test_split\n",
    "from sklearn.utils import shuffle\n",
    "from tqdm import tqdm, trange\n",
    "\n",
    "\n",
    "imageDir = 'resized_images_handprinted/images'\n",
    "imageFiles = [imageDir+'/'+f for f in listdir(imageDir) if isfile(join(imageDir, f))]\n",
    "input_label_list = []\n",
    "input_data_list = []\n",
    "try:\n",
    "    counter = 0\n",
    "    for imgF in tqdm(imageFiles, total=len(imageFiles), unit=\"files\"):\n",
    "        input_label_list.append(int(imgF.split('/')[2][0:4]))\n",
    "        img = ocr.imread(imageFiles[0],ocr.COLOR_BGR2GRAY)        \n",
    "\n",
    "        input_data_list.append(ocr.imread(imageFiles[0],ocr.COLOR_BGR2GRAY))\n",
    "        \n",
    "#         gc.collect()\n",
    "#         counter += 1\n",
    "#         if counter == 1000 :\n",
    "#             break\n",
    "except Exception as e:\n",
    "    print(e)\n",
    "\n",
    "num_classes = max(input_label_list)+1\n",
    "INP_IMGS = np.array(input_data_list)\n",
    "LABELS = np.array(input_label_list)\n",
    "Y = keras.utils.to_categorical(LABELS)\n",
    "INP_IMGS = INP_IMGS.astype('float32')\n",
    "INP_IMGS /= 255\n",
    "x,y = shuffle(INP_IMGS,Y, random_state=2)\n",
    "\n",
    "\n",
    "x_train,x_test,y_train,y_test = train_test_split(x, y, test_size=0.2, random_state=2)\n",
    "\n",
    "# x_train = x_train.reshape(-1,x_train.shape[1],x_train.shape[2],1)\n",
    "# x_test = x_test.reshape(-1,x_test.shape[1],x_test.shape[2],1)\n",
    "\n"
   ]
  },
  {
   "cell_type": "code",
   "execution_count": null,
   "metadata": {
    "collapsed": true
   },
   "outputs": [],
   "source": [
    "INP_IMGS[0][38][59][0]"
   ]
  },
  {
   "cell_type": "code",
   "execution_count": null,
   "metadata": {
    "collapsed": true
   },
   "outputs": [],
   "source": [
    "\n",
    "LOG_DIR = 'logs/CNN_32_32_64_64_128_128_D128'\n",
    "tensorCallback = keras.callbacks.TensorBoard(log_dir=LOG_DIR\n",
    "                            , batch_size=32\n",
    "                            , write_graph=True\n",
    "                            , write_grads=True\n",
    "                            , write_images=False\n",
    "                            , embeddings_freq=0\n",
    "                            , embeddings_layer_names=None\n",
    "                            , embeddings_metadata=None)\n",
    "\n",
    "\n",
    "filepath=\"weights/weights-cnn-{epoch:02d}-{loss:.2f}-{acc:.2f}.hdf5\"\n",
    "checkpoint = ModelCheckpoint(filepath\n",
    "           , monitor='loss'\n",
    "           , verbose=1\n",
    "           , save_best_only=True\n",
    "           , mode='min'\n",
    "            ,period = 1\n",
    "           , save_weights_only=True)\n",
    "callbacks_list = [tensorCallback,checkpoint]"
   ]
  },
  {
   "cell_type": "code",
   "execution_count": null,
   "metadata": {
    "collapsed": true
   },
   "outputs": [],
   "source": [
    "\n",
    "# model.to_json()"
   ]
  },
  {
   "cell_type": "code",
   "execution_count": null,
   "metadata": {
    "collapsed": true,
    "scrolled": true
   },
   "outputs": [],
   "source": [
    "batches = 1\n",
    "hist = model.fit(x_train, y_train,\n",
    "          batch_size=batches,\n",
    "          epochs=epochs,\n",
    "          verbose=2,\n",
    "#                  ,\n",
    "#            validation_data=(x_test, y_test)#,\n",
    "         callbacks=callbacks_list\n",
    "          )\n"
   ]
  },
  {
   "cell_type": "code",
   "execution_count": null,
   "metadata": {
    "collapsed": true
   },
   "outputs": [],
   "source": [
    "len(y_train)\n",
    "len(x_train)"
   ]
  },
  {
   "cell_type": "code",
   "execution_count": null,
   "metadata": {
    "collapsed": true
   },
   "outputs": [],
   "source": [
    "y_train.shape"
   ]
  },
  {
   "cell_type": "code",
   "execution_count": null,
   "metadata": {
    "collapsed": true
   },
   "outputs": [],
   "source": [
    "%matplotlib inline\n",
    "batches = 1\n",
    "hist = model.fit(x_train, y_train,\n",
    "          batch_size=batches,\n",
    "          epochs=epochs,\n",
    "          verbose=2,\n",
    "#                  ,\n",
    "#            validation_data=(x_test, y_test)#,\n",
    "         callbacks=callbacks_list\n",
    "          )\n",
    "\n",
    "df = pd.DataFrame(hist.history)\n",
    "df.plot(subplots=True)"
   ]
  },
  {
   "cell_type": "code",
   "execution_count": null,
   "metadata": {
    "collapsed": true
   },
   "outputs": [],
   "source": [
    "len(input_label_list)"
   ]
  },
  {
   "cell_type": "code",
   "execution_count": null,
   "metadata": {
    "collapsed": true
   },
   "outputs": [],
   "source": [
    "input_data_list"
   ]
  },
  {
   "cell_type": "code",
   "execution_count": null,
   "metadata": {
    "collapsed": true
   },
   "outputs": [],
   "source": [
    "import cv2 as ocr\n",
    "def BatchGenerator():\n",
    "    x_train = ocr.imread('resized_images_handprinted/images/0001a_num1.png')\n",
    "    y_train = 1\n",
    "    return x_train, y_train"
   ]
  },
  {
   "cell_type": "code",
   "execution_count": null,
   "metadata": {
    "collapsed": true
   },
   "outputs": [],
   "source": [
    "im, c = BatchGenerator()"
   ]
  },
  {
   "cell_type": "code",
   "execution_count": null,
   "metadata": {
    "collapsed": true
   },
   "outputs": [],
   "source": [
    "from keras.preprocessing.image import ImageDataGenerator, array_to_img, img_to_array, load_img\n",
    "import math\n",
    "from tqdm import tqdm\n",
    "\n",
    "datagen = ImageDataGenerator(\n",
    "      rotation_range=40,\n",
    "      width_shift_range=0.2,\n",
    "      height_shift_range=0.2,\n",
    "      shear_range=0.2,\n",
    "      zoom_range=0.2,\n",
    "      horizontal_flip=True,\n",
    "      fill_mode='nearest')\n",
    "\n",
    "df = pd.read_csv('classTable.csv', names=['classValue','classCount'],header=None)\n",
    "df = df.iloc[1:len(df)-1] # Removing the first row\n",
    "TotalClasses = len(df)\n",
    "for index in tqdm(range(0,TotalClasses)):  #Iterating over classes\n",
    "    classValue = int(df.iloc[index]['classValue'])\n",
    "    classCount = int(df.iloc[index]['classCount'])\n",
    "   \n",
    "#     print ('-----Generating------Class:' + str(classValue) + ' with ' + str(classCount) + ' to '+ str(math.ceil(1000/classCount)*classCount) + ' images------------')\n",
    "   \n",
    "    df1 = pd.read_csv('datasetPathAndClass.csv', names=['imagePath','imageClass'],header=None)\n",
    "    opdf = df1.query('imageClass == \\''+ str(classValue) + '\\'')\n",
    "    for indexPath in range(0,classCount):\n",
    "       imagePath = opdf.iloc[indexPath]['imagePath']\n",
    "       \n",
    "       img = load_img(imagePath)  # this is a PIL image\n",
    "       x = img_to_array(img)  # this is a Numpy array with shape (3, 150, 150)\n",
    "       x = x.reshape((1,) + x.shape)  # this is a Numpy array with shape (1, 3, 150, 150)\n",
    "       \n",
    "       # the .flow() command below generates batches of randomly transformed images\n",
    "       # and saves the results to the `preview/` directory\n",
    "       approxNum = math.ceil(1000/classCount)\n",
    "       GenPerImage = 0\n",
    "        for batch in datagen.flow(x, batch_size=1,\n",
    "                                save_to_dir='GenData', save_prefix=(str(classValue).zfill(4)), save_format='jpeg'):"
   ]
  },
  {
   "cell_type": "code",
   "execution_count": null,
   "metadata": {
    "collapsed": true
   },
   "outputs": [],
   "source": [
    "import cv2 as ocr\n",
    "import sys\n",
    "import gc\n",
    "import numpy as np\n",
    "from os import listdir\n",
    "from os.path import isfile, join\n",
    "from keras.preprocessing.image import ImageDataGenerator, array_to_img, img_to_array, load_img\n",
    "import math\n",
    "from tqdm import tqdm\n",
    "import keras\n",
    "from keras.utils import np_utils\n",
    "import pandas as pd\n",
    "import tensorflow as tf\n",
    "from keras.backend.tensorflow_backend import set_session\n",
    "from keras.callbacks import TensorBoard\n",
    "from keras.callbacks import ModelCheckpoint\n",
    "from keras.models import Sequential\n",
    "from keras.layers import Input, Conv2D, Dense,MaxPooling2D, Dropout, Flatten"
   ]
  },
  {
   "cell_type": "code",
   "execution_count": null,
   "metadata": {
    "collapsed": true
   },
   "outputs": [],
   "source": [
    "# image files commented coz we are training on top 10 classes\n",
    "# imageDir = 'resized_images_handprinted/images'\n",
    "# imageFiles = [imageDir+'/'+f for f in listdir(imageDir) if isfile(join(imageDir, f))]\n",
    "# imageFiles = imageFiles[:1000]\n",
    "# imageClass = []\n",
    "\n",
    "filesCount = len(imageFiles)\n",
    "\n",
    "imageClass =[]\n",
    "for imgF in imageFiles:\n",
    "    imageClass.append(int(imgF.split('/')[2][0:4]))\n",
    "    \n",
    "print(imageClass)\n",
    "num_classes = max(imageClass)+1\n",
    "print('num_images=',filesCount)\n",
    "print('num_classes=',num_classes)\n",
    "datagen = ImageDataGenerator(\n",
    "      rotation_range=40,\n",
    "      width_shift_range=0.2,\n",
    "      height_shift_range=0.2,\n",
    "      shear_range=0.2,\n",
    "      zoom_range=0.2,\n",
    "      horizontal_flip=True,\n",
    "      rescale=1./255,\n",
    "      fill_mode='nearest')\n",
    "\n",
    "# def getImages(num_images = 10, slideBy = 1, slideCounter = 0):\n",
    "#     try:\n",
    "#         input_label_list = []\n",
    "#         input_data_list = []\n",
    "#         counter = 0\n",
    "#         if (slideCounter+num_images) == len(imageFiles):\n",
    "#             slideCounter = 0\n",
    "            \n",
    "#         for imgF in imageFiles[slideCounter:slideCounter+num_images]:\n",
    "# #             print('slideConuter:',slideCounter)\n",
    "# #             input_label_list.append(imgF)\n",
    "#             input_label_list.append(int(imgF.split('/')[2][0:4]))\n",
    "#             input_data_list.append(ocr.imread(imgF))\n",
    "# #             input_data_list.append(imgF)            \n",
    "#             counter += 1\n",
    "#             if counter == num_images :\n",
    "#                 break              \n",
    "#         #slide for Next batch\n",
    "#         slideCounter = slideCounter + slideBy\n",
    "#         return np.array(input_data_list), np.array(input_label_list)\n",
    "#     except Exception as e:\n",
    "#         print(e)\n",
    "\n",
    "def getImages(windowSize=10, stepNumber=0):\n",
    "    try:\n",
    "        input_label_list = []\n",
    "        input_data_list = []\n",
    "        counter = 0\n",
    "        start = stepNumber\n",
    "        end = stepNumber + windowSize\n",
    "\n",
    "        for imgF in imageFiles[start:end]:\n",
    "            input_label_list.append(int((imgF.split('/')[2])[0:4]))\n",
    "            input_data_list.append(ocr.imread(imgF))\n",
    "\n",
    "        return (np.array(input_data_list), np.array(input_label_list))\n",
    "    except Exception as e:\n",
    "        print (e)\n",
    "\n",
    "def myGenerator():\n",
    "    (X_train, y_train), (X_test, y_test) = mnist.load_data()\n",
    "    y_train = np_utils.to_categorical(y_train,10)\n",
    "    X_train = X_train.reshape(X_train.shape[0], 1, img_rows, img_cols)\n",
    "    X_test = X_test.reshape(X_test.shape[0], 1, img_rows, img_cols)\n",
    "    X_train = X_train.astype('float32')\n",
    "    X_test = X_test.astype('float32')\n",
    "    X_train /= 255\n",
    "    X_test /= 255\n",
    "    while 1:\n",
    "        for i in range(1875): # 1875 * 32 = 60000 -> # of training samples\n",
    "            if i%125==0:\n",
    "                print (\"i = \" + str(i))\n",
    "            yield X_train[i*32:(i+1)*32], y_train[i*32:(i+1)*32]"
   ]
  },
  {
   "cell_type": "code",
   "execution_count": null,
   "metadata": {
    "collapsed": true,
    "scrolled": true
   },
   "outputs": [],
   "source": [
    "\n",
    "config = tf.ConfigProto()\n",
    "config.gpu_options.per_process_gpu_memory_fraction = 0.9\n",
    "set_session(tf.Session(config=config))\n",
    "input_shape  = (64,64,3)\n",
    "model = Sequential()\n",
    "model.add(Conv2D(64,kernel_size=(3, 3),activation='relu',input_shape=input_shape))\n",
    "model.add(Conv2D(64, (3, 3), activation='relu'))\n",
    "model.add(MaxPooling2D(pool_size=(2, 2)))\n",
    "model.add(Conv2D(128, (3, 3), activation='relu'))\n",
    "model.add(Conv2D(128, (3, 3), activation='relu'))\n",
    "model.add(MaxPooling2D(pool_size=(2, 2)))\n",
    "model.add(Conv2D(256, (3, 3), activation='relu'))\n",
    "model.add(Conv2D(256, (3, 3), activation='relu'))\n",
    "model.add(Conv2D(256, (3, 3), activation='relu'))\n",
    "model.add(Conv2D(256, (3, 3), activation='relu'))\n",
    "model.add(MaxPooling2D(pool_size=(2, 2)))\n",
    "model.add(Dropout(0.25))\n",
    "model.add(Flatten())\n",
    "model.add(Dense(128, activation='relu'))\n",
    "model.add(Dropout(0.5))\n",
    "model.add(Dense(num_classes, activation='softmax'))\n",
    "\n",
    "model.compile(loss=keras.losses.categorical_crossentropy,\n",
    "              optimizer=keras.optimizers.SGD(lr=0.01, decay=1e-6, momentum=0.9, nesterov=True),\n",
    "              metrics=['accuracy'])\n",
    "model.summary()\n"
   ]
  },
  {
   "cell_type": "code",
   "execution_count": null,
   "metadata": {
    "collapsed": true
   },
   "outputs": [],
   "source": []
  },
  {
   "cell_type": "code",
   "execution_count": null,
   "metadata": {
    "collapsed": true,
    "scrolled": true
   },
   "outputs": [],
   "source": [
    "# print(x_train.shape)\n",
    "# for x in x_train:\n",
    "#     ocr.imshow('img',x)\n",
    "#     ocr.waitKey(0)\n",
    "# #     print(np.argmax(y))\n",
    "%matplotlib inline    \n",
    "\n",
    "df = pd.DataFrame()\n",
    "# from matplotlib.pyplot import imshow \n",
    "\n",
    "# # print(len(x_batch))\n",
    "batches = 0\n",
    "\n",
    "b_s = 1\n",
    "num_samples = 2\n",
    "epochs = 10\n",
    "batches = 0\n",
    "slideBySteps = num_samples - 1\n",
    "batch_metrics = None\n",
    "batch_metric_loss = []\n",
    "batch_metric_acc = []\n",
    "df = pd.DataFrame()\n",
    "for epoch in range(1, epochs+1):\n",
    "    for step in tqdm(range(0, len(imageFiles) - num_samples),\n",
    "                     total=(len(imageFiles) - num_samples), unit='files'):\n",
    "        x_train, y_train = getImages(stepNumber=step,windowSize=num_samples)\n",
    "#         print(x_train.shape)\n",
    "#         print(y_train.shape)\n",
    "        y_train = np_utils.to_categorical(y_train,num_classes)\n",
    "        for x_batch, y_batch in datagen.flow(x_train,y_train, batch_size=b_s):\n",
    "#             print(x_batch.shape)\n",
    "#             print(y_batch.shape)\n",
    "#             for y in y_batch:\n",
    "#                 print(np.argmax(y))\n",
    "            batch_metrics = model.train_on_batch(x_batch, y_batch)\n",
    "            batches += 1\n",
    "            if batches >= (num_samples/b_s):\n",
    "                batches = 0\n",
    "                break\n",
    "        batch_metric_loss.append(batch_metrics[0])\n",
    "        batch_metric_acc.append(batch_metrics[1])\n",
    "#         if slideCnt == 3:\n",
    "#             break\n",
    "    filepath=\"weights/top10-datagen-weights-deep-cnn.hdf5\"\n",
    "    model.save(filepath)\n",
    "    df = pd.DataFrame()\n",
    "    df['accuracy'] = batch_metric_acc\n",
    "    df['loss'] = batch_metric_loss\n",
    "    ax = df.plot(subplots=True)\n",
    "    accChart = ax[0]\n",
    "    lossChart = ax[1]\n",
    "    figAcc =  accChart.get_figure()\n",
    "    figAcc.savefig('AccChart.png')\n",
    "    figLoss =  lossChart.get_figure()\n",
    "    figLoss.savefig('LossChart.png')\n",
    "df.to_csv('loss_acc_metrics.csv')\n",
    "#     break\n",
    "#             model.train_on_batch(x_batch, y_batch)\n",
    "#             batches += 1\n",
    "#             if batches >= ( b_s * 3 ):\n",
    "#                 break\n",
    "        \n",
    "    \n",
    "        \n",
    "            #             ocr.imshow('img',x)\n",
    "#             ocr.waitKey(0)\n",
    "#         y_train = np_utils.to_categorical(y_train,num_classes)\n",
    "\n",
    "#         for x_batch, y_batch in datagen.flow(x_train,y_train, batch_size=b_s):\n",
    "#         #     print(y_batch)\n",
    "\n",
    "#             model.train_on_batch(x_batch, y_batch)\n",
    "#             batches += 1\n",
    "#             if batches >= 100:\n",
    "#                 break\n",
    "\n",
    "    "
   ]
  },
  {
   "cell_type": "code",
   "execution_count": null,
   "metadata": {
    "collapsed": true
   },
   "outputs": [],
   "source": [
    "print(batch_metric_)\n",
    "df['accuracy'] = batch_metric_acc\n",
    "df['loss'] = batch_metric_loss\n",
    "\n",
    "ax = df.plot(subplots=True)\n",
    "accChart = ax[0]\n",
    "lossChart = ax[1]\n",
    "figAcc =  accChart.get_figure()\n",
    "figAcc.savefig('AccChart.png')\n",
    "figLoss =  lossChart.get_figure()\n",
    "figLoss.savefig('LossChart.png')"
   ]
  },
  {
   "cell_type": "code",
   "execution_count": null,
   "metadata": {
    "collapsed": true
   },
   "outputs": [],
   "source": []
  },
  {
   "cell_type": "code",
   "execution_count": null,
   "metadata": {
    "collapsed": true
   },
   "outputs": [],
   "source": [
    "import heapq\n",
    "for idx in range(0,29):\n",
    "    print('=-----------=')\n",
    "    print('ActualClass : ',np.argmax(y_train[idx]))\n",
    "    print(x_train[idx].shape)\n",
    "    # ocr.imshow('img',x_train[idx])\n",
    "    # ocr.waitKey(0)\n",
    "    arr = np.array([1, 3, 2, 4, 5])\n",
    "    # arr.argsort()[-3:][::-1]\n",
    "    print(model.predict(x_train[idx].reshape(1,500,500,3)/255)[0].argsort()[-4:][::-1])\n",
    "    print(heapq.nlargest(3,model.predict(x_train[idx].reshape(1,500,500,3)/255)[0]))"
   ]
  },
  {
   "cell_type": "code",
   "execution_count": null,
   "metadata": {
    "collapsed": true
   },
   "outputs": [],
   "source": [
    "ax1 = plt.subplot2grid((5,4), (0,0))\n",
    "ax2 = plt.subplot2grid((5,4), (1,1))\n",
    "ax3 = plt.subplot2grid((5,4), (2, 2))\n",
    "ax4 = plt.subplot2grid((5,4), (3, 3))\n",
    "ax5 = plt.subplot2grid((5,4), (4, 0))"
   ]
  },
  {
   "cell_type": "code",
   "execution_count": null,
   "metadata": {
    "collapsed": true
   },
   "outputs": [],
   "source": [
    "len(imageFiles)"
   ]
  },
  {
   "cell_type": "code",
   "execution_count": null,
   "metadata": {
    "collapsed": true
   },
   "outputs": [],
   "source": [
    "import pandas as pd\n",
    "import numpy as np\n",
    "\n",
    "df = pd.read_csv('classTable.csv', names=['classValue','classCount'],header=None)\n",
    "df = df.iloc[1:len(df)-1] # Removing the first row\n",
    "TotalClasses = len(df)\n",
    "\n",
    "cV = []\n",
    "cC = []\n",
    "\n",
    "for index in range(0,TotalClasses):  #Iterating over classes\n",
    "    classValue = int(df.iloc[index]['classValue'])\n",
    "    classCount = int(df.iloc[index]['classCount'])\n",
    "    cV.append(classValue)\n",
    "    cC.append(classCount)\n",
    "\n",
    "topK = 2\n",
    "index = np.argpartition(cC, -topK)[-topK:]\n",
    "\n",
    "TopKimagePathList = []\n",
    "classCounter = 1\n",
    "newClassName = []\n",
    "\n",
    "for i in index:\n",
    "    if cv[i]==217 or cv[i]==65:\n",
    "        df1 = pd.read_csv('datasetPathAndClass.csv', names=['imagePath','imageClass'],header=None)\n",
    "        opdf = df1.query('imageClass == \\''+ str(cV[i]) + '\\'')\n",
    "        for indexPath in range(0,len(opdf)):\n",
    "            newClassName.append(classCounter)\n",
    "            imagePath = opdf.iloc[indexPath]['imagePath']\n",
    "            TopKimagePathList.append(imagePath)\n",
    "        classCounter+=1\n",
    "\n",
    "\n",
    "df2 = pd.DataFrame()\n",
    "df2['FileNames'] = TopKimagePathList\n",
    "df2['ClassNames'] = newClassName\n",
    "df2.to_csv('top_10_new_classes.csv')\n",
    "len(TopKimagePathList)\n",
    "# print(TopKimagePathList)"
   ]
  },
  {
   "cell_type": "code",
   "execution_count": 10,
   "metadata": {},
   "outputs": [
    {
     "name": "stderr",
     "output_type": "stream",
     "text": [
      "Using TensorFlow backend.\n",
      "C:\\Anaconda3\\Lib\\site-packages\\sklearn\\cross_validation.py:44: DeprecationWarning: This module was deprecated in version 0.18 in favor of the model_selection module into which all the refactored classes and functions are moved. Also note that the interface of the new CV iterators are different from that of this module. This module will be removed in 0.20.\n",
      "  \"This module will be removed in 0.20.\", DeprecationWarning)\n"
     ]
    }
   ],
   "source": [
    "import cv2 as ocr\n",
    "import sys\n",
    "import gc\n",
    "import numpy as np\n",
    "from os import listdir\n",
    "from os.path import isfile, join\n",
    "from keras.preprocessing.image import ImageDataGenerator, array_to_img, img_to_array, load_img\n",
    "import math\n",
    "from tqdm import tqdm\n",
    "import keras\n",
    "from keras.utils import np_utils\n",
    "import pandas as pd\n",
    "import tensorflow as tf\n",
    "from keras.backend.tensorflow_backend import set_session\n",
    "from keras.callbacks import TensorBoard\n",
    "from keras.callbacks import ModelCheckpoint\n",
    "from keras.models import Sequential\n",
    "from keras.layers import Input, Conv2D, Dense,MaxPooling2D, Dropout, Flatten\n",
    "import tensorflow as tf\n",
    "import keras\n",
    "import pandas as pd\n",
    "from sklearn.utils import shuffle\n",
    "from sklearn.cross_validation import train_test_split\n",
    "from sklearn.utils import shuffle\n",
    "from tqdm import tqdm, trange"
   ]
  },
  {
   "cell_type": "code",
   "execution_count": 11,
   "metadata": {
    "collapsed": true
   },
   "outputs": [],
   "source": [
    "def getData(dataPath='pathToData',channels = 0):\n",
    "    input_label_list = []\n",
    "    input_data_list = []\n",
    "    imageFiles = []\n",
    "    imageFiles = [dataPath+'/'+f for f in listdir(dataPath) if isfile(join(dataPath, f))]\n",
    "    for imgF in tqdm(imageFiles, total=len(imageFiles), unit=\"files\"):            \n",
    "        input_label_list.append(int(imgF.split('/')[2][0:4]))\n",
    "        input_data_list.append(ocr.imread(imgF,channels))\n",
    "    return np.array(input_data_list),np.array(input_label_list)"
   ]
  },
  {
   "cell_type": "code",
   "execution_count": 13,
   "metadata": {},
   "outputs": [
    {
     "name": "stdout",
     "output_type": "stream",
     "text": [
      "Getting Training Data..\n"
     ]
    },
    {
     "name": "stderr",
     "output_type": "stream",
     "text": [
      "100%|████████████████████████████████████████████████████████████████████████| 17053/17053 [00:40<00:00, 417.81files/s]\n"
     ]
    },
    {
     "name": "stdout",
     "output_type": "stream",
     "text": [
      "Getting Validation Data..\n"
     ]
    },
    {
     "name": "stderr",
     "output_type": "stream",
     "text": [
      "100%|██████████████████████████████████████████████████████████████████████████| 1064/1064 [00:01<00:00, 719.26files/s]\n"
     ]
    },
    {
     "name": "stdout",
     "output_type": "stream",
     "text": [
      "_________________________________________________________________\n",
      "Layer (type)                 Output Shape              Param #   \n",
      "=================================================================\n",
      "conv2d_1 (Conv2D)            (None, 62, 62, 32)        320       \n",
      "_________________________________________________________________\n",
      "dropout_1 (Dropout)          (None, 62, 62, 32)        0         \n",
      "_________________________________________________________________\n",
      "max_pooling2d_1 (MaxPooling2 (None, 31, 31, 32)        0         \n",
      "_________________________________________________________________\n",
      "max_pooling2d_2 (MaxPooling2 (None, 15, 15, 32)        0         \n",
      "_________________________________________________________________\n",
      "max_pooling2d_3 (MaxPooling2 (None, 7, 7, 32)          0         \n",
      "_________________________________________________________________\n",
      "dropout_2 (Dropout)          (None, 7, 7, 32)          0         \n",
      "_________________________________________________________________\n",
      "flatten_1 (Flatten)          (None, 1568)              0         \n",
      "_________________________________________________________________\n",
      "dense_1 (Dense)              (None, 1024)              1606656   \n",
      "_________________________________________________________________\n",
      "dropout_3 (Dropout)          (None, 1024)              0         \n",
      "_________________________________________________________________\n",
      "dense_2 (Dense)              (None, 2048)              2099200   \n",
      "_________________________________________________________________\n",
      "dropout_4 (Dropout)          (None, 2048)              0         \n",
      "_________________________________________________________________\n",
      "dense_3 (Dense)              (None, 1516)              3106284   \n",
      "=================================================================\n",
      "Total params: 6,812,460\n",
      "Trainable params: 6,812,460\n",
      "Non-trainable params: 0\n",
      "_________________________________________________________________\n"
     ]
    }
   ],
   "source": [
    "\n",
    "\n",
    "# imageFiles = TopKimagePathList\n",
    "counter = 0\n",
    "prevClass = -1\n",
    "imageDirTrain = 'Gen2000-Top10-64x64/TrainingSet'\n",
    "imageDirVal = 'Gen2000-Top10-64x64/ValidationSet'\n",
    "print('Getting Training Data..')\n",
    "x_train,y_train = getData(dataPath=imageDirTrain)\n",
    "print('Getting Validation Data..')\n",
    "x_test,y_test = getData(dataPath=imageDirVal)\n",
    "\n",
    "# print(input_label_list)\n",
    "nmbr_classes = max(y_train)+1\n",
    "\n",
    "y_train = keras.utils.to_categorical(y_train,num_classes=nmbr_classes)\n",
    "y_test = keras.utils.to_categorical(y_test,num_classes=nmbr_classes)\n",
    "x_train = x_train.astype('float32')\n",
    "x_train = (255.1-x_train)/255.0\n",
    "x_train = x_train.reshape(-1,64,64,1)\n",
    "x_test = x_test.astype('float32')\n",
    "x_test = (255.1-x_test)/255.0\n",
    "x_test = x_test.reshape(-1,64,64,1)\n",
    "x_train,y_train = shuffle(x_train,y_train, random_state=2)\n",
    "\n",
    "\n",
    "\n",
    "config = tf.ConfigProto()\n",
    "config.gpu_options.per_process_gpu_memory_fraction = 0.7\n",
    "set_session(tf.Session(config=config))\n",
    "input_shape  = (64,64,1)\n",
    "model = Sequential()\n",
    "model.add(Conv2D(32,kernel_size=(3, 3),activation='relu',input_shape=input_shape))\n",
    "# model.add(Conv2D(32, (3, 3), activation='relu'))\n",
    "# model.add(Conv2D(64, (3, 3), activation='relu'))\n",
    "# model.add(Conv2D(64, (3, 3), activation='relu'))\n",
    "model.add(Dropout(0.2))\n",
    "model.add(MaxPooling2D(pool_size=(2, 2),input_shape=input_shape))\n",
    "# model.add(Conv2D(128, (3, 3), activation='relu'))\n",
    "# model.add(Conv2D(128, (3, 3), activation='relu'))\n",
    "model.add(MaxPooling2D(pool_size=(2, 2)))\n",
    "# model.add(Conv2D(128, (3, 3), activation='relu'))\n",
    "# model.add(Conv2D(128, (3, 3), activation='relu'))\n",
    "model.add(MaxPooling2D(pool_size=(2, 2)))\n",
    "model.add(Dropout(0.2))\n",
    "model.add(Flatten())\n",
    "model.add(Dense(1024, activation='relu'))\n",
    "model.add(Dropout(0.2))\n",
    "model.add(Dense(2048, activation='relu'))\n",
    "model.add(Dropout(0.2))\n",
    "model.add(Dense(nmbr_classes, activation='softmax'))\n",
    "\n",
    "model.compile(loss=keras.losses.categorical_crossentropy,\n",
    "              optimizer=keras.optimizers.SGD(lr=0.1, decay=1e-6, momentum=0.9, nesterov=True),\n",
    "#               optimizer = keras.optimizers.Adadelta(),\n",
    "              metrics=['accuracy'])\n",
    "model.summary()\n",
    "\n",
    "\n",
    "LOG_DIR = 'logs/CNN_VGG'\n",
    "tensorCallback = keras.callbacks.TensorBoard(log_dir=LOG_DIR\n",
    "                            , batch_size=32\n",
    "                            , write_graph=True\n",
    "                            , write_grads=True\n",
    "                            , write_images=False\n",
    "                            , embeddings_freq=0\n",
    "                            , embeddings_layer_names=None\n",
    "                            , embeddings_metadata=None)\n",
    "\n",
    "\n",
    "filepath=\"weights/inverted-10-Class-valSplit-{epoch:02d}-{loss:.2f}-{acc:.2f}.hdf5\"\n",
    "checkpoint = ModelCheckpoint(filepath\n",
    "           , monitor='loss'\n",
    "           , verbose=1\n",
    "           , save_best_only=True\n",
    "           , mode='min'\n",
    "            ,period = 100\n",
    "           , save_weights_only=True)\n",
    "\n",
    "callbacks_list = [tensorCallback,checkpoint]"
   ]
  },
  {
   "cell_type": "code",
   "execution_count": 2,
   "metadata": {
    "collapsed": true
   },
   "outputs": [],
   "source": [
    "# ctr = 0\n",
    "# for imgt in input_data_list:\n",
    "#     ocr.imshow('img',imgt)\n",
    "#     ocr.waitKey(0)\n",
    "#     ctr+=1\n",
    "#     if ctr==10:\n",
    "#         break"
   ]
  },
  {
   "cell_type": "code",
   "execution_count": 14,
   "metadata": {},
   "outputs": [
    {
     "data": {
      "text/plain": [
       "(17053, 64, 64, 1)"
      ]
     },
     "execution_count": 14,
     "metadata": {},
     "output_type": "execute_result"
    }
   ],
   "source": [
    "x_train.shape"
   ]
  },
  {
   "cell_type": "code",
   "execution_count": null,
   "metadata": {
    "scrolled": true
   },
   "outputs": [
    {
     "name": "stdout",
     "output_type": "stream",
     "text": [
      "Train on 17053 samples, validate on 1064 samples\n",
      "Epoch 1/50\n"
     ]
    }
   ],
   "source": [
    "%matplotlib inline\n",
    "batches = 64\n",
    "epochs = 50\n",
    "hist = model.fit(x_train, y_train,\n",
    "        batch_size=batches,\n",
    "        epochs=epochs,\n",
    "        verbose=2,\n",
    "        shuffle=True,\n",
    "        validation_data = (x_test,y_test),\n",
    "        callbacks=callbacks_list)"
   ]
  },
  {
   "cell_type": "code",
   "execution_count": 27,
   "metadata": {},
   "outputs": [
    {
     "data": {
      "text/plain": [
       "<matplotlib.axes._subplots.AxesSubplot at 0x22795eed5c0>"
      ]
     },
     "execution_count": 27,
     "metadata": {},
     "output_type": "execute_result"
    },
    {
     "data": {
      "image/png": "[encoded data removed]",
      "text/plain": [
       "<matplotlib.figure.Figure at 0x22781f24048>"
      ]
     },
     "metadata": {},
     "output_type": "display_data"
    }
   ],
   "source": [
    "df = pd.DataFrame(hist.history)\n",
    "df.plot()"
   ]
  },
  {
   "cell_type": "code",
   "execution_count": 8,
   "metadata": {
    "collapsed": true
   },
   "outputs": [],
   "source": [
    "df.to_csv('neuralnet-inverted-10-classes.csv')"
   ]
  },
  {
   "cell_type": "code",
   "execution_count": null,
   "metadata": {
    "collapsed": true
   },
   "outputs": [],
   "source": [
    "import tensorflow as tf\n",
    "import time\n",
    "import numpy as np\n",
    "import cv2 as ocr\n",
    "dim = 4096\n",
    "l_  = tf.placeholder(tf.float32, [dim], name='left')\n",
    "r_  = tf.placeholder(tf.float32, [dim], name='right')\n",
    "# y_ = \n",
    "def distance(l,r):\n",
    "    l2diff = tf.sqrt( tf.reduce_sum(tf.square(tf.subtract(l, r)),reduction_indices=None))\n",
    "    return l2diff\n",
    "\n",
    "def distnp(l,r):\n",
    "    l2diff = np.sqrt(np.sum(np.square(np.subtract(l,r))))\n",
    "    return l2diff\n",
    "distance_ = distance(l_, r_)\n",
    "\n",
    "\n",
    "x1 = np.array(ocr.imread('resized_images_handprinted/images/0001a_num1.png',0)).flatten()/255.0\n",
    "x2 = np.array(ocr.imread('resized_images_handprinted/images/0001a_num1.png',0)).flatten()/255.0\n",
    "print(x1.shape)\n",
    "with tf.Session() as sess:\n",
    "    tf.initialize_all_variables().run()\n",
    "    start_time = time.time()\n",
    "    # l = sess.run(distance_, feed_dict={l_:x1, r_:x2})\n",
    "    print('tf_result:',sess.run(distance_, feed_dict={l_:x1, r_:x2}))\n",
    "    duration = time.time() - start_time\n",
    "    print('tf_duration:',duration)\n",
    "print('----------------------')\n",
    "start_time = time.time()\n",
    "print('np_result',distnp(x1,x2))\n",
    "duration = time.time() - start_time\n",
    "print('np-duration:',duration)"
   ]
  },
  {
   "cell_type": "code",
   "execution_count": null,
   "metadata": {
    "collapsed": true
   },
   "outputs": [],
   "source": [
    "x1/255.0"
   ]
  },
  {
   "cell_type": "code",
   "execution_count": null,
   "metadata": {
    "collapsed": true
   },
   "outputs": [],
   "source": [
    "x2/255.0"
   ]
  },
  {
   "cell_type": "code",
   "execution_count": null,
   "metadata": {
    "collapsed": true
   },
   "outputs": [],
   "source": [
    "x_train[0].shape"
   ]
  },
  {
   "cell_type": "code",
   "execution_count": null,
   "metadata": {
    "collapsed": true
   },
   "outputs": [],
   "source": [
    "def maxpool2d(x, k=2, layer_name='mp'):\n",
    "    # MaxPool2D wrapper\n",
    "    return tf.nn.max_pool(\n",
    "    value = x,\n",
    "    ksize = [1,k,k,1],\n",
    "    strides = [1,k,k,1],\n",
    "    padding = 'SAME',\n",
    "    data_format= 'NHWC',\n",
    "    name = layer_name\n",
    "    )"
   ]
  },
  {
   "cell_type": "code",
   "execution_count": null,
   "metadata": {
    "collapsed": true
   },
   "outputs": [],
   "source": [
    "tf.initialize_all_variables()\n",
    "\n",
    "with tf.Session() as sess:\n",
    "    imgLeft = (255.0-ocr.imread('resized_images_handprinted/images/0001a_num1.png',0))/255.0\n",
    "    imgLeft = imgLeft.reshape(1,64,64,1)\n",
    "    mpLeft1 = maxpool2d(imgLeft,layer_name='left-max-pool-layer-1')\n",
    "    mpLeft2 = maxpool2d(mpLeft1,layer_name='left-max-pool-layer-2')\n",
    "    v = mpLeft2.eval()\n",
    "    print(v)\n",
    "    "
   ]
  },
  {
   "cell_type": "code",
   "execution_count": 29,
   "metadata": {
    "collapsed": true
   },
   "outputs": [],
   "source": [
    "dfAll = pd.DataFrame.from_csv('allData_loss_acc_metrics.csv')"
   ]
  },
  {
   "cell_type": "code",
   "execution_count": 31,
   "metadata": {},
   "outputs": [
    {
     "data": {
      "text/plain": [
       "array([<matplotlib.axes._subplots.AxesSubplot object at 0x00000227960A2780>,\n",
       "       <matplotlib.axes._subplots.AxesSubplot object at 0x00000227BE6D5780>,\n",
       "       <matplotlib.axes._subplots.AxesSubplot object at 0x00000227BE767A20>,\n",
       "       <matplotlib.axes._subplots.AxesSubplot object at 0x00000227BF907048>], dtype=object)"
      ]
     },
     "execution_count": 31,
     "metadata": {},
     "output_type": "execute_result"
    },
    {
     "data": {
      "image/png": "[encoded data removed]",
      "text/plain": [
       "<matplotlib.figure.Figure at 0x22795ff88d0>"
      ]
     },
     "metadata": {},
     "output_type": "display_data"
    }
   ],
   "source": [
    "dfAll.plot(subplots=True, figsize=(10,10))"
   ]
  },
  {
   "cell_type": "code",
   "execution_count": 2,
   "metadata": {},
   "outputs": [
    {
     "data": {
      "text/plain": [
       "3.5"
      ]
     },
     "execution_count": 2,
     "metadata": {},
     "output_type": "execute_result"
    }
   ],
   "source": [
    "import numpy as np\n",
    "a = [1,2,3,4,5,6]\n",
    "np.average(a)"
   ]
  },
  {
   "cell_type": "code",
   "execution_count": null,
   "metadata": {
    "collapsed": true
   },
   "outputs": [],
   "source": []
  }
 ],
 "metadata": {
  "kernelspec": {
   "display_name": "Python3 (tf-gpu)",
   "language": "python",
   "name": "tf-gpu"
  },
  "language_info": {
   "codemirror_mode": {
    "name": "ipython",
    "version": 3
   },
   "file_extension": ".py",
   "mimetype": "text/x-python",
   "name": "python",
   "nbconvert_exporter": "python",
   "pygments_lexer": "ipython3",
   "version": "3.6.2"
  }
 },
 "nbformat": 4,
 "nbformat_minor": 2
}
